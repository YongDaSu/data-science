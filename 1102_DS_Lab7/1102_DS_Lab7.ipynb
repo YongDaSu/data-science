{
 "cells": [
  {
   "cell_type": "markdown",
   "metadata": {},
   "source": [
    "## 1102_DS_Lab7\n",
    "## Simple Linear Regression\n",
    "\n",
    "We will start with the most familiar linear regression, a straight-line fit to data.\n",
    "A straight-line fit is a model of the form\n",
    "$$\n",
    "y = a + bx\n",
    "$$\n",
    "where $b$ is commonly known as the *slope*, and $a$ is commonly known as the *intercept*.\n",
    "\n",
    "Consider the following data, which is scattered about a line with a slope of 2 and an intercept of -5:"
   ]
  },
  {
   "cell_type": "code",
   "execution_count": 4,
   "metadata": {},
   "outputs": [],
   "source": [
    "%matplotlib inline\n",
    "import matplotlib.pyplot as plt\n",
    "import numpy as np\n",
    "import pandas as pd\n",
    "import seaborn as sns; sns.set()"
   ]
  },
  {
   "cell_type": "code",
   "execution_count": 5,
   "metadata": {},
   "outputs": [
    {
     "data": {
      "text/plain": [
       "array([4.17022005e+00, 7.20324493e+00, 1.14374817e-03, 3.02332573e+00,\n",
       "       1.46755891e+00, 9.23385948e-01, 1.86260211e+00, 3.45560727e+00,\n",
       "       3.96767474e+00, 5.38816734e+00, 4.19194514e+00, 6.85219500e+00,\n",
       "       2.04452250e+00, 8.78117436e+00, 2.73875932e-01, 6.70467510e+00,\n",
       "       4.17304802e+00, 5.58689828e+00, 1.40386939e+00, 1.98101489e+00,\n",
       "       8.00744569e+00, 9.68261576e+00, 3.13424178e+00, 6.92322616e+00,\n",
       "       8.76389152e+00, 8.94606664e+00, 8.50442114e-01, 3.90547832e-01,\n",
       "       1.69830420e+00, 8.78142503e+00, 9.83468338e-01, 4.21107625e+00,\n",
       "       9.57889530e+00, 5.33165285e+00, 6.91877114e+00, 3.15515631e+00,\n",
       "       6.86500928e+00, 8.34625672e+00, 1.82882773e-01, 7.50144315e+00,\n",
       "       9.88861089e+00, 7.48165654e+00, 2.80443992e+00, 7.89279328e+00,\n",
       "       1.03226007e+00, 4.47893526e+00, 9.08595503e+00, 2.93614148e+00,\n",
       "       2.87775339e+00, 1.30028572e+00])"
      ]
     },
     "execution_count": 5,
     "metadata": {},
     "output_type": "execute_result"
    },
    {
     "data": {
      "image/png": "[encoded data removed]",
      "text/plain": [
       "<Figure size 432x288 with 1 Axes>"
      ]
     },
     "metadata": {},
     "output_type": "display_data"
    }
   ],
   "source": [
    "rng = np.random.RandomState(1)\n",
    "x = 10 * rng.rand(50)\n",
    "y = 2 * x - 5 + rng.randn(50)\n",
    "plt.scatter(x, y);\n",
    "x"
   ]
  },
  {
   "cell_type": "code",
   "execution_count": 6,
   "metadata": {},
   "outputs": [
    {
     "data": {
      "text/plain": [
       "(50, 1)"
      ]
     },
     "execution_count": 6,
     "metadata": {},
     "output_type": "execute_result"
    }
   ],
   "source": [
    "x[:,np.newaxis].shape"
   ]
  },
  {
   "cell_type": "code",
   "execution_count": 87,
   "metadata": {},
   "outputs": [],
   "source": [
    "from sklearn.datasets import make_regression\n",
    "XX, yy = make_regression(n_samples=1000, n_features=3)"
   ]
  },
  {
   "cell_type": "code",
   "execution_count": 89,
   "metadata": {},
   "outputs": [
    {
     "data": {
      "text/plain": [
       "(1000, 3)"
      ]
     },
     "execution_count": 89,
     "metadata": {},
     "output_type": "execute_result"
    }
   ],
   "source": [
    "XX.shape"
   ]
  },
  {
   "cell_type": "code",
   "execution_count": 90,
   "metadata": {},
   "outputs": [
    {
     "data": {
      "text/plain": [
       "(1000,)"
      ]
     },
     "execution_count": 90,
     "metadata": {},
     "output_type": "execute_result"
    }
   ],
   "source": [
    "yy.shape"
   ]
  },
  {
   "cell_type": "code",
   "execution_count": 91,
   "metadata": {},
   "outputs": [
    {
     "data": {
      "image/png": "[encoded data removed]",
      "text/plain": [
       "<Figure size 432x288 with 1 Axes>"
      ]
     },
     "metadata": {},
     "output_type": "display_data"
    }
   ],
   "source": [
    "from sklearn.linear_model import LinearRegression\n",
    "model = LinearRegression(fit_intercept=True) # 一般採用預設參數設置，可根據自己實際要求設置參數\n",
    "model.fit(x[:, np.newaxis], y) # 訓練\n",
    "\n",
    "xfit = np.linspace(0, 10, 1000)  # 繪圖用的x軸座標\n",
    "y_pred = model.predict(xfit[:, np.newaxis])  # 使用 x軸座標值 預測 y 值\n",
    "\n",
    "plt.scatter(x, y)\n",
    "plt.plot(xfit, y_pred, 'r');    # 用紅線標示"
   ]
  },
  {
   "cell_type": "code",
   "execution_count": 92,
   "metadata": {},
   "outputs": [
    {
     "name": "stdout",
     "output_type": "stream",
     "text": [
      "Model slope:     [2.02720881]\n",
      "Model intercept: -4.9985770855532055\n"
     ]
    }
   ],
   "source": [
    "print(\"Model slope:    \", model.coef_)\n",
    "print(\"Model intercept:\", model.intercept_)"
   ]
  },
  {
   "cell_type": "code",
   "execution_count": 93,
   "metadata": {},
   "outputs": [
    {
     "name": "stdout",
     "output_type": "stream",
     "text": [
      "(100,)\n",
      "0.5000000000000091\n",
      "[ 1.5 -2.   1. ]\n"
     ]
    }
   ],
   "source": [
    "#Example for multiple linear regression\n",
    "rng = np.random.RandomState(1)\n",
    "X = 10 * rng.rand(100, 3)\n",
    "y = 0.5 + np.dot(X, [1.5, -2., 1.])\n",
    "print(y.shape)\n",
    "# Constructing Linear Regressin Model\n",
    "model.fit(X, y)\n",
    "print(model.intercept_)\n",
    "print(model.coef_)"
   ]
  },
  {
   "cell_type": "markdown",
   "metadata": {},
   "source": [
    "## Use practical dataset (Boston Housing Price)"
   ]
  },
  {
   "cell_type": "code",
   "execution_count": 94,
   "metadata": {},
   "outputs": [],
   "source": [
    "from sklearn import datasets ## imports datasets from scikit-learn\n",
    "data = datasets.load_boston() ## loads Boston dataset from datasets library "
   ]
  },
  {
   "cell_type": "code",
   "execution_count": 95,
   "metadata": {},
   "outputs": [],
   "source": [
    "datasets.load_*?"
   ]
  },
  {
   "cell_type": "code",
   "execution_count": 96,
   "metadata": {},
   "outputs": [
    {
     "name": "stdout",
     "output_type": "stream",
     "text": [
      ".. _boston_dataset:\n",
      "\n",
      "Boston house prices dataset\n",
      "---------------------------\n",
      "\n",
      "**Data Set Characteristics:**  \n",
      "\n",
      "    :Number of Instances: 506 \n",
      "\n",
      "    :Number of Attributes: 13 numeric/categorical predictive. Median Value (attribute 14) is usually the target.\n",
      "\n",
      "    :Attribute Information (in order):\n",
      "        - CRIM     per capita crime rate by town\n",
      "        - ZN       proportion of residential land zoned for lots over 25,000 sq.ft.\n",
      "        - INDUS    proportion of non-retail business acres per town\n",
      "        - CHAS     Charles River dummy variable (= 1 if tract bounds river; 0 otherwise)\n",
      "        - NOX      nitric oxides concentration (parts per 10 million)\n",
      "        - RM       average number of rooms per dwelling\n",
      "        - AGE      proportion of owner-occupied units built prior to 1940\n",
      "        - DIS      weighted distances to five Boston employment centres\n",
      "        - RAD      index of accessibility to radial highways\n",
      "        - TAX      full-value property-tax rate per $10,000\n",
      "        - PTRATIO  pupil-teacher ratio by town\n",
      "        - B        1000(Bk - 0.63)^2 where Bk is the proportion of blacks by town\n",
      "        - LSTAT    % lower status of the population\n",
      "        - MEDV     Median value of owner-occupied homes in $1000's\n",
      "\n",
      "    :Missing Attribute Values: None\n",
      "\n",
      "    :Creator: Harrison, D. and Rubinfeld, D.L.\n",
      "\n",
      "This is a copy of UCI ML housing dataset.\n",
      "https://archive.ics.uci.edu/ml/machine-learning-databases/housing/\n",
      "\n",
      "\n",
      "This dataset was taken from the StatLib library which is maintained at Carnegie Mellon University.\n",
      "\n",
      "The Boston house-price data of Harrison, D. and Rubinfeld, D.L. 'Hedonic\n",
      "prices and the demand for clean air', J. Environ. Economics & Management,\n",
      "vol.5, 81-102, 1978.   Used in Belsley, Kuh & Welsch, 'Regression diagnostics\n",
      "...', Wiley, 1980.   N.B. Various transformations are used in the table on\n",
      "pages 244-261 of the latter.\n",
      "\n",
      "The Boston house-price data has been used in many machine learning papers that address regression\n",
      "problems.   \n",
      "     \n",
      ".. topic:: References\n",
      "\n",
      "   - Belsley, Kuh & Welsch, 'Regression diagnostics: Identifying Influential Data and Sources of Collinearity', Wiley, 1980. 244-261.\n",
      "   - Quinlan,R. (1993). Combining Instance-Based and Model-Based Learning. In Proceedings on the Tenth International Conference of Machine Learning, 236-243, University of Massachusetts, Amherst. Morgan Kaufmann.\n",
      "\n"
     ]
    }
   ],
   "source": [
    "print(data.DESCR)"
   ]
  },
  {
   "cell_type": "code",
   "execution_count": 97,
   "metadata": {},
   "outputs": [
    {
     "name": "stdout",
     "output_type": "stream",
     "text": [
      "dict_keys(['data', 'target', 'feature_names', 'DESCR', 'filename'])\n"
     ]
    }
   ],
   "source": [
    "print(data.keys())"
   ]
  },
  {
   "cell_type": "markdown",
   "metadata": {},
   "source": [
    "### data： 每個房子的資訊\n",
    "### target： 每個房子的價格\n",
    "### feature_names： 每個房子的特徵\n",
    "### DESCR： 這個資料集的描述"
   ]
  },
  {
   "cell_type": "code",
   "execution_count": 98,
   "metadata": {},
   "outputs": [
    {
     "data": {
      "text/plain": [
       "array(['CRIM', 'ZN', 'INDUS', 'CHAS', 'NOX', 'RM', 'AGE', 'DIS', 'RAD',\n",
       "       'TAX', 'PTRATIO', 'B', 'LSTAT'], dtype='<U7')"
      ]
     },
     "execution_count": 98,
     "metadata": {},
     "output_type": "execute_result"
    }
   ],
   "source": [
    "data.feature_names  #independent variables"
   ]
  },
  {
   "cell_type": "code",
   "execution_count": 99,
   "metadata": {},
   "outputs": [
    {
     "data": {
      "text/plain": [
       "array([[6.3200e-03, 1.8000e+01, 2.3100e+00, ..., 1.5300e+01, 3.9690e+02,\n",
       "        4.9800e+00],\n",
       "       [2.7310e-02, 0.0000e+00, 7.0700e+00, ..., 1.7800e+01, 3.9690e+02,\n",
       "        9.1400e+00],\n",
       "       [2.7290e-02, 0.0000e+00, 7.0700e+00, ..., 1.7800e+01, 3.9283e+02,\n",
       "        4.0300e+00],\n",
       "       ...,\n",
       "       [6.0760e-02, 0.0000e+00, 1.1930e+01, ..., 2.1000e+01, 3.9690e+02,\n",
       "        5.6400e+00],\n",
       "       [1.0959e-01, 0.0000e+00, 1.1930e+01, ..., 2.1000e+01, 3.9345e+02,\n",
       "        6.4800e+00],\n",
       "       [4.7410e-02, 0.0000e+00, 1.1930e+01, ..., 2.1000e+01, 3.9690e+02,\n",
       "        7.8800e+00]])"
      ]
     },
     "execution_count": 99,
     "metadata": {},
     "output_type": "execute_result"
    }
   ],
   "source": [
    "data.data"
   ]
  },
  {
   "cell_type": "code",
   "execution_count": 100,
   "metadata": {
    "scrolled": true
   },
   "outputs": [
    {
     "data": {
      "text/plain": [
       "array([24. , 21.6, 34.7, 33.4, 36.2, 28.7, 22.9, 27.1, 16.5, 18.9, 15. ,\n",
       "       18.9, 21.7, 20.4, 18.2, 19.9, 23.1, 17.5, 20.2, 18.2, 13.6, 19.6,\n",
       "       15.2, 14.5, 15.6, 13.9, 16.6, 14.8, 18.4, 21. , 12.7, 14.5, 13.2,\n",
       "       13.1, 13.5, 18.9, 20. , 21. , 24.7, 30.8, 34.9, 26.6, 25.3, 24.7,\n",
       "       21.2, 19.3, 20. , 16.6, 14.4, 19.4, 19.7, 20.5, 25. , 23.4, 18.9,\n",
       "       35.4, 24.7, 31.6, 23.3, 19.6, 18.7, 16. , 22.2, 25. , 33. , 23.5,\n",
       "       19.4, 22. , 17.4, 20.9, 24.2, 21.7, 22.8, 23.4, 24.1, 21.4, 20. ,\n",
       "       20.8, 21.2, 20.3, 28. , 23.9, 24.8, 22.9, 23.9, 26.6, 22.5, 22.2,\n",
       "       23.6, 28.7, 22.6, 22. , 22.9, 25. , 20.6, 28.4, 21.4, 38.7, 43.8,\n",
       "       33.2, 27.5, 26.5, 18.6, 19.3, 20.1, 19.5, 19.5, 20.4, 19.8, 19.4,\n",
       "       21.7, 22.8, 18.8, 18.7, 18.5, 18.3, 21.2, 19.2, 20.4, 19.3, 22. ,\n",
       "       20.3, 20.5, 17.3, 18.8, 21.4, 15.7, 16.2, 18. , 14.3, 19.2, 19.6,\n",
       "       23. , 18.4, 15.6, 18.1, 17.4, 17.1, 13.3, 17.8, 14. , 14.4, 13.4,\n",
       "       15.6, 11.8, 13.8, 15.6, 14.6, 17.8, 15.4, 21.5, 19.6, 15.3, 19.4,\n",
       "       17. , 15.6, 13.1, 41.3, 24.3, 23.3, 27. , 50. , 50. , 50. , 22.7,\n",
       "       25. , 50. , 23.8, 23.8, 22.3, 17.4, 19.1, 23.1, 23.6, 22.6, 29.4,\n",
       "       23.2, 24.6, 29.9, 37.2, 39.8, 36.2, 37.9, 32.5, 26.4, 29.6, 50. ,\n",
       "       32. , 29.8, 34.9, 37. , 30.5, 36.4, 31.1, 29.1, 50. , 33.3, 30.3,\n",
       "       34.6, 34.9, 32.9, 24.1, 42.3, 48.5, 50. , 22.6, 24.4, 22.5, 24.4,\n",
       "       20. , 21.7, 19.3, 22.4, 28.1, 23.7, 25. , 23.3, 28.7, 21.5, 23. ,\n",
       "       26.7, 21.7, 27.5, 30.1, 44.8, 50. , 37.6, 31.6, 46.7, 31.5, 24.3,\n",
       "       31.7, 41.7, 48.3, 29. , 24. , 25.1, 31.5, 23.7, 23.3, 22. , 20.1,\n",
       "       22.2, 23.7, 17.6, 18.5, 24.3, 20.5, 24.5, 26.2, 24.4, 24.8, 29.6,\n",
       "       42.8, 21.9, 20.9, 44. , 50. , 36. , 30.1, 33.8, 43.1, 48.8, 31. ,\n",
       "       36.5, 22.8, 30.7, 50. , 43.5, 20.7, 21.1, 25.2, 24.4, 35.2, 32.4,\n",
       "       32. , 33.2, 33.1, 29.1, 35.1, 45.4, 35.4, 46. , 50. , 32.2, 22. ,\n",
       "       20.1, 23.2, 22.3, 24.8, 28.5, 37.3, 27.9, 23.9, 21.7, 28.6, 27.1,\n",
       "       20.3, 22.5, 29. , 24.8, 22. , 26.4, 33.1, 36.1, 28.4, 33.4, 28.2,\n",
       "       22.8, 20.3, 16.1, 22.1, 19.4, 21.6, 23.8, 16.2, 17.8, 19.8, 23.1,\n",
       "       21. , 23.8, 23.1, 20.4, 18.5, 25. , 24.6, 23. , 22.2, 19.3, 22.6,\n",
       "       19.8, 17.1, 19.4, 22.2, 20.7, 21.1, 19.5, 18.5, 20.6, 19. , 18.7,\n",
       "       32.7, 16.5, 23.9, 31.2, 17.5, 17.2, 23.1, 24.5, 26.6, 22.9, 24.1,\n",
       "       18.6, 30.1, 18.2, 20.6, 17.8, 21.7, 22.7, 22.6, 25. , 19.9, 20.8,\n",
       "       16.8, 21.9, 27.5, 21.9, 23.1, 50. , 50. , 50. , 50. , 50. , 13.8,\n",
       "       13.8, 15. , 13.9, 13.3, 13.1, 10.2, 10.4, 10.9, 11.3, 12.3,  8.8,\n",
       "        7.2, 10.5,  7.4, 10.2, 11.5, 15.1, 23.2,  9.7, 13.8, 12.7, 13.1,\n",
       "       12.5,  8.5,  5. ,  6.3,  5.6,  7.2, 12.1,  8.3,  8.5,  5. , 11.9,\n",
       "       27.9, 17.2, 27.5, 15. , 17.2, 17.9, 16.3,  7. ,  7.2,  7.5, 10.4,\n",
       "        8.8,  8.4, 16.7, 14.2, 20.8, 13.4, 11.7,  8.3, 10.2, 10.9, 11. ,\n",
       "        9.5, 14.5, 14.1, 16.1, 14.3, 11.7, 13.4,  9.6,  8.7,  8.4, 12.8,\n",
       "       10.5, 17.1, 18.4, 15.4, 10.8, 11.8, 14.9, 12.6, 14.1, 13. , 13.4,\n",
       "       15.2, 16.1, 17.8, 14.9, 14.1, 12.7, 13.5, 14.9, 20. , 16.4, 17.7,\n",
       "       19.5, 20.2, 21.4, 19.9, 19. , 19.1, 19.1, 20.1, 19.9, 19.6, 23.2,\n",
       "       29.8, 13.8, 13.3, 16.7, 12. , 14.6, 21.4, 23. , 23.7, 25. , 21.8,\n",
       "       20.6, 21.2, 19.1, 20.6, 15.2,  7. ,  8.1, 13.6, 20.1, 21.8, 24.5,\n",
       "       23.1, 19.7, 18.3, 21.2, 17.5, 16.8, 22.4, 20.6, 23.9, 22. , 11.9])"
      ]
     },
     "execution_count": 100,
     "metadata": {},
     "output_type": "execute_result"
    }
   ],
   "source": [
    "data.target  #dependent variable"
   ]
  },
  {
   "cell_type": "code",
   "execution_count": 101,
   "metadata": {},
   "outputs": [
    {
     "data": {
      "text/html": [
       "<div>\n",
       "<style scoped>\n",
       "    .dataframe tbody tr th:only-of-type {\n",
       "        vertical-align: middle;\n",
       "    }\n",
       "\n",
       "    .dataframe tbody tr th {\n",
       "        vertical-align: top;\n",
       "    }\n",
       "\n",
       "    .dataframe thead th {\n",
       "        text-align: right;\n",
       "    }\n",
       "</style>\n",
       "<table border=\"1\" class=\"dataframe\">\n",
       "  <thead>\n",
       "    <tr style=\"text-align: right;\">\n",
       "      <th></th>\n",
       "      <th>CRIM</th>\n",
       "      <th>ZN</th>\n",
       "      <th>INDUS</th>\n",
       "      <th>CHAS</th>\n",
       "      <th>NOX</th>\n",
       "      <th>RM</th>\n",
       "      <th>AGE</th>\n",
       "      <th>DIS</th>\n",
       "      <th>RAD</th>\n",
       "      <th>TAX</th>\n",
       "      <th>PTRATIO</th>\n",
       "      <th>B</th>\n",
       "      <th>LSTAT</th>\n",
       "    </tr>\n",
       "  </thead>\n",
       "  <tbody>\n",
       "    <tr>\n",
       "      <th>0</th>\n",
       "      <td>0.00632</td>\n",
       "      <td>18.0</td>\n",
       "      <td>2.31</td>\n",
       "      <td>0.0</td>\n",
       "      <td>0.538</td>\n",
       "      <td>6.575</td>\n",
       "      <td>65.2</td>\n",
       "      <td>4.0900</td>\n",
       "      <td>1.0</td>\n",
       "      <td>296.0</td>\n",
       "      <td>15.3</td>\n",
       "      <td>396.90</td>\n",
       "      <td>4.98</td>\n",
       "    </tr>\n",
       "    <tr>\n",
       "      <th>1</th>\n",
       "      <td>0.02731</td>\n",
       "      <td>0.0</td>\n",
       "      <td>7.07</td>\n",
       "      <td>0.0</td>\n",
       "      <td>0.469</td>\n",
       "      <td>6.421</td>\n",
       "      <td>78.9</td>\n",
       "      <td>4.9671</td>\n",
       "      <td>2.0</td>\n",
       "      <td>242.0</td>\n",
       "      <td>17.8</td>\n",
       "      <td>396.90</td>\n",
       "      <td>9.14</td>\n",
       "    </tr>\n",
       "    <tr>\n",
       "      <th>2</th>\n",
       "      <td>0.02729</td>\n",
       "      <td>0.0</td>\n",
       "      <td>7.07</td>\n",
       "      <td>0.0</td>\n",
       "      <td>0.469</td>\n",
       "      <td>7.185</td>\n",
       "      <td>61.1</td>\n",
       "      <td>4.9671</td>\n",
       "      <td>2.0</td>\n",
       "      <td>242.0</td>\n",
       "      <td>17.8</td>\n",
       "      <td>392.83</td>\n",
       "      <td>4.03</td>\n",
       "    </tr>\n",
       "    <tr>\n",
       "      <th>3</th>\n",
       "      <td>0.03237</td>\n",
       "      <td>0.0</td>\n",
       "      <td>2.18</td>\n",
       "      <td>0.0</td>\n",
       "      <td>0.458</td>\n",
       "      <td>6.998</td>\n",
       "      <td>45.8</td>\n",
       "      <td>6.0622</td>\n",
       "      <td>3.0</td>\n",
       "      <td>222.0</td>\n",
       "      <td>18.7</td>\n",
       "      <td>394.63</td>\n",
       "      <td>2.94</td>\n",
       "    </tr>\n",
       "    <tr>\n",
       "      <th>4</th>\n",
       "      <td>0.06905</td>\n",
       "      <td>0.0</td>\n",
       "      <td>2.18</td>\n",
       "      <td>0.0</td>\n",
       "      <td>0.458</td>\n",
       "      <td>7.147</td>\n",
       "      <td>54.2</td>\n",
       "      <td>6.0622</td>\n",
       "      <td>3.0</td>\n",
       "      <td>222.0</td>\n",
       "      <td>18.7</td>\n",
       "      <td>396.90</td>\n",
       "      <td>5.33</td>\n",
       "    </tr>\n",
       "  </tbody>\n",
       "</table>\n",
       "</div>"
      ],
      "text/plain": [
       "      CRIM    ZN  INDUS  CHAS    NOX     RM   AGE     DIS  RAD    TAX  \\\n",
       "0  0.00632  18.0   2.31   0.0  0.538  6.575  65.2  4.0900  1.0  296.0   \n",
       "1  0.02731   0.0   7.07   0.0  0.469  6.421  78.9  4.9671  2.0  242.0   \n",
       "2  0.02729   0.0   7.07   0.0  0.469  7.185  61.1  4.9671  2.0  242.0   \n",
       "3  0.03237   0.0   2.18   0.0  0.458  6.998  45.8  6.0622  3.0  222.0   \n",
       "4  0.06905   0.0   2.18   0.0  0.458  7.147  54.2  6.0622  3.0  222.0   \n",
       "\n",
       "   PTRATIO       B  LSTAT  \n",
       "0     15.3  396.90   4.98  \n",
       "1     17.8  396.90   9.14  \n",
       "2     17.8  392.83   4.03  \n",
       "3     18.7  394.63   2.94  \n",
       "4     18.7  396.90   5.33  "
      ]
     },
     "execution_count": 101,
     "metadata": {},
     "output_type": "execute_result"
    }
   ],
   "source": [
    "# define the data/predictors as the pre-set feature names\n",
    "df = pd.DataFrame(data.data, columns=data.feature_names)\n",
    "df.head()"
   ]
  },
  {
   "cell_type": "code",
   "execution_count": 102,
   "metadata": {},
   "outputs": [
    {
     "data": {
      "text/html": [
       "<div>\n",
       "<style scoped>\n",
       "    .dataframe tbody tr th:only-of-type {\n",
       "        vertical-align: middle;\n",
       "    }\n",
       "\n",
       "    .dataframe tbody tr th {\n",
       "        vertical-align: top;\n",
       "    }\n",
       "\n",
       "    .dataframe thead th {\n",
       "        text-align: right;\n",
       "    }\n",
       "</style>\n",
       "<table border=\"1\" class=\"dataframe\">\n",
       "  <thead>\n",
       "    <tr style=\"text-align: right;\">\n",
       "      <th></th>\n",
       "      <th>MEDV</th>\n",
       "    </tr>\n",
       "  </thead>\n",
       "  <tbody>\n",
       "    <tr>\n",
       "      <th>0</th>\n",
       "      <td>24.0</td>\n",
       "    </tr>\n",
       "    <tr>\n",
       "      <th>1</th>\n",
       "      <td>21.6</td>\n",
       "    </tr>\n",
       "    <tr>\n",
       "      <th>2</th>\n",
       "      <td>34.7</td>\n",
       "    </tr>\n",
       "    <tr>\n",
       "      <th>3</th>\n",
       "      <td>33.4</td>\n",
       "    </tr>\n",
       "    <tr>\n",
       "      <th>4</th>\n",
       "      <td>36.2</td>\n",
       "    </tr>\n",
       "  </tbody>\n",
       "</table>\n",
       "</div>"
      ],
      "text/plain": [
       "   MEDV\n",
       "0  24.0\n",
       "1  21.6\n",
       "2  34.7\n",
       "3  33.4\n",
       "4  36.2"
      ]
     },
     "execution_count": 102,
     "metadata": {},
     "output_type": "execute_result"
    }
   ],
   "source": [
    "# Put the target (housing value -- MEDV) in another DataFrame\n",
    "target = pd.DataFrame(data.target, columns=[\"MEDV\"])\n",
    "target.head()"
   ]
  },
  {
   "cell_type": "code",
   "execution_count": 110,
   "metadata": {},
   "outputs": [
    {
     "data": {
      "image/png": "[encoded data removed]",
      "text/plain": [
       "<Figure size 720x720 with 1 Axes>"
      ]
     },
     "metadata": {},
     "output_type": "display_data"
    }
   ],
   "source": [
    "import seaborn as sns\n",
    "# 用seaborne 觀看房價分佈，使用的資料是房價MEDIV\n",
    "sns.distplot(target[\"MEDV\"])\n",
    "plt.show()"
   ]
  },
  {
   "cell_type": "markdown",
   "metadata": {},
   "source": [
    "# Linear Regression in SKLearn"
   ]
  },
  {
   "cell_type": "code",
   "execution_count": 103,
   "metadata": {},
   "outputs": [
    {
     "data": {
      "text/plain": [
       "(506, 13)"
      ]
     },
     "execution_count": 103,
     "metadata": {},
     "output_type": "execute_result"
    }
   ],
   "source": [
    "df.shape"
   ]
  },
  {
   "cell_type": "code",
   "execution_count": 104,
   "metadata": {},
   "outputs": [
    {
     "data": {
      "text/plain": [
       "CRIM       0\n",
       "ZN         0\n",
       "INDUS      0\n",
       "CHAS       0\n",
       "NOX        0\n",
       "RM         0\n",
       "AGE        0\n",
       "DIS        0\n",
       "RAD        0\n",
       "TAX        0\n",
       "PTRATIO    0\n",
       "B          0\n",
       "LSTAT      0\n",
       "dtype: int64"
      ]
     },
     "execution_count": 104,
     "metadata": {},
     "output_type": "execute_result"
    }
   ],
   "source": [
    "# 先確認是否有缺失值\n",
    "df.isnull().sum()"
   ]
  },
  {
   "cell_type": "code",
   "execution_count": 40,
   "metadata": {},
   "outputs": [],
   "source": [
    "X =pd.DataFrame(df['RM'])\n",
    "y = target"
   ]
  },
  {
   "cell_type": "code",
   "execution_count": 105,
   "metadata": {},
   "outputs": [
    {
     "ename": "SyntaxError",
     "evalue": "invalid character in identifier (<ipython-input-105-a34286194808>, line 2)",
     "output_type": "error",
     "traceback": [
      "\u001b[1;36m  File \u001b[1;32m\"<ipython-input-105-a34286194808>\"\u001b[1;36m, line \u001b[1;32m2\u001b[0m\n\u001b[1;33m    sns.set(rc={‘figure.figsize’:(10,10)})\u001b[0m\n\u001b[1;37m                      ^\u001b[0m\n\u001b[1;31mSyntaxError\u001b[0m\u001b[1;31m:\u001b[0m invalid character in identifier\n"
     ]
    }
   ],
   "source": [
    "# 用seaborn一次把圖表的美化格式設定好，這裡是只有先設定圖表長寬\n",
    "sns.set(rc={‘figure.figsize’:(10,10)})\n",
    "# 使用的資料是房價MEDIV\n",
    "sns.distplot(df[‘MEDV’])\n",
    "plt.show()"
   ]
  },
  {
   "cell_type": "code",
   "execution_count": 41,
   "metadata": {},
   "outputs": [
    {
     "name": "stdout",
     "output_type": "stream",
     "text": [
      "[[25.17574577]\n",
      " [23.77402099]\n",
      " [30.72803225]\n",
      " [29.02593787]\n",
      " [30.38215211]]\n"
     ]
    }
   ],
   "source": [
    "from sklearn import linear_model\n",
    "lm = linear_model.LinearRegression()\n",
    "model = lm.fit(X,y)\n",
    "predictions = lm.predict(X)\n",
    "print(predictions[0:5])"
   ]
  },
  {
   "cell_type": "code",
   "execution_count": 43,
   "metadata": {},
   "outputs": [
    {
     "data": {
      "text/plain": [
       "0.4835254559913343"
      ]
     },
     "execution_count": 43,
     "metadata": {},
     "output_type": "execute_result"
    }
   ],
   "source": [
    "lm.score(X,y)  # R² score of the trained model (SSR(mean)-SSR(fit))/SSR(mean)"
   ]
  },
  {
   "cell_type": "code",
   "execution_count": 48,
   "metadata": {},
   "outputs": [
    {
     "name": "stdout",
     "output_type": "stream",
     "text": [
      "[[-1.08011358e-01  4.64204584e-02  2.05586264e-02  2.68673382e+00\n",
      "  -1.77666112e+01  3.80986521e+00  6.92224640e-04 -1.47556685e+00\n",
      "   3.06049479e-01 -1.23345939e-02 -9.52747232e-01  9.31168327e-03\n",
      "  -5.24758378e-01]]\n",
      "[36.45948839]\n"
     ]
    }
   ],
   "source": [
    "print(lm.coef_)\n",
    "print(lm.intercept_)"
   ]
  },
  {
   "cell_type": "markdown",
   "metadata": {},
   "source": [
    "## For multiple factors\n"
   ]
  },
  {
   "cell_type": "code",
   "execution_count": 49,
   "metadata": {},
   "outputs": [
    {
     "data": {
      "text/plain": [
       "(506, 13)"
      ]
     },
     "execution_count": 49,
     "metadata": {},
     "output_type": "execute_result"
    }
   ],
   "source": [
    "X = df\n",
    "y = target\n",
    "df.shape"
   ]
  },
  {
   "cell_type": "code",
   "execution_count": 50,
   "metadata": {},
   "outputs": [
    {
     "name": "stdout",
     "output_type": "stream",
     "text": [
      "[[30.00384338]\n",
      " [25.02556238]\n",
      " [30.56759672]\n",
      " [28.60703649]\n",
      " [27.94352423]]\n"
     ]
    }
   ],
   "source": [
    "lm = linear_model.LinearRegression()\n",
    "model = lm.fit(X,y)\n",
    "predictions = lm.predict(X)\n",
    "print(predictions[0:5])"
   ]
  },
  {
   "cell_type": "code",
   "execution_count": 51,
   "metadata": {},
   "outputs": [
    {
     "data": {
      "text/plain": [
       "0.7406426641094095"
      ]
     },
     "execution_count": 51,
     "metadata": {},
     "output_type": "execute_result"
    }
   ],
   "source": [
    "lm.score(X,y) "
   ]
  },
  {
   "cell_type": "code",
   "execution_count": 52,
   "metadata": {},
   "outputs": [
    {
     "name": "stdout",
     "output_type": "stream",
     "text": [
      "[[-1.08011358e-01  4.64204584e-02  2.05586264e-02  2.68673382e+00\n",
      "  -1.77666112e+01  3.80986521e+00  6.92224640e-04 -1.47556685e+00\n",
      "   3.06049479e-01 -1.23345939e-02 -9.52747232e-01  9.31168327e-03\n",
      "  -5.24758378e-01]]\n",
      "[36.45948839]\n"
     ]
    }
   ],
   "source": [
    "print(lm.coef_)\n",
    "print(lm.intercept_)"
   ]
  },
  {
   "cell_type": "markdown",
   "metadata": {},
   "source": [
    "## Drill Practice \n",
    "## Try to pick up two independent variables to construct the MLR model and analyze the result!\n",
    "## What's your suggestion?\n"
   ]
  },
  {
   "cell_type": "code",
   "execution_count": 82,
   "metadata": {},
   "outputs": [
    {
     "ename": "AttributeError",
     "evalue": "'numpy.ndarray' object has no attribute 'isnull'",
     "output_type": "error",
     "traceback": [
      "\u001b[1;31m---------------------------------------------------------------------------\u001b[0m",
      "\u001b[1;31mAttributeError\u001b[0m                            Traceback (most recent call last)",
      "\u001b[1;32m<ipython-input-82-ec86818ff860>\u001b[0m in \u001b[0;36m<module>\u001b[1;34m\u001b[0m\n\u001b[0;32m      1\u001b[0m \u001b[1;31m# 先確認是否有缺失值\u001b[0m\u001b[1;33m\u001b[0m\u001b[1;33m\u001b[0m\u001b[1;33m\u001b[0m\u001b[0m\n\u001b[1;32m----> 2\u001b[1;33m \u001b[0mX\u001b[0m\u001b[1;33m.\u001b[0m\u001b[0misnull\u001b[0m\u001b[1;33m(\u001b[0m\u001b[1;33m)\u001b[0m\u001b[1;33m.\u001b[0m\u001b[0msum\u001b[0m\u001b[1;33m(\u001b[0m\u001b[1;33m)\u001b[0m\u001b[1;33m\u001b[0m\u001b[1;33m\u001b[0m\u001b[0m\n\u001b[0m",
      "\u001b[1;31mAttributeError\u001b[0m: 'numpy.ndarray' object has no attribute 'isnull'"
     ]
    }
   ],
   "source": []
  },
  {
   "cell_type": "code",
   "execution_count": 53,
   "metadata": {},
   "outputs": [],
   "source": [
    "# Example of picking CRIM and ZN factors: \n",
    "X = df[['ZN','CRIM']]\n",
    "y = target['MEDV']"
   ]
  },
  {
   "cell_type": "code",
   "execution_count": 54,
   "metadata": {},
   "outputs": [
    {
     "data": {
      "text/plain": [
       "(506, 2)"
      ]
     },
     "execution_count": 54,
     "metadata": {},
     "output_type": "execute_result"
    }
   ],
   "source": [
    "X.shape"
   ]
  },
  {
   "cell_type": "code",
   "execution_count": 55,
   "metadata": {},
   "outputs": [
    {
     "name": "stdout",
     "output_type": "stream",
     "text": [
      "[24.57336663 22.47601285 22.4760199  22.47423134 22.46131711]\n"
     ]
    }
   ],
   "source": [
    "lm = linear_model.LinearRegression()\n",
    "model = lm.fit(X,y)\n",
    "predictions = lm.predict(X)\n",
    "print(predictions[0:5])"
   ]
  },
  {
   "cell_type": "code",
   "execution_count": 56,
   "metadata": {},
   "outputs": [
    {
     "data": {
      "text/plain": [
       "0.23398843834155303"
      ]
     },
     "execution_count": 56,
     "metadata": {},
     "output_type": "execute_result"
    }
   ],
   "source": [
    "lm.score(X,y) "
   ]
  },
  {
   "cell_type": "code",
   "execution_count": 57,
   "metadata": {},
   "outputs": [
    {
     "name": "stdout",
     "output_type": "stream",
     "text": [
      "(506, 13)\n"
     ]
    },
    {
     "data": {
      "text/html": [
       "<div>\n",
       "<style scoped>\n",
       "    .dataframe tbody tr th:only-of-type {\n",
       "        vertical-align: middle;\n",
       "    }\n",
       "\n",
       "    .dataframe tbody tr th {\n",
       "        vertical-align: top;\n",
       "    }\n",
       "\n",
       "    .dataframe thead th {\n",
       "        text-align: right;\n",
       "    }\n",
       "</style>\n",
       "<table border=\"1\" class=\"dataframe\">\n",
       "  <thead>\n",
       "    <tr style=\"text-align: right;\">\n",
       "      <th></th>\n",
       "      <th>CRIM</th>\n",
       "      <th>ZN</th>\n",
       "      <th>INDUS</th>\n",
       "      <th>CHAS</th>\n",
       "      <th>NOX</th>\n",
       "      <th>RM</th>\n",
       "      <th>AGE</th>\n",
       "      <th>DIS</th>\n",
       "      <th>RAD</th>\n",
       "      <th>TAX</th>\n",
       "      <th>PTRATIO</th>\n",
       "      <th>B</th>\n",
       "      <th>LSTAT</th>\n",
       "    </tr>\n",
       "  </thead>\n",
       "  <tbody>\n",
       "    <tr>\n",
       "      <th>0</th>\n",
       "      <td>0.00632</td>\n",
       "      <td>18.0</td>\n",
       "      <td>2.31</td>\n",
       "      <td>0.0</td>\n",
       "      <td>0.538</td>\n",
       "      <td>6.575</td>\n",
       "      <td>65.2</td>\n",
       "      <td>4.0900</td>\n",
       "      <td>1.0</td>\n",
       "      <td>296.0</td>\n",
       "      <td>15.3</td>\n",
       "      <td>396.90</td>\n",
       "      <td>4.98</td>\n",
       "    </tr>\n",
       "    <tr>\n",
       "      <th>1</th>\n",
       "      <td>0.02731</td>\n",
       "      <td>0.0</td>\n",
       "      <td>7.07</td>\n",
       "      <td>0.0</td>\n",
       "      <td>0.469</td>\n",
       "      <td>6.421</td>\n",
       "      <td>78.9</td>\n",
       "      <td>4.9671</td>\n",
       "      <td>2.0</td>\n",
       "      <td>242.0</td>\n",
       "      <td>17.8</td>\n",
       "      <td>396.90</td>\n",
       "      <td>9.14</td>\n",
       "    </tr>\n",
       "    <tr>\n",
       "      <th>2</th>\n",
       "      <td>0.02729</td>\n",
       "      <td>0.0</td>\n",
       "      <td>7.07</td>\n",
       "      <td>0.0</td>\n",
       "      <td>0.469</td>\n",
       "      <td>7.185</td>\n",
       "      <td>61.1</td>\n",
       "      <td>4.9671</td>\n",
       "      <td>2.0</td>\n",
       "      <td>242.0</td>\n",
       "      <td>17.8</td>\n",
       "      <td>392.83</td>\n",
       "      <td>4.03</td>\n",
       "    </tr>\n",
       "    <tr>\n",
       "      <th>3</th>\n",
       "      <td>0.03237</td>\n",
       "      <td>0.0</td>\n",
       "      <td>2.18</td>\n",
       "      <td>0.0</td>\n",
       "      <td>0.458</td>\n",
       "      <td>6.998</td>\n",
       "      <td>45.8</td>\n",
       "      <td>6.0622</td>\n",
       "      <td>3.0</td>\n",
       "      <td>222.0</td>\n",
       "      <td>18.7</td>\n",
       "      <td>394.63</td>\n",
       "      <td>2.94</td>\n",
       "    </tr>\n",
       "    <tr>\n",
       "      <th>4</th>\n",
       "      <td>0.06905</td>\n",
       "      <td>0.0</td>\n",
       "      <td>2.18</td>\n",
       "      <td>0.0</td>\n",
       "      <td>0.458</td>\n",
       "      <td>7.147</td>\n",
       "      <td>54.2</td>\n",
       "      <td>6.0622</td>\n",
       "      <td>3.0</td>\n",
       "      <td>222.0</td>\n",
       "      <td>18.7</td>\n",
       "      <td>396.90</td>\n",
       "      <td>5.33</td>\n",
       "    </tr>\n",
       "  </tbody>\n",
       "</table>\n",
       "</div>"
      ],
      "text/plain": [
       "      CRIM    ZN  INDUS  CHAS    NOX     RM   AGE     DIS  RAD    TAX  \\\n",
       "0  0.00632  18.0   2.31   0.0  0.538  6.575  65.2  4.0900  1.0  296.0   \n",
       "1  0.02731   0.0   7.07   0.0  0.469  6.421  78.9  4.9671  2.0  242.0   \n",
       "2  0.02729   0.0   7.07   0.0  0.469  7.185  61.1  4.9671  2.0  242.0   \n",
       "3  0.03237   0.0   2.18   0.0  0.458  6.998  45.8  6.0622  3.0  222.0   \n",
       "4  0.06905   0.0   2.18   0.0  0.458  7.147  54.2  6.0622  3.0  222.0   \n",
       "\n",
       "   PTRATIO       B  LSTAT  \n",
       "0     15.3  396.90   4.98  \n",
       "1     17.8  396.90   9.14  \n",
       "2     17.8  392.83   4.03  \n",
       "3     18.7  394.63   2.94  \n",
       "4     18.7  396.90   5.33  "
      ]
     },
     "execution_count": 57,
     "metadata": {},
     "output_type": "execute_result"
    }
   ],
   "source": [
    "X=df\n",
    "print(X.shape)\n",
    "X.head()"
   ]
  },
  {
   "cell_type": "code",
   "execution_count": 58,
   "metadata": {
    "scrolled": true
   },
   "outputs": [
    {
     "data": {
      "text/html": [
       "<div>\n",
       "<style scoped>\n",
       "    .dataframe tbody tr th:only-of-type {\n",
       "        vertical-align: middle;\n",
       "    }\n",
       "\n",
       "    .dataframe tbody tr th {\n",
       "        vertical-align: top;\n",
       "    }\n",
       "\n",
       "    .dataframe thead th {\n",
       "        text-align: right;\n",
       "    }\n",
       "</style>\n",
       "<table border=\"1\" class=\"dataframe\">\n",
       "  <thead>\n",
       "    <tr style=\"text-align: right;\">\n",
       "      <th></th>\n",
       "      <th>CRIM</th>\n",
       "      <th>ZN</th>\n",
       "      <th>INDUS</th>\n",
       "      <th>CHAS</th>\n",
       "      <th>NOX</th>\n",
       "      <th>RM</th>\n",
       "      <th>AGE</th>\n",
       "      <th>DIS</th>\n",
       "      <th>RAD</th>\n",
       "      <th>TAX</th>\n",
       "      <th>PTRATIO</th>\n",
       "      <th>B</th>\n",
       "      <th>LSTAT</th>\n",
       "    </tr>\n",
       "  </thead>\n",
       "  <tbody>\n",
       "    <tr>\n",
       "      <th>CRIM</th>\n",
       "      <td>1.000000</td>\n",
       "      <td>-0.200469</td>\n",
       "      <td>0.406583</td>\n",
       "      <td>-0.055892</td>\n",
       "      <td>0.420972</td>\n",
       "      <td>-0.219247</td>\n",
       "      <td>0.352734</td>\n",
       "      <td>-0.379670</td>\n",
       "      <td>0.625505</td>\n",
       "      <td>0.582764</td>\n",
       "      <td>0.289946</td>\n",
       "      <td>-0.385064</td>\n",
       "      <td>0.455621</td>\n",
       "    </tr>\n",
       "    <tr>\n",
       "      <th>ZN</th>\n",
       "      <td>-0.200469</td>\n",
       "      <td>1.000000</td>\n",
       "      <td>-0.533828</td>\n",
       "      <td>-0.042697</td>\n",
       "      <td>-0.516604</td>\n",
       "      <td>0.311991</td>\n",
       "      <td>-0.569537</td>\n",
       "      <td>0.664408</td>\n",
       "      <td>-0.311948</td>\n",
       "      <td>-0.314563</td>\n",
       "      <td>-0.391679</td>\n",
       "      <td>0.175520</td>\n",
       "      <td>-0.412995</td>\n",
       "    </tr>\n",
       "    <tr>\n",
       "      <th>INDUS</th>\n",
       "      <td>0.406583</td>\n",
       "      <td>-0.533828</td>\n",
       "      <td>1.000000</td>\n",
       "      <td>0.062938</td>\n",
       "      <td>0.763651</td>\n",
       "      <td>-0.391676</td>\n",
       "      <td>0.644779</td>\n",
       "      <td>-0.708027</td>\n",
       "      <td>0.595129</td>\n",
       "      <td>0.720760</td>\n",
       "      <td>0.383248</td>\n",
       "      <td>-0.356977</td>\n",
       "      <td>0.603800</td>\n",
       "    </tr>\n",
       "    <tr>\n",
       "      <th>CHAS</th>\n",
       "      <td>-0.055892</td>\n",
       "      <td>-0.042697</td>\n",
       "      <td>0.062938</td>\n",
       "      <td>1.000000</td>\n",
       "      <td>0.091203</td>\n",
       "      <td>0.091251</td>\n",
       "      <td>0.086518</td>\n",
       "      <td>-0.099176</td>\n",
       "      <td>-0.007368</td>\n",
       "      <td>-0.035587</td>\n",
       "      <td>-0.121515</td>\n",
       "      <td>0.048788</td>\n",
       "      <td>-0.053929</td>\n",
       "    </tr>\n",
       "    <tr>\n",
       "      <th>NOX</th>\n",
       "      <td>0.420972</td>\n",
       "      <td>-0.516604</td>\n",
       "      <td>0.763651</td>\n",
       "      <td>0.091203</td>\n",
       "      <td>1.000000</td>\n",
       "      <td>-0.302188</td>\n",
       "      <td>0.731470</td>\n",
       "      <td>-0.769230</td>\n",
       "      <td>0.611441</td>\n",
       "      <td>0.668023</td>\n",
       "      <td>0.188933</td>\n",
       "      <td>-0.380051</td>\n",
       "      <td>0.590879</td>\n",
       "    </tr>\n",
       "    <tr>\n",
       "      <th>RM</th>\n",
       "      <td>-0.219247</td>\n",
       "      <td>0.311991</td>\n",
       "      <td>-0.391676</td>\n",
       "      <td>0.091251</td>\n",
       "      <td>-0.302188</td>\n",
       "      <td>1.000000</td>\n",
       "      <td>-0.240265</td>\n",
       "      <td>0.205246</td>\n",
       "      <td>-0.209847</td>\n",
       "      <td>-0.292048</td>\n",
       "      <td>-0.355501</td>\n",
       "      <td>0.128069</td>\n",
       "      <td>-0.613808</td>\n",
       "    </tr>\n",
       "    <tr>\n",
       "      <th>AGE</th>\n",
       "      <td>0.352734</td>\n",
       "      <td>-0.569537</td>\n",
       "      <td>0.644779</td>\n",
       "      <td>0.086518</td>\n",
       "      <td>0.731470</td>\n",
       "      <td>-0.240265</td>\n",
       "      <td>1.000000</td>\n",
       "      <td>-0.747881</td>\n",
       "      <td>0.456022</td>\n",
       "      <td>0.506456</td>\n",
       "      <td>0.261515</td>\n",
       "      <td>-0.273534</td>\n",
       "      <td>0.602339</td>\n",
       "    </tr>\n",
       "    <tr>\n",
       "      <th>DIS</th>\n",
       "      <td>-0.379670</td>\n",
       "      <td>0.664408</td>\n",
       "      <td>-0.708027</td>\n",
       "      <td>-0.099176</td>\n",
       "      <td>-0.769230</td>\n",
       "      <td>0.205246</td>\n",
       "      <td>-0.747881</td>\n",
       "      <td>1.000000</td>\n",
       "      <td>-0.494588</td>\n",
       "      <td>-0.534432</td>\n",
       "      <td>-0.232471</td>\n",
       "      <td>0.291512</td>\n",
       "      <td>-0.496996</td>\n",
       "    </tr>\n",
       "    <tr>\n",
       "      <th>RAD</th>\n",
       "      <td>0.625505</td>\n",
       "      <td>-0.311948</td>\n",
       "      <td>0.595129</td>\n",
       "      <td>-0.007368</td>\n",
       "      <td>0.611441</td>\n",
       "      <td>-0.209847</td>\n",
       "      <td>0.456022</td>\n",
       "      <td>-0.494588</td>\n",
       "      <td>1.000000</td>\n",
       "      <td>0.910228</td>\n",
       "      <td>0.464741</td>\n",
       "      <td>-0.444413</td>\n",
       "      <td>0.488676</td>\n",
       "    </tr>\n",
       "    <tr>\n",
       "      <th>TAX</th>\n",
       "      <td>0.582764</td>\n",
       "      <td>-0.314563</td>\n",
       "      <td>0.720760</td>\n",
       "      <td>-0.035587</td>\n",
       "      <td>0.668023</td>\n",
       "      <td>-0.292048</td>\n",
       "      <td>0.506456</td>\n",
       "      <td>-0.534432</td>\n",
       "      <td>0.910228</td>\n",
       "      <td>1.000000</td>\n",
       "      <td>0.460853</td>\n",
       "      <td>-0.441808</td>\n",
       "      <td>0.543993</td>\n",
       "    </tr>\n",
       "    <tr>\n",
       "      <th>PTRATIO</th>\n",
       "      <td>0.289946</td>\n",
       "      <td>-0.391679</td>\n",
       "      <td>0.383248</td>\n",
       "      <td>-0.121515</td>\n",
       "      <td>0.188933</td>\n",
       "      <td>-0.355501</td>\n",
       "      <td>0.261515</td>\n",
       "      <td>-0.232471</td>\n",
       "      <td>0.464741</td>\n",
       "      <td>0.460853</td>\n",
       "      <td>1.000000</td>\n",
       "      <td>-0.177383</td>\n",
       "      <td>0.374044</td>\n",
       "    </tr>\n",
       "    <tr>\n",
       "      <th>B</th>\n",
       "      <td>-0.385064</td>\n",
       "      <td>0.175520</td>\n",
       "      <td>-0.356977</td>\n",
       "      <td>0.048788</td>\n",
       "      <td>-0.380051</td>\n",
       "      <td>0.128069</td>\n",
       "      <td>-0.273534</td>\n",
       "      <td>0.291512</td>\n",
       "      <td>-0.444413</td>\n",
       "      <td>-0.441808</td>\n",
       "      <td>-0.177383</td>\n",
       "      <td>1.000000</td>\n",
       "      <td>-0.366087</td>\n",
       "    </tr>\n",
       "    <tr>\n",
       "      <th>LSTAT</th>\n",
       "      <td>0.455621</td>\n",
       "      <td>-0.412995</td>\n",
       "      <td>0.603800</td>\n",
       "      <td>-0.053929</td>\n",
       "      <td>0.590879</td>\n",
       "      <td>-0.613808</td>\n",
       "      <td>0.602339</td>\n",
       "      <td>-0.496996</td>\n",
       "      <td>0.488676</td>\n",
       "      <td>0.543993</td>\n",
       "      <td>0.374044</td>\n",
       "      <td>-0.366087</td>\n",
       "      <td>1.000000</td>\n",
       "    </tr>\n",
       "  </tbody>\n",
       "</table>\n",
       "</div>"
      ],
      "text/plain": [
       "             CRIM        ZN     INDUS      CHAS       NOX        RM       AGE  \\\n",
       "CRIM     1.000000 -0.200469  0.406583 -0.055892  0.420972 -0.219247  0.352734   \n",
       "ZN      -0.200469  1.000000 -0.533828 -0.042697 -0.516604  0.311991 -0.569537   \n",
       "INDUS    0.406583 -0.533828  1.000000  0.062938  0.763651 -0.391676  0.644779   \n",
       "CHAS    -0.055892 -0.042697  0.062938  1.000000  0.091203  0.091251  0.086518   \n",
       "NOX      0.420972 -0.516604  0.763651  0.091203  1.000000 -0.302188  0.731470   \n",
       "RM      -0.219247  0.311991 -0.391676  0.091251 -0.302188  1.000000 -0.240265   \n",
       "AGE      0.352734 -0.569537  0.644779  0.086518  0.731470 -0.240265  1.000000   \n",
       "DIS     -0.379670  0.664408 -0.708027 -0.099176 -0.769230  0.205246 -0.747881   \n",
       "RAD      0.625505 -0.311948  0.595129 -0.007368  0.611441 -0.209847  0.456022   \n",
       "TAX      0.582764 -0.314563  0.720760 -0.035587  0.668023 -0.292048  0.506456   \n",
       "PTRATIO  0.289946 -0.391679  0.383248 -0.121515  0.188933 -0.355501  0.261515   \n",
       "B       -0.385064  0.175520 -0.356977  0.048788 -0.380051  0.128069 -0.273534   \n",
       "LSTAT    0.455621 -0.412995  0.603800 -0.053929  0.590879 -0.613808  0.602339   \n",
       "\n",
       "              DIS       RAD       TAX   PTRATIO         B     LSTAT  \n",
       "CRIM    -0.379670  0.625505  0.582764  0.289946 -0.385064  0.455621  \n",
       "ZN       0.664408 -0.311948 -0.314563 -0.391679  0.175520 -0.412995  \n",
       "INDUS   -0.708027  0.595129  0.720760  0.383248 -0.356977  0.603800  \n",
       "CHAS    -0.099176 -0.007368 -0.035587 -0.121515  0.048788 -0.053929  \n",
       "NOX     -0.769230  0.611441  0.668023  0.188933 -0.380051  0.590879  \n",
       "RM       0.205246 -0.209847 -0.292048 -0.355501  0.128069 -0.613808  \n",
       "AGE     -0.747881  0.456022  0.506456  0.261515 -0.273534  0.602339  \n",
       "DIS      1.000000 -0.494588 -0.534432 -0.232471  0.291512 -0.496996  \n",
       "RAD     -0.494588  1.000000  0.910228  0.464741 -0.444413  0.488676  \n",
       "TAX     -0.534432  0.910228  1.000000  0.460853 -0.441808  0.543993  \n",
       "PTRATIO -0.232471  0.464741  0.460853  1.000000 -0.177383  0.374044  \n",
       "B        0.291512 -0.444413 -0.441808 -0.177383  1.000000 -0.366087  \n",
       "LSTAT   -0.496996  0.488676  0.543993  0.374044 -0.366087  1.000000  "
      ]
     },
     "execution_count": 58,
     "metadata": {},
     "output_type": "execute_result"
    }
   ],
   "source": [
    "X.corr(method='pearson')"
   ]
  },
  {
   "cell_type": "code",
   "execution_count": 59,
   "metadata": {},
   "outputs": [
    {
     "data": {
      "text/html": [
       "<style  type=\"text/css\" >\n",
       "    #T_902e8308_befc_11ec_9303_b42e993d59d4row0_col0 {\n",
       "            background-color:  #b40426;\n",
       "            color:  #f1f1f1;\n",
       "        }    #T_902e8308_befc_11ec_9303_b42e993d59d4row0_col1 {\n",
       "            background-color:  #88abfd;\n",
       "            color:  #000000;\n",
       "        }    #T_902e8308_befc_11ec_9303_b42e993d59d4row0_col2 {\n",
       "            background-color:  #f7bca1;\n",
       "            color:  #000000;\n",
       "        }    #T_902e8308_befc_11ec_9303_b42e993d59d4row0_col3 {\n",
       "            background-color:  #4b64d5;\n",
       "            color:  #f1f1f1;\n",
       "        }    #T_902e8308_befc_11ec_9303_b42e993d59d4row0_col4 {\n",
       "            background-color:  #f7b599;\n",
       "            color:  #000000;\n",
       "        }    #T_902e8308_befc_11ec_9303_b42e993d59d4row0_col5 {\n",
       "            background-color:  #8badfd;\n",
       "            color:  #000000;\n",
       "        }    #T_902e8308_befc_11ec_9303_b42e993d59d4row0_col6 {\n",
       "            background-color:  #f5c2aa;\n",
       "            color:  #000000;\n",
       "        }    #T_902e8308_befc_11ec_9303_b42e993d59d4row0_col7 {\n",
       "            background-color:  #82a6fb;\n",
       "            color:  #000000;\n",
       "        }    #T_902e8308_befc_11ec_9303_b42e993d59d4row0_col8 {\n",
       "            background-color:  #f49a7b;\n",
       "            color:  #000000;\n",
       "        }    #T_902e8308_befc_11ec_9303_b42e993d59d4row0_col9 {\n",
       "            background-color:  #f6a283;\n",
       "            color:  #000000;\n",
       "        }    #T_902e8308_befc_11ec_9303_b42e993d59d4row0_col10 {\n",
       "            background-color:  #dadce0;\n",
       "            color:  #000000;\n",
       "        }    #T_902e8308_befc_11ec_9303_b42e993d59d4row0_col11 {\n",
       "            background-color:  #465ecf;\n",
       "            color:  #f1f1f1;\n",
       "        }    #T_902e8308_befc_11ec_9303_b42e993d59d4row0_col12 {\n",
       "            background-color:  #f7b99e;\n",
       "            color:  #000000;\n",
       "        }    #T_902e8308_befc_11ec_9303_b42e993d59d4row1_col0 {\n",
       "            background-color:  #6485ec;\n",
       "            color:  #000000;\n",
       "        }    #T_902e8308_befc_11ec_9303_b42e993d59d4row1_col1 {\n",
       "            background-color:  #b40426;\n",
       "            color:  #f1f1f1;\n",
       "        }    #T_902e8308_befc_11ec_9303_b42e993d59d4row1_col2 {\n",
       "            background-color:  #5a78e4;\n",
       "            color:  #000000;\n",
       "        }    #T_902e8308_befc_11ec_9303_b42e993d59d4row1_col3 {\n",
       "            background-color:  #4f69d9;\n",
       "            color:  #000000;\n",
       "        }    #T_902e8308_befc_11ec_9303_b42e993d59d4row1_col4 {\n",
       "            background-color:  #6788ee;\n",
       "            color:  #000000;\n",
       "        }    #T_902e8308_befc_11ec_9303_b42e993d59d4row1_col5 {\n",
       "            background-color:  #edd1c2;\n",
       "            color:  #000000;\n",
       "        }    #T_902e8308_befc_11ec_9303_b42e993d59d4row1_col6 {\n",
       "            background-color:  #5a78e4;\n",
       "            color:  #000000;\n",
       "        }    #T_902e8308_befc_11ec_9303_b42e993d59d4row1_col7 {\n",
       "            background-color:  #ec7f63;\n",
       "            color:  #000000;\n",
       "        }    #T_902e8308_befc_11ec_9303_b42e993d59d4row1_col8 {\n",
       "            background-color:  #6180e9;\n",
       "            color:  #000000;\n",
       "        }    #T_902e8308_befc_11ec_9303_b42e993d59d4row1_col9 {\n",
       "            background-color:  #6788ee;\n",
       "            color:  #000000;\n",
       "        }    #T_902e8308_befc_11ec_9303_b42e993d59d4row1_col10 {\n",
       "            background-color:  #3b4cc0;\n",
       "            color:  #f1f1f1;\n",
       "        }    #T_902e8308_befc_11ec_9303_b42e993d59d4row1_col11 {\n",
       "            background-color:  #c9d7f0;\n",
       "            color:  #000000;\n",
       "        }    #T_902e8308_befc_11ec_9303_b42e993d59d4row1_col12 {\n",
       "            background-color:  #6180e9;\n",
       "            color:  #000000;\n",
       "        }    #T_902e8308_befc_11ec_9303_b42e993d59d4row2_col0 {\n",
       "            background-color:  #edd1c2;\n",
       "            color:  #000000;\n",
       "        }    #T_902e8308_befc_11ec_9303_b42e993d59d4row2_col1 {\n",
       "            background-color:  #4055c8;\n",
       "            color:  #f1f1f1;\n",
       "        }    #T_902e8308_befc_11ec_9303_b42e993d59d4row2_col2 {\n",
       "            background-color:  #b40426;\n",
       "            color:  #f1f1f1;\n",
       "        }    #T_902e8308_befc_11ec_9303_b42e993d59d4row2_col3 {\n",
       "            background-color:  #6f92f3;\n",
       "            color:  #000000;\n",
       "        }    #T_902e8308_befc_11ec_9303_b42e993d59d4row2_col4 {\n",
       "            background-color:  #e0654f;\n",
       "            color:  #000000;\n",
       "        }    #T_902e8308_befc_11ec_9303_b42e993d59d4row2_col5 {\n",
       "            background-color:  #6687ed;\n",
       "            color:  #000000;\n",
       "        }    #T_902e8308_befc_11ec_9303_b42e993d59d4row2_col6 {\n",
       "            background-color:  #ee8669;\n",
       "            color:  #000000;\n",
       "        }    #T_902e8308_befc_11ec_9303_b42e993d59d4row2_col7 {\n",
       "            background-color:  #445acc;\n",
       "            color:  #f1f1f1;\n",
       "        }    #T_902e8308_befc_11ec_9303_b42e993d59d4row2_col8 {\n",
       "            background-color:  #f6a283;\n",
       "            color:  #000000;\n",
       "        }    #T_902e8308_befc_11ec_9303_b42e993d59d4row2_col9 {\n",
       "            background-color:  #ea7b60;\n",
       "            color:  #000000;\n",
       "        }    #T_902e8308_befc_11ec_9303_b42e993d59d4row2_col10 {\n",
       "            background-color:  #ead4c8;\n",
       "            color:  #000000;\n",
       "        }    #T_902e8308_befc_11ec_9303_b42e993d59d4row2_col11 {\n",
       "            background-color:  #4c66d6;\n",
       "            color:  #000000;\n",
       "        }    #T_902e8308_befc_11ec_9303_b42e993d59d4row2_col12 {\n",
       "            background-color:  #f39778;\n",
       "            color:  #000000;\n",
       "        }    #T_902e8308_befc_11ec_9303_b42e993d59d4row3_col0 {\n",
       "            background-color:  #88abfd;\n",
       "            color:  #000000;\n",
       "        }    #T_902e8308_befc_11ec_9303_b42e993d59d4row3_col1 {\n",
       "            background-color:  #aac7fd;\n",
       "            color:  #000000;\n",
       "        }    #T_902e8308_befc_11ec_9303_b42e993d59d4row3_col2 {\n",
       "            background-color:  #cfdaea;\n",
       "            color:  #000000;\n",
       "        }    #T_902e8308_befc_11ec_9303_b42e993d59d4row3_col3 {\n",
       "            background-color:  #b40426;\n",
       "            color:  #f1f1f1;\n",
       "        }    #T_902e8308_befc_11ec_9303_b42e993d59d4row3_col4 {\n",
       "            background-color:  #d9dce1;\n",
       "            color:  #000000;\n",
       "        }    #T_902e8308_befc_11ec_9303_b42e993d59d4row3_col5 {\n",
       "            background-color:  #cbd8ee;\n",
       "            color:  #000000;\n",
       "        }    #T_902e8308_befc_11ec_9303_b42e993d59d4row3_col6 {\n",
       "            background-color:  #d7dce3;\n",
       "            color:  #000000;\n",
       "        }    #T_902e8308_befc_11ec_9303_b42e993d59d4row3_col7 {\n",
       "            background-color:  #b9d0f9;\n",
       "            color:  #000000;\n",
       "        }    #T_902e8308_befc_11ec_9303_b42e993d59d4row3_col8 {\n",
       "            background-color:  #a7c5fe;\n",
       "            color:  #000000;\n",
       "        }    #T_902e8308_befc_11ec_9303_b42e993d59d4row3_col9 {\n",
       "            background-color:  #a7c5fe;\n",
       "            color:  #000000;\n",
       "        }    #T_902e8308_befc_11ec_9303_b42e993d59d4row3_col10 {\n",
       "            background-color:  #799cf8;\n",
       "            color:  #000000;\n",
       "        }    #T_902e8308_befc_11ec_9303_b42e993d59d4row3_col11 {\n",
       "            background-color:  #adc9fd;\n",
       "            color:  #000000;\n",
       "        }    #T_902e8308_befc_11ec_9303_b42e993d59d4row3_col12 {\n",
       "            background-color:  #aec9fc;\n",
       "            color:  #000000;\n",
       "        }    #T_902e8308_befc_11ec_9303_b42e993d59d4row4_col0 {\n",
       "            background-color:  #efcfbf;\n",
       "            color:  #000000;\n",
       "        }    #T_902e8308_befc_11ec_9303_b42e993d59d4row4_col1 {\n",
       "            background-color:  #445acc;\n",
       "            color:  #f1f1f1;\n",
       "        }    #T_902e8308_befc_11ec_9303_b42e993d59d4row4_col2 {\n",
       "            background-color:  #e16751;\n",
       "            color:  #000000;\n",
       "        }    #T_902e8308_befc_11ec_9303_b42e993d59d4row4_col3 {\n",
       "            background-color:  #779af7;\n",
       "            color:  #000000;\n",
       "        }    #T_902e8308_befc_11ec_9303_b42e993d59d4row4_col4 {\n",
       "            background-color:  #b40426;\n",
       "            color:  #f1f1f1;\n",
       "        }    #T_902e8308_befc_11ec_9303_b42e993d59d4row4_col5 {\n",
       "            background-color:  #799cf8;\n",
       "            color:  #000000;\n",
       "        }    #T_902e8308_befc_11ec_9303_b42e993d59d4row4_col6 {\n",
       "            background-color:  #e46e56;\n",
       "            color:  #000000;\n",
       "        }    #T_902e8308_befc_11ec_9303_b42e993d59d4row4_col7 {\n",
       "            background-color:  #3b4cc0;\n",
       "            color:  #f1f1f1;\n",
       "        }    #T_902e8308_befc_11ec_9303_b42e993d59d4row4_col8 {\n",
       "            background-color:  #f59d7e;\n",
       "            color:  #000000;\n",
       "        }    #T_902e8308_befc_11ec_9303_b42e993d59d4row4_col9 {\n",
       "            background-color:  #f08b6e;\n",
       "            color:  #000000;\n",
       "        }    #T_902e8308_befc_11ec_9303_b42e993d59d4row4_col10 {\n",
       "            background-color:  #c5d6f2;\n",
       "            color:  #000000;\n",
       "        }    #T_902e8308_befc_11ec_9303_b42e993d59d4row4_col11 {\n",
       "            background-color:  #485fd1;\n",
       "            color:  #f1f1f1;\n",
       "        }    #T_902e8308_befc_11ec_9303_b42e993d59d4row4_col12 {\n",
       "            background-color:  #f49a7b;\n",
       "            color:  #000000;\n",
       "        }    #T_902e8308_befc_11ec_9303_b42e993d59d4row5_col0 {\n",
       "            background-color:  #5f7fe8;\n",
       "            color:  #000000;\n",
       "        }    #T_902e8308_befc_11ec_9303_b42e993d59d4row5_col1 {\n",
       "            background-color:  #ebd3c6;\n",
       "            color:  #000000;\n",
       "        }    #T_902e8308_befc_11ec_9303_b42e993d59d4row5_col2 {\n",
       "            background-color:  #7699f6;\n",
       "            color:  #000000;\n",
       "        }    #T_902e8308_befc_11ec_9303_b42e993d59d4row5_col3 {\n",
       "            background-color:  #779af7;\n",
       "            color:  #000000;\n",
       "        }    #T_902e8308_befc_11ec_9303_b42e993d59d4row5_col4 {\n",
       "            background-color:  #92b4fe;\n",
       "            color:  #000000;\n",
       "        }    #T_902e8308_befc_11ec_9303_b42e993d59d4row5_col5 {\n",
       "            background-color:  #b40426;\n",
       "            color:  #f1f1f1;\n",
       "        }    #T_902e8308_befc_11ec_9303_b42e993d59d4row5_col6 {\n",
       "            background-color:  #9bbcff;\n",
       "            color:  #000000;\n",
       "        }    #T_902e8308_befc_11ec_9303_b42e993d59d4row5_col7 {\n",
       "            background-color:  #ead5c9;\n",
       "            color:  #000000;\n",
       "        }    #T_902e8308_befc_11ec_9303_b42e993d59d4row5_col8 {\n",
       "            background-color:  #779af7;\n",
       "            color:  #000000;\n",
       "        }    #T_902e8308_befc_11ec_9303_b42e993d59d4row5_col9 {\n",
       "            background-color:  #6c8ff1;\n",
       "            color:  #000000;\n",
       "        }    #T_902e8308_befc_11ec_9303_b42e993d59d4row5_col10 {\n",
       "            background-color:  #4257c9;\n",
       "            color:  #f1f1f1;\n",
       "        }    #T_902e8308_befc_11ec_9303_b42e993d59d4row5_col11 {\n",
       "            background-color:  #bfd3f6;\n",
       "            color:  #000000;\n",
       "        }    #T_902e8308_befc_11ec_9303_b42e993d59d4row5_col12 {\n",
       "            background-color:  #3b4cc0;\n",
       "            color:  #f1f1f1;\n",
       "        }    #T_902e8308_befc_11ec_9303_b42e993d59d4row6_col0 {\n",
       "            background-color:  #e5d8d1;\n",
       "            color:  #000000;\n",
       "        }    #T_902e8308_befc_11ec_9303_b42e993d59d4row6_col1 {\n",
       "            background-color:  #3b4cc0;\n",
       "            color:  #f1f1f1;\n",
       "        }    #T_902e8308_befc_11ec_9303_b42e993d59d4row6_col2 {\n",
       "            background-color:  #ef886b;\n",
       "            color:  #000000;\n",
       "        }    #T_902e8308_befc_11ec_9303_b42e993d59d4row6_col3 {\n",
       "            background-color:  #7699f6;\n",
       "            color:  #000000;\n",
       "        }    #T_902e8308_befc_11ec_9303_b42e993d59d4row6_col4 {\n",
       "            background-color:  #e36c55;\n",
       "            color:  #000000;\n",
       "        }    #T_902e8308_befc_11ec_9303_b42e993d59d4row6_col5 {\n",
       "            background-color:  #86a9fc;\n",
       "            color:  #000000;\n",
       "        }    #T_902e8308_befc_11ec_9303_b42e993d59d4row6_col6 {\n",
       "            background-color:  #b40426;\n",
       "            color:  #f1f1f1;\n",
       "        }    #T_902e8308_befc_11ec_9303_b42e993d59d4row6_col7 {\n",
       "            background-color:  #3e51c5;\n",
       "            color:  #f1f1f1;\n",
       "        }    #T_902e8308_befc_11ec_9303_b42e993d59d4row6_col8 {\n",
       "            background-color:  #f5c1a9;\n",
       "            color:  #000000;\n",
       "        }    #T_902e8308_befc_11ec_9303_b42e993d59d4row6_col9 {\n",
       "            background-color:  #f7b497;\n",
       "            color:  #000000;\n",
       "        }    #T_902e8308_befc_11ec_9303_b42e993d59d4row6_col10 {\n",
       "            background-color:  #d5dbe5;\n",
       "            color:  #000000;\n",
       "        }    #T_902e8308_befc_11ec_9303_b42e993d59d4row6_col11 {\n",
       "            background-color:  #5f7fe8;\n",
       "            color:  #000000;\n",
       "        }    #T_902e8308_befc_11ec_9303_b42e993d59d4row6_col12 {\n",
       "            background-color:  #f4987a;\n",
       "            color:  #000000;\n",
       "        }    #T_902e8308_befc_11ec_9303_b42e993d59d4row7_col0 {\n",
       "            background-color:  #3b4cc0;\n",
       "            color:  #f1f1f1;\n",
       "        }    #T_902e8308_befc_11ec_9303_b42e993d59d4row7_col1 {\n",
       "            background-color:  #f08a6c;\n",
       "            color:  #000000;\n",
       "        }    #T_902e8308_befc_11ec_9303_b42e993d59d4row7_col2 {\n",
       "            background-color:  #3b4cc0;\n",
       "            color:  #f1f1f1;\n",
       "        }    #T_902e8308_befc_11ec_9303_b42e993d59d4row7_col3 {\n",
       "            background-color:  #4055c8;\n",
       "            color:  #f1f1f1;\n",
       "        }    #T_902e8308_befc_11ec_9303_b42e993d59d4row7_col4 {\n",
       "            background-color:  #3b4cc0;\n",
       "            color:  #f1f1f1;\n",
       "        }    #T_902e8308_befc_11ec_9303_b42e993d59d4row7_col5 {\n",
       "            background-color:  #dedcdb;\n",
       "            color:  #000000;\n",
       "        }    #T_902e8308_befc_11ec_9303_b42e993d59d4row7_col6 {\n",
       "            background-color:  #3b4cc0;\n",
       "            color:  #f1f1f1;\n",
       "        }    #T_902e8308_befc_11ec_9303_b42e993d59d4row7_col7 {\n",
       "            background-color:  #b40426;\n",
       "            color:  #f1f1f1;\n",
       "        }    #T_902e8308_befc_11ec_9303_b42e993d59d4row7_col8 {\n",
       "            background-color:  #3b4cc0;\n",
       "            color:  #f1f1f1;\n",
       "        }    #T_902e8308_befc_11ec_9303_b42e993d59d4row7_col9 {\n",
       "            background-color:  #3b4cc0;\n",
       "            color:  #f1f1f1;\n",
       "        }    #T_902e8308_befc_11ec_9303_b42e993d59d4row7_col10 {\n",
       "            background-color:  #5e7de7;\n",
       "            color:  #000000;\n",
       "        }    #T_902e8308_befc_11ec_9303_b42e993d59d4row7_col11 {\n",
       "            background-color:  #dfdbd9;\n",
       "            color:  #000000;\n",
       "        }    #T_902e8308_befc_11ec_9303_b42e993d59d4row7_col12 {\n",
       "            background-color:  #506bda;\n",
       "            color:  #000000;\n",
       "        }    #T_902e8308_befc_11ec_9303_b42e993d59d4row8_col0 {\n",
       "            background-color:  #f6a283;\n",
       "            color:  #000000;\n",
       "        }    #T_902e8308_befc_11ec_9303_b42e993d59d4row8_col1 {\n",
       "            background-color:  #6f92f3;\n",
       "            color:  #000000;\n",
       "        }    #T_902e8308_befc_11ec_9303_b42e993d59d4row8_col2 {\n",
       "            background-color:  #f39475;\n",
       "            color:  #000000;\n",
       "        }    #T_902e8308_befc_11ec_9303_b42e993d59d4row8_col3 {\n",
       "            background-color:  #5a78e4;\n",
       "            color:  #000000;\n",
       "        }    #T_902e8308_befc_11ec_9303_b42e993d59d4row8_col4 {\n",
       "            background-color:  #f18d6f;\n",
       "            color:  #000000;\n",
       "        }    #T_902e8308_befc_11ec_9303_b42e993d59d4row8_col5 {\n",
       "            background-color:  #8db0fe;\n",
       "            color:  #000000;\n",
       "        }    #T_902e8308_befc_11ec_9303_b42e993d59d4row8_col6 {\n",
       "            background-color:  #f7b093;\n",
       "            color:  #000000;\n",
       "        }    #T_902e8308_befc_11ec_9303_b42e993d59d4row8_col7 {\n",
       "            background-color:  #6b8df0;\n",
       "            color:  #000000;\n",
       "        }    #T_902e8308_befc_11ec_9303_b42e993d59d4row8_col8 {\n",
       "            background-color:  #b40426;\n",
       "            color:  #f1f1f1;\n",
       "        }    #T_902e8308_befc_11ec_9303_b42e993d59d4row8_col9 {\n",
       "            background-color:  #c83836;\n",
       "            color:  #f1f1f1;\n",
       "        }    #T_902e8308_befc_11ec_9303_b42e993d59d4row8_col10 {\n",
       "            background-color:  #f3c7b1;\n",
       "            color:  #000000;\n",
       "        }    #T_902e8308_befc_11ec_9303_b42e993d59d4row8_col11 {\n",
       "            background-color:  #3b4cc0;\n",
       "            color:  #f1f1f1;\n",
       "        }    #T_902e8308_befc_11ec_9303_b42e993d59d4row8_col12 {\n",
       "            background-color:  #f7b396;\n",
       "            color:  #000000;\n",
       "        }    #T_902e8308_befc_11ec_9303_b42e993d59d4row9_col0 {\n",
       "            background-color:  #f7ad90;\n",
       "            color:  #000000;\n",
       "        }    #T_902e8308_befc_11ec_9303_b42e993d59d4row9_col1 {\n",
       "            background-color:  #6e90f2;\n",
       "            color:  #000000;\n",
       "        }    #T_902e8308_befc_11ec_9303_b42e993d59d4row9_col2 {\n",
       "            background-color:  #e67259;\n",
       "            color:  #000000;\n",
       "        }    #T_902e8308_befc_11ec_9303_b42e993d59d4row9_col3 {\n",
       "            background-color:  #516ddb;\n",
       "            color:  #000000;\n",
       "        }    #T_902e8308_befc_11ec_9303_b42e993d59d4row9_col4 {\n",
       "            background-color:  #ec7f63;\n",
       "            color:  #000000;\n",
       "        }    #T_902e8308_befc_11ec_9303_b42e993d59d4row9_col5 {\n",
       "            background-color:  #7b9ff9;\n",
       "            color:  #000000;\n",
       "        }    #T_902e8308_befc_11ec_9303_b42e993d59d4row9_col6 {\n",
       "            background-color:  #f7a688;\n",
       "            color:  #000000;\n",
       "        }    #T_902e8308_befc_11ec_9303_b42e993d59d4row9_col7 {\n",
       "            background-color:  #6384eb;\n",
       "            color:  #000000;\n",
       "        }    #T_902e8308_befc_11ec_9303_b42e993d59d4row9_col8 {\n",
       "            background-color:  #ca3b37;\n",
       "            color:  #f1f1f1;\n",
       "        }    #T_902e8308_befc_11ec_9303_b42e993d59d4row9_col9 {\n",
       "            background-color:  #b40426;\n",
       "            color:  #f1f1f1;\n",
       "        }    #T_902e8308_befc_11ec_9303_b42e993d59d4row9_col10 {\n",
       "            background-color:  #f3c8b2;\n",
       "            color:  #000000;\n",
       "        }    #T_902e8308_befc_11ec_9303_b42e993d59d4row9_col11 {\n",
       "            background-color:  #3b4cc0;\n",
       "            color:  #f1f1f1;\n",
       "        }    #T_902e8308_befc_11ec_9303_b42e993d59d4row9_col12 {\n",
       "            background-color:  #f7a688;\n",
       "            color:  #000000;\n",
       "        }    #T_902e8308_befc_11ec_9303_b42e993d59d4row10_col0 {\n",
       "            background-color:  #d9dce1;\n",
       "            color:  #000000;\n",
       "        }    #T_902e8308_befc_11ec_9303_b42e993d59d4row10_col1 {\n",
       "            background-color:  #5e7de7;\n",
       "            color:  #000000;\n",
       "        }    #T_902e8308_befc_11ec_9303_b42e993d59d4row10_col2 {\n",
       "            background-color:  #f5c0a7;\n",
       "            color:  #000000;\n",
       "        }    #T_902e8308_befc_11ec_9303_b42e993d59d4row10_col3 {\n",
       "            background-color:  #3b4cc0;\n",
       "            color:  #f1f1f1;\n",
       "        }    #T_902e8308_befc_11ec_9303_b42e993d59d4row10_col4 {\n",
       "            background-color:  #e7d7ce;\n",
       "            color:  #000000;\n",
       "        }    #T_902e8308_befc_11ec_9303_b42e993d59d4row10_col5 {\n",
       "            background-color:  #6c8ff1;\n",
       "            color:  #000000;\n",
       "        }    #T_902e8308_befc_11ec_9303_b42e993d59d4row10_col6 {\n",
       "            background-color:  #eed0c0;\n",
       "            color:  #000000;\n",
       "        }    #T_902e8308_befc_11ec_9303_b42e993d59d4row10_col7 {\n",
       "            background-color:  #9fbfff;\n",
       "            color:  #000000;\n",
       "        }    #T_902e8308_befc_11ec_9303_b42e993d59d4row10_col8 {\n",
       "            background-color:  #f6bfa6;\n",
       "            color:  #000000;\n",
       "        }    #T_902e8308_befc_11ec_9303_b42e993d59d4row10_col9 {\n",
       "            background-color:  #f6bda2;\n",
       "            color:  #000000;\n",
       "        }    #T_902e8308_befc_11ec_9303_b42e993d59d4row10_col10 {\n",
       "            background-color:  #b40426;\n",
       "            color:  #f1f1f1;\n",
       "        }    #T_902e8308_befc_11ec_9303_b42e993d59d4row10_col11 {\n",
       "            background-color:  #7699f6;\n",
       "            color:  #000000;\n",
       "        }    #T_902e8308_befc_11ec_9303_b42e993d59d4row10_col12 {\n",
       "            background-color:  #f3c8b2;\n",
       "            color:  #000000;\n",
       "        }    #T_902e8308_befc_11ec_9303_b42e993d59d4row11_col0 {\n",
       "            background-color:  #3b4cc0;\n",
       "            color:  #f1f1f1;\n",
       "        }    #T_902e8308_befc_11ec_9303_b42e993d59d4row11_col1 {\n",
       "            background-color:  #d6dce4;\n",
       "            color:  #000000;\n",
       "        }    #T_902e8308_befc_11ec_9303_b42e993d59d4row11_col2 {\n",
       "            background-color:  #7da0f9;\n",
       "            color:  #000000;\n",
       "        }    #T_902e8308_befc_11ec_9303_b42e993d59d4row11_col3 {\n",
       "            background-color:  #6a8bef;\n",
       "            color:  #000000;\n",
       "        }    #T_902e8308_befc_11ec_9303_b42e993d59d4row11_col4 {\n",
       "            background-color:  #82a6fb;\n",
       "            color:  #000000;\n",
       "        }    #T_902e8308_befc_11ec_9303_b42e993d59d4row11_col5 {\n",
       "            background-color:  #d2dbe8;\n",
       "            color:  #000000;\n",
       "        }    #T_902e8308_befc_11ec_9303_b42e993d59d4row11_col6 {\n",
       "            background-color:  #94b6ff;\n",
       "            color:  #000000;\n",
       "        }    #T_902e8308_befc_11ec_9303_b42e993d59d4row11_col7 {\n",
       "            background-color:  #f2cbb7;\n",
       "            color:  #000000;\n",
       "        }    #T_902e8308_befc_11ec_9303_b42e993d59d4row11_col8 {\n",
       "            background-color:  #445acc;\n",
       "            color:  #f1f1f1;\n",
       "        }    #T_902e8308_befc_11ec_9303_b42e993d59d4row11_col9 {\n",
       "            background-color:  #4c66d6;\n",
       "            color:  #000000;\n",
       "        }    #T_902e8308_befc_11ec_9303_b42e993d59d4row11_col10 {\n",
       "            background-color:  #6b8df0;\n",
       "            color:  #000000;\n",
       "        }    #T_902e8308_befc_11ec_9303_b42e993d59d4row11_col11 {\n",
       "            background-color:  #b40426;\n",
       "            color:  #f1f1f1;\n",
       "        }    #T_902e8308_befc_11ec_9303_b42e993d59d4row11_col12 {\n",
       "            background-color:  #6b8df0;\n",
       "            color:  #000000;\n",
       "        }    #T_902e8308_befc_11ec_9303_b42e993d59d4row12_col0 {\n",
       "            background-color:  #f2c9b4;\n",
       "            color:  #000000;\n",
       "        }    #T_902e8308_befc_11ec_9303_b42e993d59d4row12_col1 {\n",
       "            background-color:  #5977e3;\n",
       "            color:  #000000;\n",
       "        }    #T_902e8308_befc_11ec_9303_b42e993d59d4row12_col2 {\n",
       "            background-color:  #f29274;\n",
       "            color:  #000000;\n",
       "        }    #T_902e8308_befc_11ec_9303_b42e993d59d4row12_col3 {\n",
       "            background-color:  #4c66d6;\n",
       "            color:  #000000;\n",
       "        }    #T_902e8308_befc_11ec_9303_b42e993d59d4row12_col4 {\n",
       "            background-color:  #f29274;\n",
       "            color:  #000000;\n",
       "        }    #T_902e8308_befc_11ec_9303_b42e993d59d4row12_col5 {\n",
       "            background-color:  #3b4cc0;\n",
       "            color:  #f1f1f1;\n",
       "        }    #T_902e8308_befc_11ec_9303_b42e993d59d4row12_col6 {\n",
       "            background-color:  #f29072;\n",
       "            color:  #000000;\n",
       "        }    #T_902e8308_befc_11ec_9303_b42e993d59d4row12_col7 {\n",
       "            background-color:  #6b8df0;\n",
       "            color:  #000000;\n",
       "        }    #T_902e8308_befc_11ec_9303_b42e993d59d4row12_col8 {\n",
       "            background-color:  #f7ba9f;\n",
       "            color:  #000000;\n",
       "        }    #T_902e8308_befc_11ec_9303_b42e993d59d4row12_col9 {\n",
       "            background-color:  #f7ac8e;\n",
       "            color:  #000000;\n",
       "        }    #T_902e8308_befc_11ec_9303_b42e993d59d4row12_col10 {\n",
       "            background-color:  #e9d5cb;\n",
       "            color:  #000000;\n",
       "        }    #T_902e8308_befc_11ec_9303_b42e993d59d4row12_col11 {\n",
       "            background-color:  #4a63d3;\n",
       "            color:  #f1f1f1;\n",
       "        }    #T_902e8308_befc_11ec_9303_b42e993d59d4row12_col12 {\n",
       "            background-color:  #b40426;\n",
       "            color:  #f1f1f1;\n",
       "        }</style><table id=\"T_902e8308_befc_11ec_9303_b42e993d59d4\" ><thead>    <tr>        <th class=\"blank level0\" ></th>        <th class=\"col_heading level0 col0\" >CRIM</th>        <th class=\"col_heading level0 col1\" >ZN</th>        <th class=\"col_heading level0 col2\" >INDUS</th>        <th class=\"col_heading level0 col3\" >CHAS</th>        <th class=\"col_heading level0 col4\" >NOX</th>        <th class=\"col_heading level0 col5\" >RM</th>        <th class=\"col_heading level0 col6\" >AGE</th>        <th class=\"col_heading level0 col7\" >DIS</th>        <th class=\"col_heading level0 col8\" >RAD</th>        <th class=\"col_heading level0 col9\" >TAX</th>        <th class=\"col_heading level0 col10\" >PTRATIO</th>        <th class=\"col_heading level0 col11\" >B</th>        <th class=\"col_heading level0 col12\" >LSTAT</th>    </tr></thead><tbody>\n",
       "                <tr>\n",
       "                        <th id=\"T_902e8308_befc_11ec_9303_b42e993d59d4level0_row0\" class=\"row_heading level0 row0\" >CRIM</th>\n",
       "                        <td id=\"T_902e8308_befc_11ec_9303_b42e993d59d4row0_col0\" class=\"data row0 col0\" >1</td>\n",
       "                        <td id=\"T_902e8308_befc_11ec_9303_b42e993d59d4row0_col1\" class=\"data row0 col1\" >-0.200469</td>\n",
       "                        <td id=\"T_902e8308_befc_11ec_9303_b42e993d59d4row0_col2\" class=\"data row0 col2\" >0.406583</td>\n",
       "                        <td id=\"T_902e8308_befc_11ec_9303_b42e993d59d4row0_col3\" class=\"data row0 col3\" >-0.0558916</td>\n",
       "                        <td id=\"T_902e8308_befc_11ec_9303_b42e993d59d4row0_col4\" class=\"data row0 col4\" >0.420972</td>\n",
       "                        <td id=\"T_902e8308_befc_11ec_9303_b42e993d59d4row0_col5\" class=\"data row0 col5\" >-0.219247</td>\n",
       "                        <td id=\"T_902e8308_befc_11ec_9303_b42e993d59d4row0_col6\" class=\"data row0 col6\" >0.352734</td>\n",
       "                        <td id=\"T_902e8308_befc_11ec_9303_b42e993d59d4row0_col7\" class=\"data row0 col7\" >-0.37967</td>\n",
       "                        <td id=\"T_902e8308_befc_11ec_9303_b42e993d59d4row0_col8\" class=\"data row0 col8\" >0.625505</td>\n",
       "                        <td id=\"T_902e8308_befc_11ec_9303_b42e993d59d4row0_col9\" class=\"data row0 col9\" >0.582764</td>\n",
       "                        <td id=\"T_902e8308_befc_11ec_9303_b42e993d59d4row0_col10\" class=\"data row0 col10\" >0.289946</td>\n",
       "                        <td id=\"T_902e8308_befc_11ec_9303_b42e993d59d4row0_col11\" class=\"data row0 col11\" >-0.385064</td>\n",
       "                        <td id=\"T_902e8308_befc_11ec_9303_b42e993d59d4row0_col12\" class=\"data row0 col12\" >0.455621</td>\n",
       "            </tr>\n",
       "            <tr>\n",
       "                        <th id=\"T_902e8308_befc_11ec_9303_b42e993d59d4level0_row1\" class=\"row_heading level0 row1\" >ZN</th>\n",
       "                        <td id=\"T_902e8308_befc_11ec_9303_b42e993d59d4row1_col0\" class=\"data row1 col0\" >-0.200469</td>\n",
       "                        <td id=\"T_902e8308_befc_11ec_9303_b42e993d59d4row1_col1\" class=\"data row1 col1\" >1</td>\n",
       "                        <td id=\"T_902e8308_befc_11ec_9303_b42e993d59d4row1_col2\" class=\"data row1 col2\" >-0.533828</td>\n",
       "                        <td id=\"T_902e8308_befc_11ec_9303_b42e993d59d4row1_col3\" class=\"data row1 col3\" >-0.0426967</td>\n",
       "                        <td id=\"T_902e8308_befc_11ec_9303_b42e993d59d4row1_col4\" class=\"data row1 col4\" >-0.516604</td>\n",
       "                        <td id=\"T_902e8308_befc_11ec_9303_b42e993d59d4row1_col5\" class=\"data row1 col5\" >0.311991</td>\n",
       "                        <td id=\"T_902e8308_befc_11ec_9303_b42e993d59d4row1_col6\" class=\"data row1 col6\" >-0.569537</td>\n",
       "                        <td id=\"T_902e8308_befc_11ec_9303_b42e993d59d4row1_col7\" class=\"data row1 col7\" >0.664408</td>\n",
       "                        <td id=\"T_902e8308_befc_11ec_9303_b42e993d59d4row1_col8\" class=\"data row1 col8\" >-0.311948</td>\n",
       "                        <td id=\"T_902e8308_befc_11ec_9303_b42e993d59d4row1_col9\" class=\"data row1 col9\" >-0.314563</td>\n",
       "                        <td id=\"T_902e8308_befc_11ec_9303_b42e993d59d4row1_col10\" class=\"data row1 col10\" >-0.391679</td>\n",
       "                        <td id=\"T_902e8308_befc_11ec_9303_b42e993d59d4row1_col11\" class=\"data row1 col11\" >0.17552</td>\n",
       "                        <td id=\"T_902e8308_befc_11ec_9303_b42e993d59d4row1_col12\" class=\"data row1 col12\" >-0.412995</td>\n",
       "            </tr>\n",
       "            <tr>\n",
       "                        <th id=\"T_902e8308_befc_11ec_9303_b42e993d59d4level0_row2\" class=\"row_heading level0 row2\" >INDUS</th>\n",
       "                        <td id=\"T_902e8308_befc_11ec_9303_b42e993d59d4row2_col0\" class=\"data row2 col0\" >0.406583</td>\n",
       "                        <td id=\"T_902e8308_befc_11ec_9303_b42e993d59d4row2_col1\" class=\"data row2 col1\" >-0.533828</td>\n",
       "                        <td id=\"T_902e8308_befc_11ec_9303_b42e993d59d4row2_col2\" class=\"data row2 col2\" >1</td>\n",
       "                        <td id=\"T_902e8308_befc_11ec_9303_b42e993d59d4row2_col3\" class=\"data row2 col3\" >0.062938</td>\n",
       "                        <td id=\"T_902e8308_befc_11ec_9303_b42e993d59d4row2_col4\" class=\"data row2 col4\" >0.763651</td>\n",
       "                        <td id=\"T_902e8308_befc_11ec_9303_b42e993d59d4row2_col5\" class=\"data row2 col5\" >-0.391676</td>\n",
       "                        <td id=\"T_902e8308_befc_11ec_9303_b42e993d59d4row2_col6\" class=\"data row2 col6\" >0.644779</td>\n",
       "                        <td id=\"T_902e8308_befc_11ec_9303_b42e993d59d4row2_col7\" class=\"data row2 col7\" >-0.708027</td>\n",
       "                        <td id=\"T_902e8308_befc_11ec_9303_b42e993d59d4row2_col8\" class=\"data row2 col8\" >0.595129</td>\n",
       "                        <td id=\"T_902e8308_befc_11ec_9303_b42e993d59d4row2_col9\" class=\"data row2 col9\" >0.72076</td>\n",
       "                        <td id=\"T_902e8308_befc_11ec_9303_b42e993d59d4row2_col10\" class=\"data row2 col10\" >0.383248</td>\n",
       "                        <td id=\"T_902e8308_befc_11ec_9303_b42e993d59d4row2_col11\" class=\"data row2 col11\" >-0.356977</td>\n",
       "                        <td id=\"T_902e8308_befc_11ec_9303_b42e993d59d4row2_col12\" class=\"data row2 col12\" >0.6038</td>\n",
       "            </tr>\n",
       "            <tr>\n",
       "                        <th id=\"T_902e8308_befc_11ec_9303_b42e993d59d4level0_row3\" class=\"row_heading level0 row3\" >CHAS</th>\n",
       "                        <td id=\"T_902e8308_befc_11ec_9303_b42e993d59d4row3_col0\" class=\"data row3 col0\" >-0.0558916</td>\n",
       "                        <td id=\"T_902e8308_befc_11ec_9303_b42e993d59d4row3_col1\" class=\"data row3 col1\" >-0.0426967</td>\n",
       "                        <td id=\"T_902e8308_befc_11ec_9303_b42e993d59d4row3_col2\" class=\"data row3 col2\" >0.062938</td>\n",
       "                        <td id=\"T_902e8308_befc_11ec_9303_b42e993d59d4row3_col3\" class=\"data row3 col3\" >1</td>\n",
       "                        <td id=\"T_902e8308_befc_11ec_9303_b42e993d59d4row3_col4\" class=\"data row3 col4\" >0.0912028</td>\n",
       "                        <td id=\"T_902e8308_befc_11ec_9303_b42e993d59d4row3_col5\" class=\"data row3 col5\" >0.0912512</td>\n",
       "                        <td id=\"T_902e8308_befc_11ec_9303_b42e993d59d4row3_col6\" class=\"data row3 col6\" >0.0865178</td>\n",
       "                        <td id=\"T_902e8308_befc_11ec_9303_b42e993d59d4row3_col7\" class=\"data row3 col7\" >-0.0991758</td>\n",
       "                        <td id=\"T_902e8308_befc_11ec_9303_b42e993d59d4row3_col8\" class=\"data row3 col8\" >-0.00736824</td>\n",
       "                        <td id=\"T_902e8308_befc_11ec_9303_b42e993d59d4row3_col9\" class=\"data row3 col9\" >-0.0355865</td>\n",
       "                        <td id=\"T_902e8308_befc_11ec_9303_b42e993d59d4row3_col10\" class=\"data row3 col10\" >-0.121515</td>\n",
       "                        <td id=\"T_902e8308_befc_11ec_9303_b42e993d59d4row3_col11\" class=\"data row3 col11\" >0.0487885</td>\n",
       "                        <td id=\"T_902e8308_befc_11ec_9303_b42e993d59d4row3_col12\" class=\"data row3 col12\" >-0.0539293</td>\n",
       "            </tr>\n",
       "            <tr>\n",
       "                        <th id=\"T_902e8308_befc_11ec_9303_b42e993d59d4level0_row4\" class=\"row_heading level0 row4\" >NOX</th>\n",
       "                        <td id=\"T_902e8308_befc_11ec_9303_b42e993d59d4row4_col0\" class=\"data row4 col0\" >0.420972</td>\n",
       "                        <td id=\"T_902e8308_befc_11ec_9303_b42e993d59d4row4_col1\" class=\"data row4 col1\" >-0.516604</td>\n",
       "                        <td id=\"T_902e8308_befc_11ec_9303_b42e993d59d4row4_col2\" class=\"data row4 col2\" >0.763651</td>\n",
       "                        <td id=\"T_902e8308_befc_11ec_9303_b42e993d59d4row4_col3\" class=\"data row4 col3\" >0.0912028</td>\n",
       "                        <td id=\"T_902e8308_befc_11ec_9303_b42e993d59d4row4_col4\" class=\"data row4 col4\" >1</td>\n",
       "                        <td id=\"T_902e8308_befc_11ec_9303_b42e993d59d4row4_col5\" class=\"data row4 col5\" >-0.302188</td>\n",
       "                        <td id=\"T_902e8308_befc_11ec_9303_b42e993d59d4row4_col6\" class=\"data row4 col6\" >0.73147</td>\n",
       "                        <td id=\"T_902e8308_befc_11ec_9303_b42e993d59d4row4_col7\" class=\"data row4 col7\" >-0.76923</td>\n",
       "                        <td id=\"T_902e8308_befc_11ec_9303_b42e993d59d4row4_col8\" class=\"data row4 col8\" >0.611441</td>\n",
       "                        <td id=\"T_902e8308_befc_11ec_9303_b42e993d59d4row4_col9\" class=\"data row4 col9\" >0.668023</td>\n",
       "                        <td id=\"T_902e8308_befc_11ec_9303_b42e993d59d4row4_col10\" class=\"data row4 col10\" >0.188933</td>\n",
       "                        <td id=\"T_902e8308_befc_11ec_9303_b42e993d59d4row4_col11\" class=\"data row4 col11\" >-0.380051</td>\n",
       "                        <td id=\"T_902e8308_befc_11ec_9303_b42e993d59d4row4_col12\" class=\"data row4 col12\" >0.590879</td>\n",
       "            </tr>\n",
       "            <tr>\n",
       "                        <th id=\"T_902e8308_befc_11ec_9303_b42e993d59d4level0_row5\" class=\"row_heading level0 row5\" >RM</th>\n",
       "                        <td id=\"T_902e8308_befc_11ec_9303_b42e993d59d4row5_col0\" class=\"data row5 col0\" >-0.219247</td>\n",
       "                        <td id=\"T_902e8308_befc_11ec_9303_b42e993d59d4row5_col1\" class=\"data row5 col1\" >0.311991</td>\n",
       "                        <td id=\"T_902e8308_befc_11ec_9303_b42e993d59d4row5_col2\" class=\"data row5 col2\" >-0.391676</td>\n",
       "                        <td id=\"T_902e8308_befc_11ec_9303_b42e993d59d4row5_col3\" class=\"data row5 col3\" >0.0912512</td>\n",
       "                        <td id=\"T_902e8308_befc_11ec_9303_b42e993d59d4row5_col4\" class=\"data row5 col4\" >-0.302188</td>\n",
       "                        <td id=\"T_902e8308_befc_11ec_9303_b42e993d59d4row5_col5\" class=\"data row5 col5\" >1</td>\n",
       "                        <td id=\"T_902e8308_befc_11ec_9303_b42e993d59d4row5_col6\" class=\"data row5 col6\" >-0.240265</td>\n",
       "                        <td id=\"T_902e8308_befc_11ec_9303_b42e993d59d4row5_col7\" class=\"data row5 col7\" >0.205246</td>\n",
       "                        <td id=\"T_902e8308_befc_11ec_9303_b42e993d59d4row5_col8\" class=\"data row5 col8\" >-0.209847</td>\n",
       "                        <td id=\"T_902e8308_befc_11ec_9303_b42e993d59d4row5_col9\" class=\"data row5 col9\" >-0.292048</td>\n",
       "                        <td id=\"T_902e8308_befc_11ec_9303_b42e993d59d4row5_col10\" class=\"data row5 col10\" >-0.355501</td>\n",
       "                        <td id=\"T_902e8308_befc_11ec_9303_b42e993d59d4row5_col11\" class=\"data row5 col11\" >0.128069</td>\n",
       "                        <td id=\"T_902e8308_befc_11ec_9303_b42e993d59d4row5_col12\" class=\"data row5 col12\" >-0.613808</td>\n",
       "            </tr>\n",
       "            <tr>\n",
       "                        <th id=\"T_902e8308_befc_11ec_9303_b42e993d59d4level0_row6\" class=\"row_heading level0 row6\" >AGE</th>\n",
       "                        <td id=\"T_902e8308_befc_11ec_9303_b42e993d59d4row6_col0\" class=\"data row6 col0\" >0.352734</td>\n",
       "                        <td id=\"T_902e8308_befc_11ec_9303_b42e993d59d4row6_col1\" class=\"data row6 col1\" >-0.569537</td>\n",
       "                        <td id=\"T_902e8308_befc_11ec_9303_b42e993d59d4row6_col2\" class=\"data row6 col2\" >0.644779</td>\n",
       "                        <td id=\"T_902e8308_befc_11ec_9303_b42e993d59d4row6_col3\" class=\"data row6 col3\" >0.0865178</td>\n",
       "                        <td id=\"T_902e8308_befc_11ec_9303_b42e993d59d4row6_col4\" class=\"data row6 col4\" >0.73147</td>\n",
       "                        <td id=\"T_902e8308_befc_11ec_9303_b42e993d59d4row6_col5\" class=\"data row6 col5\" >-0.240265</td>\n",
       "                        <td id=\"T_902e8308_befc_11ec_9303_b42e993d59d4row6_col6\" class=\"data row6 col6\" >1</td>\n",
       "                        <td id=\"T_902e8308_befc_11ec_9303_b42e993d59d4row6_col7\" class=\"data row6 col7\" >-0.747881</td>\n",
       "                        <td id=\"T_902e8308_befc_11ec_9303_b42e993d59d4row6_col8\" class=\"data row6 col8\" >0.456022</td>\n",
       "                        <td id=\"T_902e8308_befc_11ec_9303_b42e993d59d4row6_col9\" class=\"data row6 col9\" >0.506456</td>\n",
       "                        <td id=\"T_902e8308_befc_11ec_9303_b42e993d59d4row6_col10\" class=\"data row6 col10\" >0.261515</td>\n",
       "                        <td id=\"T_902e8308_befc_11ec_9303_b42e993d59d4row6_col11\" class=\"data row6 col11\" >-0.273534</td>\n",
       "                        <td id=\"T_902e8308_befc_11ec_9303_b42e993d59d4row6_col12\" class=\"data row6 col12\" >0.602339</td>\n",
       "            </tr>\n",
       "            <tr>\n",
       "                        <th id=\"T_902e8308_befc_11ec_9303_b42e993d59d4level0_row7\" class=\"row_heading level0 row7\" >DIS</th>\n",
       "                        <td id=\"T_902e8308_befc_11ec_9303_b42e993d59d4row7_col0\" class=\"data row7 col0\" >-0.37967</td>\n",
       "                        <td id=\"T_902e8308_befc_11ec_9303_b42e993d59d4row7_col1\" class=\"data row7 col1\" >0.664408</td>\n",
       "                        <td id=\"T_902e8308_befc_11ec_9303_b42e993d59d4row7_col2\" class=\"data row7 col2\" >-0.708027</td>\n",
       "                        <td id=\"T_902e8308_befc_11ec_9303_b42e993d59d4row7_col3\" class=\"data row7 col3\" >-0.0991758</td>\n",
       "                        <td id=\"T_902e8308_befc_11ec_9303_b42e993d59d4row7_col4\" class=\"data row7 col4\" >-0.76923</td>\n",
       "                        <td id=\"T_902e8308_befc_11ec_9303_b42e993d59d4row7_col5\" class=\"data row7 col5\" >0.205246</td>\n",
       "                        <td id=\"T_902e8308_befc_11ec_9303_b42e993d59d4row7_col6\" class=\"data row7 col6\" >-0.747881</td>\n",
       "                        <td id=\"T_902e8308_befc_11ec_9303_b42e993d59d4row7_col7\" class=\"data row7 col7\" >1</td>\n",
       "                        <td id=\"T_902e8308_befc_11ec_9303_b42e993d59d4row7_col8\" class=\"data row7 col8\" >-0.494588</td>\n",
       "                        <td id=\"T_902e8308_befc_11ec_9303_b42e993d59d4row7_col9\" class=\"data row7 col9\" >-0.534432</td>\n",
       "                        <td id=\"T_902e8308_befc_11ec_9303_b42e993d59d4row7_col10\" class=\"data row7 col10\" >-0.232471</td>\n",
       "                        <td id=\"T_902e8308_befc_11ec_9303_b42e993d59d4row7_col11\" class=\"data row7 col11\" >0.291512</td>\n",
       "                        <td id=\"T_902e8308_befc_11ec_9303_b42e993d59d4row7_col12\" class=\"data row7 col12\" >-0.496996</td>\n",
       "            </tr>\n",
       "            <tr>\n",
       "                        <th id=\"T_902e8308_befc_11ec_9303_b42e993d59d4level0_row8\" class=\"row_heading level0 row8\" >RAD</th>\n",
       "                        <td id=\"T_902e8308_befc_11ec_9303_b42e993d59d4row8_col0\" class=\"data row8 col0\" >0.625505</td>\n",
       "                        <td id=\"T_902e8308_befc_11ec_9303_b42e993d59d4row8_col1\" class=\"data row8 col1\" >-0.311948</td>\n",
       "                        <td id=\"T_902e8308_befc_11ec_9303_b42e993d59d4row8_col2\" class=\"data row8 col2\" >0.595129</td>\n",
       "                        <td id=\"T_902e8308_befc_11ec_9303_b42e993d59d4row8_col3\" class=\"data row8 col3\" >-0.00736824</td>\n",
       "                        <td id=\"T_902e8308_befc_11ec_9303_b42e993d59d4row8_col4\" class=\"data row8 col4\" >0.611441</td>\n",
       "                        <td id=\"T_902e8308_befc_11ec_9303_b42e993d59d4row8_col5\" class=\"data row8 col5\" >-0.209847</td>\n",
       "                        <td id=\"T_902e8308_befc_11ec_9303_b42e993d59d4row8_col6\" class=\"data row8 col6\" >0.456022</td>\n",
       "                        <td id=\"T_902e8308_befc_11ec_9303_b42e993d59d4row8_col7\" class=\"data row8 col7\" >-0.494588</td>\n",
       "                        <td id=\"T_902e8308_befc_11ec_9303_b42e993d59d4row8_col8\" class=\"data row8 col8\" >1</td>\n",
       "                        <td id=\"T_902e8308_befc_11ec_9303_b42e993d59d4row8_col9\" class=\"data row8 col9\" >0.910228</td>\n",
       "                        <td id=\"T_902e8308_befc_11ec_9303_b42e993d59d4row8_col10\" class=\"data row8 col10\" >0.464741</td>\n",
       "                        <td id=\"T_902e8308_befc_11ec_9303_b42e993d59d4row8_col11\" class=\"data row8 col11\" >-0.444413</td>\n",
       "                        <td id=\"T_902e8308_befc_11ec_9303_b42e993d59d4row8_col12\" class=\"data row8 col12\" >0.488676</td>\n",
       "            </tr>\n",
       "            <tr>\n",
       "                        <th id=\"T_902e8308_befc_11ec_9303_b42e993d59d4level0_row9\" class=\"row_heading level0 row9\" >TAX</th>\n",
       "                        <td id=\"T_902e8308_befc_11ec_9303_b42e993d59d4row9_col0\" class=\"data row9 col0\" >0.582764</td>\n",
       "                        <td id=\"T_902e8308_befc_11ec_9303_b42e993d59d4row9_col1\" class=\"data row9 col1\" >-0.314563</td>\n",
       "                        <td id=\"T_902e8308_befc_11ec_9303_b42e993d59d4row9_col2\" class=\"data row9 col2\" >0.72076</td>\n",
       "                        <td id=\"T_902e8308_befc_11ec_9303_b42e993d59d4row9_col3\" class=\"data row9 col3\" >-0.0355865</td>\n",
       "                        <td id=\"T_902e8308_befc_11ec_9303_b42e993d59d4row9_col4\" class=\"data row9 col4\" >0.668023</td>\n",
       "                        <td id=\"T_902e8308_befc_11ec_9303_b42e993d59d4row9_col5\" class=\"data row9 col5\" >-0.292048</td>\n",
       "                        <td id=\"T_902e8308_befc_11ec_9303_b42e993d59d4row9_col6\" class=\"data row9 col6\" >0.506456</td>\n",
       "                        <td id=\"T_902e8308_befc_11ec_9303_b42e993d59d4row9_col7\" class=\"data row9 col7\" >-0.534432</td>\n",
       "                        <td id=\"T_902e8308_befc_11ec_9303_b42e993d59d4row9_col8\" class=\"data row9 col8\" >0.910228</td>\n",
       "                        <td id=\"T_902e8308_befc_11ec_9303_b42e993d59d4row9_col9\" class=\"data row9 col9\" >1</td>\n",
       "                        <td id=\"T_902e8308_befc_11ec_9303_b42e993d59d4row9_col10\" class=\"data row9 col10\" >0.460853</td>\n",
       "                        <td id=\"T_902e8308_befc_11ec_9303_b42e993d59d4row9_col11\" class=\"data row9 col11\" >-0.441808</td>\n",
       "                        <td id=\"T_902e8308_befc_11ec_9303_b42e993d59d4row9_col12\" class=\"data row9 col12\" >0.543993</td>\n",
       "            </tr>\n",
       "            <tr>\n",
       "                        <th id=\"T_902e8308_befc_11ec_9303_b42e993d59d4level0_row10\" class=\"row_heading level0 row10\" >PTRATIO</th>\n",
       "                        <td id=\"T_902e8308_befc_11ec_9303_b42e993d59d4row10_col0\" class=\"data row10 col0\" >0.289946</td>\n",
       "                        <td id=\"T_902e8308_befc_11ec_9303_b42e993d59d4row10_col1\" class=\"data row10 col1\" >-0.391679</td>\n",
       "                        <td id=\"T_902e8308_befc_11ec_9303_b42e993d59d4row10_col2\" class=\"data row10 col2\" >0.383248</td>\n",
       "                        <td id=\"T_902e8308_befc_11ec_9303_b42e993d59d4row10_col3\" class=\"data row10 col3\" >-0.121515</td>\n",
       "                        <td id=\"T_902e8308_befc_11ec_9303_b42e993d59d4row10_col4\" class=\"data row10 col4\" >0.188933</td>\n",
       "                        <td id=\"T_902e8308_befc_11ec_9303_b42e993d59d4row10_col5\" class=\"data row10 col5\" >-0.355501</td>\n",
       "                        <td id=\"T_902e8308_befc_11ec_9303_b42e993d59d4row10_col6\" class=\"data row10 col6\" >0.261515</td>\n",
       "                        <td id=\"T_902e8308_befc_11ec_9303_b42e993d59d4row10_col7\" class=\"data row10 col7\" >-0.232471</td>\n",
       "                        <td id=\"T_902e8308_befc_11ec_9303_b42e993d59d4row10_col8\" class=\"data row10 col8\" >0.464741</td>\n",
       "                        <td id=\"T_902e8308_befc_11ec_9303_b42e993d59d4row10_col9\" class=\"data row10 col9\" >0.460853</td>\n",
       "                        <td id=\"T_902e8308_befc_11ec_9303_b42e993d59d4row10_col10\" class=\"data row10 col10\" >1</td>\n",
       "                        <td id=\"T_902e8308_befc_11ec_9303_b42e993d59d4row10_col11\" class=\"data row10 col11\" >-0.177383</td>\n",
       "                        <td id=\"T_902e8308_befc_11ec_9303_b42e993d59d4row10_col12\" class=\"data row10 col12\" >0.374044</td>\n",
       "            </tr>\n",
       "            <tr>\n",
       "                        <th id=\"T_902e8308_befc_11ec_9303_b42e993d59d4level0_row11\" class=\"row_heading level0 row11\" >B</th>\n",
       "                        <td id=\"T_902e8308_befc_11ec_9303_b42e993d59d4row11_col0\" class=\"data row11 col0\" >-0.385064</td>\n",
       "                        <td id=\"T_902e8308_befc_11ec_9303_b42e993d59d4row11_col1\" class=\"data row11 col1\" >0.17552</td>\n",
       "                        <td id=\"T_902e8308_befc_11ec_9303_b42e993d59d4row11_col2\" class=\"data row11 col2\" >-0.356977</td>\n",
       "                        <td id=\"T_902e8308_befc_11ec_9303_b42e993d59d4row11_col3\" class=\"data row11 col3\" >0.0487885</td>\n",
       "                        <td id=\"T_902e8308_befc_11ec_9303_b42e993d59d4row11_col4\" class=\"data row11 col4\" >-0.380051</td>\n",
       "                        <td id=\"T_902e8308_befc_11ec_9303_b42e993d59d4row11_col5\" class=\"data row11 col5\" >0.128069</td>\n",
       "                        <td id=\"T_902e8308_befc_11ec_9303_b42e993d59d4row11_col6\" class=\"data row11 col6\" >-0.273534</td>\n",
       "                        <td id=\"T_902e8308_befc_11ec_9303_b42e993d59d4row11_col7\" class=\"data row11 col7\" >0.291512</td>\n",
       "                        <td id=\"T_902e8308_befc_11ec_9303_b42e993d59d4row11_col8\" class=\"data row11 col8\" >-0.444413</td>\n",
       "                        <td id=\"T_902e8308_befc_11ec_9303_b42e993d59d4row11_col9\" class=\"data row11 col9\" >-0.441808</td>\n",
       "                        <td id=\"T_902e8308_befc_11ec_9303_b42e993d59d4row11_col10\" class=\"data row11 col10\" >-0.177383</td>\n",
       "                        <td id=\"T_902e8308_befc_11ec_9303_b42e993d59d4row11_col11\" class=\"data row11 col11\" >1</td>\n",
       "                        <td id=\"T_902e8308_befc_11ec_9303_b42e993d59d4row11_col12\" class=\"data row11 col12\" >-0.366087</td>\n",
       "            </tr>\n",
       "            <tr>\n",
       "                        <th id=\"T_902e8308_befc_11ec_9303_b42e993d59d4level0_row12\" class=\"row_heading level0 row12\" >LSTAT</th>\n",
       "                        <td id=\"T_902e8308_befc_11ec_9303_b42e993d59d4row12_col0\" class=\"data row12 col0\" >0.455621</td>\n",
       "                        <td id=\"T_902e8308_befc_11ec_9303_b42e993d59d4row12_col1\" class=\"data row12 col1\" >-0.412995</td>\n",
       "                        <td id=\"T_902e8308_befc_11ec_9303_b42e993d59d4row12_col2\" class=\"data row12 col2\" >0.6038</td>\n",
       "                        <td id=\"T_902e8308_befc_11ec_9303_b42e993d59d4row12_col3\" class=\"data row12 col3\" >-0.0539293</td>\n",
       "                        <td id=\"T_902e8308_befc_11ec_9303_b42e993d59d4row12_col4\" class=\"data row12 col4\" >0.590879</td>\n",
       "                        <td id=\"T_902e8308_befc_11ec_9303_b42e993d59d4row12_col5\" class=\"data row12 col5\" >-0.613808</td>\n",
       "                        <td id=\"T_902e8308_befc_11ec_9303_b42e993d59d4row12_col6\" class=\"data row12 col6\" >0.602339</td>\n",
       "                        <td id=\"T_902e8308_befc_11ec_9303_b42e993d59d4row12_col7\" class=\"data row12 col7\" >-0.496996</td>\n",
       "                        <td id=\"T_902e8308_befc_11ec_9303_b42e993d59d4row12_col8\" class=\"data row12 col8\" >0.488676</td>\n",
       "                        <td id=\"T_902e8308_befc_11ec_9303_b42e993d59d4row12_col9\" class=\"data row12 col9\" >0.543993</td>\n",
       "                        <td id=\"T_902e8308_befc_11ec_9303_b42e993d59d4row12_col10\" class=\"data row12 col10\" >0.374044</td>\n",
       "                        <td id=\"T_902e8308_befc_11ec_9303_b42e993d59d4row12_col11\" class=\"data row12 col11\" >-0.366087</td>\n",
       "                        <td id=\"T_902e8308_befc_11ec_9303_b42e993d59d4row12_col12\" class=\"data row12 col12\" >1</td>\n",
       "            </tr>\n",
       "    </tbody></table>"
      ],
      "text/plain": [
       "<pandas.io.formats.style.Styler at 0x19f35a8edd8>"
      ]
     },
     "execution_count": 59,
     "metadata": {},
     "output_type": "execute_result"
    }
   ],
   "source": [
    "corr = X.corr(method='pearson')\n",
    "corr.style.background_gradient(cmap='coolwarm')"
   ]
  },
  {
   "cell_type": "code",
   "execution_count": 60,
   "metadata": {},
   "outputs": [
    {
     "data": {
      "text/plain": [
       "<matplotlib.axes._subplots.AxesSubplot at 0x19f35b756a0>"
      ]
     },
     "execution_count": 60,
     "metadata": {},
     "output_type": "execute_result"
    },
    {
     "data": {
      "image/png": "[encoded data removed]",
      "text/plain": [
       "<Figure size 432x288 with 2 Axes>"
      ]
     },
     "metadata": {
      "needs_background": "light"
     },
     "output_type": "display_data"
    }
   ],
   "source": [
    "import seaborn as sns\n",
    "corr = X.corr(method='pearson')\n",
    "sns.heatmap(corr, \n",
    "            xticklabels=corr.columns.values,\n",
    "            yticklabels=corr.columns.values)"
   ]
  },
  {
   "cell_type": "code",
   "execution_count": 61,
   "metadata": {},
   "outputs": [],
   "source": [
    "X_new=df\n",
    "X_new['Target']=y"
   ]
  },
  {
   "cell_type": "code",
   "execution_count": 62,
   "metadata": {},
   "outputs": [
    {
     "data": {
      "text/html": [
       "<div>\n",
       "<style scoped>\n",
       "    .dataframe tbody tr th:only-of-type {\n",
       "        vertical-align: middle;\n",
       "    }\n",
       "\n",
       "    .dataframe tbody tr th {\n",
       "        vertical-align: top;\n",
       "    }\n",
       "\n",
       "    .dataframe thead th {\n",
       "        text-align: right;\n",
       "    }\n",
       "</style>\n",
       "<table border=\"1\" class=\"dataframe\">\n",
       "  <thead>\n",
       "    <tr style=\"text-align: right;\">\n",
       "      <th></th>\n",
       "      <th>CRIM</th>\n",
       "      <th>ZN</th>\n",
       "      <th>INDUS</th>\n",
       "      <th>CHAS</th>\n",
       "      <th>NOX</th>\n",
       "      <th>RM</th>\n",
       "      <th>AGE</th>\n",
       "      <th>DIS</th>\n",
       "      <th>RAD</th>\n",
       "      <th>TAX</th>\n",
       "      <th>PTRATIO</th>\n",
       "      <th>B</th>\n",
       "      <th>LSTAT</th>\n",
       "      <th>Target</th>\n",
       "    </tr>\n",
       "  </thead>\n",
       "  <tbody>\n",
       "    <tr>\n",
       "      <th>0</th>\n",
       "      <td>0.00632</td>\n",
       "      <td>18.0</td>\n",
       "      <td>2.31</td>\n",
       "      <td>0.0</td>\n",
       "      <td>0.538</td>\n",
       "      <td>6.575</td>\n",
       "      <td>65.2</td>\n",
       "      <td>4.0900</td>\n",
       "      <td>1.0</td>\n",
       "      <td>296.0</td>\n",
       "      <td>15.3</td>\n",
       "      <td>396.90</td>\n",
       "      <td>4.98</td>\n",
       "      <td>24.0</td>\n",
       "    </tr>\n",
       "    <tr>\n",
       "      <th>1</th>\n",
       "      <td>0.02731</td>\n",
       "      <td>0.0</td>\n",
       "      <td>7.07</td>\n",
       "      <td>0.0</td>\n",
       "      <td>0.469</td>\n",
       "      <td>6.421</td>\n",
       "      <td>78.9</td>\n",
       "      <td>4.9671</td>\n",
       "      <td>2.0</td>\n",
       "      <td>242.0</td>\n",
       "      <td>17.8</td>\n",
       "      <td>396.90</td>\n",
       "      <td>9.14</td>\n",
       "      <td>21.6</td>\n",
       "    </tr>\n",
       "    <tr>\n",
       "      <th>2</th>\n",
       "      <td>0.02729</td>\n",
       "      <td>0.0</td>\n",
       "      <td>7.07</td>\n",
       "      <td>0.0</td>\n",
       "      <td>0.469</td>\n",
       "      <td>7.185</td>\n",
       "      <td>61.1</td>\n",
       "      <td>4.9671</td>\n",
       "      <td>2.0</td>\n",
       "      <td>242.0</td>\n",
       "      <td>17.8</td>\n",
       "      <td>392.83</td>\n",
       "      <td>4.03</td>\n",
       "      <td>34.7</td>\n",
       "    </tr>\n",
       "    <tr>\n",
       "      <th>3</th>\n",
       "      <td>0.03237</td>\n",
       "      <td>0.0</td>\n",
       "      <td>2.18</td>\n",
       "      <td>0.0</td>\n",
       "      <td>0.458</td>\n",
       "      <td>6.998</td>\n",
       "      <td>45.8</td>\n",
       "      <td>6.0622</td>\n",
       "      <td>3.0</td>\n",
       "      <td>222.0</td>\n",
       "      <td>18.7</td>\n",
       "      <td>394.63</td>\n",
       "      <td>2.94</td>\n",
       "      <td>33.4</td>\n",
       "    </tr>\n",
       "    <tr>\n",
       "      <th>4</th>\n",
       "      <td>0.06905</td>\n",
       "      <td>0.0</td>\n",
       "      <td>2.18</td>\n",
       "      <td>0.0</td>\n",
       "      <td>0.458</td>\n",
       "      <td>7.147</td>\n",
       "      <td>54.2</td>\n",
       "      <td>6.0622</td>\n",
       "      <td>3.0</td>\n",
       "      <td>222.0</td>\n",
       "      <td>18.7</td>\n",
       "      <td>396.90</td>\n",
       "      <td>5.33</td>\n",
       "      <td>36.2</td>\n",
       "    </tr>\n",
       "  </tbody>\n",
       "</table>\n",
       "</div>"
      ],
      "text/plain": [
       "      CRIM    ZN  INDUS  CHAS    NOX     RM   AGE     DIS  RAD    TAX  \\\n",
       "0  0.00632  18.0   2.31   0.0  0.538  6.575  65.2  4.0900  1.0  296.0   \n",
       "1  0.02731   0.0   7.07   0.0  0.469  6.421  78.9  4.9671  2.0  242.0   \n",
       "2  0.02729   0.0   7.07   0.0  0.469  7.185  61.1  4.9671  2.0  242.0   \n",
       "3  0.03237   0.0   2.18   0.0  0.458  6.998  45.8  6.0622  3.0  222.0   \n",
       "4  0.06905   0.0   2.18   0.0  0.458  7.147  54.2  6.0622  3.0  222.0   \n",
       "\n",
       "   PTRATIO       B  LSTAT  Target  \n",
       "0     15.3  396.90   4.98    24.0  \n",
       "1     17.8  396.90   9.14    21.6  \n",
       "2     17.8  392.83   4.03    34.7  \n",
       "3     18.7  394.63   2.94    33.4  \n",
       "4     18.7  396.90   5.33    36.2  "
      ]
     },
     "execution_count": 62,
     "metadata": {},
     "output_type": "execute_result"
    }
   ],
   "source": [
    "X_new.head()"
   ]
  },
  {
   "cell_type": "code",
   "execution_count": 63,
   "metadata": {},
   "outputs": [
    {
     "data": {
      "text/html": [
       "<div>\n",
       "<style scoped>\n",
       "    .dataframe tbody tr th:only-of-type {\n",
       "        vertical-align: middle;\n",
       "    }\n",
       "\n",
       "    .dataframe tbody tr th {\n",
       "        vertical-align: top;\n",
       "    }\n",
       "\n",
       "    .dataframe thead th {\n",
       "        text-align: right;\n",
       "    }\n",
       "</style>\n",
       "<table border=\"1\" class=\"dataframe\">\n",
       "  <thead>\n",
       "    <tr style=\"text-align: right;\">\n",
       "      <th></th>\n",
       "      <th>CRIM</th>\n",
       "      <th>ZN</th>\n",
       "      <th>INDUS</th>\n",
       "      <th>CHAS</th>\n",
       "      <th>NOX</th>\n",
       "      <th>RM</th>\n",
       "      <th>AGE</th>\n",
       "      <th>DIS</th>\n",
       "      <th>RAD</th>\n",
       "      <th>TAX</th>\n",
       "      <th>PTRATIO</th>\n",
       "      <th>B</th>\n",
       "      <th>LSTAT</th>\n",
       "      <th>Target</th>\n",
       "    </tr>\n",
       "  </thead>\n",
       "  <tbody>\n",
       "    <tr>\n",
       "      <th>CRIM</th>\n",
       "      <td>1.000000</td>\n",
       "      <td>-0.200469</td>\n",
       "      <td>0.406583</td>\n",
       "      <td>-0.055892</td>\n",
       "      <td>0.420972</td>\n",
       "      <td>-0.219247</td>\n",
       "      <td>0.352734</td>\n",
       "      <td>-0.379670</td>\n",
       "      <td>0.625505</td>\n",
       "      <td>0.582764</td>\n",
       "      <td>0.289946</td>\n",
       "      <td>-0.385064</td>\n",
       "      <td>0.455621</td>\n",
       "      <td>-0.388305</td>\n",
       "    </tr>\n",
       "    <tr>\n",
       "      <th>ZN</th>\n",
       "      <td>-0.200469</td>\n",
       "      <td>1.000000</td>\n",
       "      <td>-0.533828</td>\n",
       "      <td>-0.042697</td>\n",
       "      <td>-0.516604</td>\n",
       "      <td>0.311991</td>\n",
       "      <td>-0.569537</td>\n",
       "      <td>0.664408</td>\n",
       "      <td>-0.311948</td>\n",
       "      <td>-0.314563</td>\n",
       "      <td>-0.391679</td>\n",
       "      <td>0.175520</td>\n",
       "      <td>-0.412995</td>\n",
       "      <td>0.360445</td>\n",
       "    </tr>\n",
       "    <tr>\n",
       "      <th>INDUS</th>\n",
       "      <td>0.406583</td>\n",
       "      <td>-0.533828</td>\n",
       "      <td>1.000000</td>\n",
       "      <td>0.062938</td>\n",
       "      <td>0.763651</td>\n",
       "      <td>-0.391676</td>\n",
       "      <td>0.644779</td>\n",
       "      <td>-0.708027</td>\n",
       "      <td>0.595129</td>\n",
       "      <td>0.720760</td>\n",
       "      <td>0.383248</td>\n",
       "      <td>-0.356977</td>\n",
       "      <td>0.603800</td>\n",
       "      <td>-0.483725</td>\n",
       "    </tr>\n",
       "    <tr>\n",
       "      <th>CHAS</th>\n",
       "      <td>-0.055892</td>\n",
       "      <td>-0.042697</td>\n",
       "      <td>0.062938</td>\n",
       "      <td>1.000000</td>\n",
       "      <td>0.091203</td>\n",
       "      <td>0.091251</td>\n",
       "      <td>0.086518</td>\n",
       "      <td>-0.099176</td>\n",
       "      <td>-0.007368</td>\n",
       "      <td>-0.035587</td>\n",
       "      <td>-0.121515</td>\n",
       "      <td>0.048788</td>\n",
       "      <td>-0.053929</td>\n",
       "      <td>0.175260</td>\n",
       "    </tr>\n",
       "    <tr>\n",
       "      <th>NOX</th>\n",
       "      <td>0.420972</td>\n",
       "      <td>-0.516604</td>\n",
       "      <td>0.763651</td>\n",
       "      <td>0.091203</td>\n",
       "      <td>1.000000</td>\n",
       "      <td>-0.302188</td>\n",
       "      <td>0.731470</td>\n",
       "      <td>-0.769230</td>\n",
       "      <td>0.611441</td>\n",
       "      <td>0.668023</td>\n",
       "      <td>0.188933</td>\n",
       "      <td>-0.380051</td>\n",
       "      <td>0.590879</td>\n",
       "      <td>-0.427321</td>\n",
       "    </tr>\n",
       "    <tr>\n",
       "      <th>RM</th>\n",
       "      <td>-0.219247</td>\n",
       "      <td>0.311991</td>\n",
       "      <td>-0.391676</td>\n",
       "      <td>0.091251</td>\n",
       "      <td>-0.302188</td>\n",
       "      <td>1.000000</td>\n",
       "      <td>-0.240265</td>\n",
       "      <td>0.205246</td>\n",
       "      <td>-0.209847</td>\n",
       "      <td>-0.292048</td>\n",
       "      <td>-0.355501</td>\n",
       "      <td>0.128069</td>\n",
       "      <td>-0.613808</td>\n",
       "      <td>0.695360</td>\n",
       "    </tr>\n",
       "    <tr>\n",
       "      <th>AGE</th>\n",
       "      <td>0.352734</td>\n",
       "      <td>-0.569537</td>\n",
       "      <td>0.644779</td>\n",
       "      <td>0.086518</td>\n",
       "      <td>0.731470</td>\n",
       "      <td>-0.240265</td>\n",
       "      <td>1.000000</td>\n",
       "      <td>-0.747881</td>\n",
       "      <td>0.456022</td>\n",
       "      <td>0.506456</td>\n",
       "      <td>0.261515</td>\n",
       "      <td>-0.273534</td>\n",
       "      <td>0.602339</td>\n",
       "      <td>-0.376955</td>\n",
       "    </tr>\n",
       "    <tr>\n",
       "      <th>DIS</th>\n",
       "      <td>-0.379670</td>\n",
       "      <td>0.664408</td>\n",
       "      <td>-0.708027</td>\n",
       "      <td>-0.099176</td>\n",
       "      <td>-0.769230</td>\n",
       "      <td>0.205246</td>\n",
       "      <td>-0.747881</td>\n",
       "      <td>1.000000</td>\n",
       "      <td>-0.494588</td>\n",
       "      <td>-0.534432</td>\n",
       "      <td>-0.232471</td>\n",
       "      <td>0.291512</td>\n",
       "      <td>-0.496996</td>\n",
       "      <td>0.249929</td>\n",
       "    </tr>\n",
       "    <tr>\n",
       "      <th>RAD</th>\n",
       "      <td>0.625505</td>\n",
       "      <td>-0.311948</td>\n",
       "      <td>0.595129</td>\n",
       "      <td>-0.007368</td>\n",
       "      <td>0.611441</td>\n",
       "      <td>-0.209847</td>\n",
       "      <td>0.456022</td>\n",
       "      <td>-0.494588</td>\n",
       "      <td>1.000000</td>\n",
       "      <td>0.910228</td>\n",
       "      <td>0.464741</td>\n",
       "      <td>-0.444413</td>\n",
       "      <td>0.488676</td>\n",
       "      <td>-0.381626</td>\n",
       "    </tr>\n",
       "    <tr>\n",
       "      <th>TAX</th>\n",
       "      <td>0.582764</td>\n",
       "      <td>-0.314563</td>\n",
       "      <td>0.720760</td>\n",
       "      <td>-0.035587</td>\n",
       "      <td>0.668023</td>\n",
       "      <td>-0.292048</td>\n",
       "      <td>0.506456</td>\n",
       "      <td>-0.534432</td>\n",
       "      <td>0.910228</td>\n",
       "      <td>1.000000</td>\n",
       "      <td>0.460853</td>\n",
       "      <td>-0.441808</td>\n",
       "      <td>0.543993</td>\n",
       "      <td>-0.468536</td>\n",
       "    </tr>\n",
       "    <tr>\n",
       "      <th>PTRATIO</th>\n",
       "      <td>0.289946</td>\n",
       "      <td>-0.391679</td>\n",
       "      <td>0.383248</td>\n",
       "      <td>-0.121515</td>\n",
       "      <td>0.188933</td>\n",
       "      <td>-0.355501</td>\n",
       "      <td>0.261515</td>\n",
       "      <td>-0.232471</td>\n",
       "      <td>0.464741</td>\n",
       "      <td>0.460853</td>\n",
       "      <td>1.000000</td>\n",
       "      <td>-0.177383</td>\n",
       "      <td>0.374044</td>\n",
       "      <td>-0.507787</td>\n",
       "    </tr>\n",
       "    <tr>\n",
       "      <th>B</th>\n",
       "      <td>-0.385064</td>\n",
       "      <td>0.175520</td>\n",
       "      <td>-0.356977</td>\n",
       "      <td>0.048788</td>\n",
       "      <td>-0.380051</td>\n",
       "      <td>0.128069</td>\n",
       "      <td>-0.273534</td>\n",
       "      <td>0.291512</td>\n",
       "      <td>-0.444413</td>\n",
       "      <td>-0.441808</td>\n",
       "      <td>-0.177383</td>\n",
       "      <td>1.000000</td>\n",
       "      <td>-0.366087</td>\n",
       "      <td>0.333461</td>\n",
       "    </tr>\n",
       "    <tr>\n",
       "      <th>LSTAT</th>\n",
       "      <td>0.455621</td>\n",
       "      <td>-0.412995</td>\n",
       "      <td>0.603800</td>\n",
       "      <td>-0.053929</td>\n",
       "      <td>0.590879</td>\n",
       "      <td>-0.613808</td>\n",
       "      <td>0.602339</td>\n",
       "      <td>-0.496996</td>\n",
       "      <td>0.488676</td>\n",
       "      <td>0.543993</td>\n",
       "      <td>0.374044</td>\n",
       "      <td>-0.366087</td>\n",
       "      <td>1.000000</td>\n",
       "      <td>-0.737663</td>\n",
       "    </tr>\n",
       "    <tr>\n",
       "      <th>Target</th>\n",
       "      <td>-0.388305</td>\n",
       "      <td>0.360445</td>\n",
       "      <td>-0.483725</td>\n",
       "      <td>0.175260</td>\n",
       "      <td>-0.427321</td>\n",
       "      <td>0.695360</td>\n",
       "      <td>-0.376955</td>\n",
       "      <td>0.249929</td>\n",
       "      <td>-0.381626</td>\n",
       "      <td>-0.468536</td>\n",
       "      <td>-0.507787</td>\n",
       "      <td>0.333461</td>\n",
       "      <td>-0.737663</td>\n",
       "      <td>1.000000</td>\n",
       "    </tr>\n",
       "  </tbody>\n",
       "</table>\n",
       "</div>"
      ],
      "text/plain": [
       "             CRIM        ZN     INDUS      CHAS       NOX        RM       AGE  \\\n",
       "CRIM     1.000000 -0.200469  0.406583 -0.055892  0.420972 -0.219247  0.352734   \n",
       "ZN      -0.200469  1.000000 -0.533828 -0.042697 -0.516604  0.311991 -0.569537   \n",
       "INDUS    0.406583 -0.533828  1.000000  0.062938  0.763651 -0.391676  0.644779   \n",
       "CHAS    -0.055892 -0.042697  0.062938  1.000000  0.091203  0.091251  0.086518   \n",
       "NOX      0.420972 -0.516604  0.763651  0.091203  1.000000 -0.302188  0.731470   \n",
       "RM      -0.219247  0.311991 -0.391676  0.091251 -0.302188  1.000000 -0.240265   \n",
       "AGE      0.352734 -0.569537  0.644779  0.086518  0.731470 -0.240265  1.000000   \n",
       "DIS     -0.379670  0.664408 -0.708027 -0.099176 -0.769230  0.205246 -0.747881   \n",
       "RAD      0.625505 -0.311948  0.595129 -0.007368  0.611441 -0.209847  0.456022   \n",
       "TAX      0.582764 -0.314563  0.720760 -0.035587  0.668023 -0.292048  0.506456   \n",
       "PTRATIO  0.289946 -0.391679  0.383248 -0.121515  0.188933 -0.355501  0.261515   \n",
       "B       -0.385064  0.175520 -0.356977  0.048788 -0.380051  0.128069 -0.273534   \n",
       "LSTAT    0.455621 -0.412995  0.603800 -0.053929  0.590879 -0.613808  0.602339   \n",
       "Target  -0.388305  0.360445 -0.483725  0.175260 -0.427321  0.695360 -0.376955   \n",
       "\n",
       "              DIS       RAD       TAX   PTRATIO         B     LSTAT    Target  \n",
       "CRIM    -0.379670  0.625505  0.582764  0.289946 -0.385064  0.455621 -0.388305  \n",
       "ZN       0.664408 -0.311948 -0.314563 -0.391679  0.175520 -0.412995  0.360445  \n",
       "INDUS   -0.708027  0.595129  0.720760  0.383248 -0.356977  0.603800 -0.483725  \n",
       "CHAS    -0.099176 -0.007368 -0.035587 -0.121515  0.048788 -0.053929  0.175260  \n",
       "NOX     -0.769230  0.611441  0.668023  0.188933 -0.380051  0.590879 -0.427321  \n",
       "RM       0.205246 -0.209847 -0.292048 -0.355501  0.128069 -0.613808  0.695360  \n",
       "AGE     -0.747881  0.456022  0.506456  0.261515 -0.273534  0.602339 -0.376955  \n",
       "DIS      1.000000 -0.494588 -0.534432 -0.232471  0.291512 -0.496996  0.249929  \n",
       "RAD     -0.494588  1.000000  0.910228  0.464741 -0.444413  0.488676 -0.381626  \n",
       "TAX     -0.534432  0.910228  1.000000  0.460853 -0.441808  0.543993 -0.468536  \n",
       "PTRATIO -0.232471  0.464741  0.460853  1.000000 -0.177383  0.374044 -0.507787  \n",
       "B        0.291512 -0.444413 -0.441808 -0.177383  1.000000 -0.366087  0.333461  \n",
       "LSTAT   -0.496996  0.488676  0.543993  0.374044 -0.366087  1.000000 -0.737663  \n",
       "Target   0.249929 -0.381626 -0.468536 -0.507787  0.333461 -0.737663  1.000000  "
      ]
     },
     "execution_count": 63,
     "metadata": {},
     "output_type": "execute_result"
    }
   ],
   "source": [
    "X_new.corr(method='pearson')"
   ]
  },
  {
   "cell_type": "code",
   "execution_count": 65,
   "metadata": {},
   "outputs": [],
   "source": [
    "# Example of picking CRIM and ZN factors: \n",
    "X = df[['CRIM','ZN']]\n",
    "y = target['MEDV']"
   ]
  },
  {
   "cell_type": "code",
   "execution_count": 66,
   "metadata": {},
   "outputs": [
    {
     "data": {
      "text/plain": [
       "0.23398843834155303"
      ]
     },
     "execution_count": 66,
     "metadata": {},
     "output_type": "execute_result"
    }
   ],
   "source": [
    "lm = linear_model.LinearRegression()\n",
    "model = lm.fit(X,y)\n",
    "predictions = lm.predict(X)\n",
    "lm.score(X,y) "
   ]
  },
  {
   "cell_type": "code",
   "execution_count": 67,
   "metadata": {},
   "outputs": [
    {
     "data": {
      "text/plain": [
       "0.6385616062603403"
      ]
     },
     "execution_count": 67,
     "metadata": {},
     "output_type": "execute_result"
    }
   ],
   "source": [
    "# Example of picking RM and LSTAT factors: Why choose these two factors?? \n",
    "X = df[['RM','LSTAT']]\n",
    "y = target['MEDV']\n",
    "m = linear_model.LinearRegression()\n",
    "model = lm.fit(X,y)\n",
    "predictions = lm.predict(X)\n",
    "lm.score(X,y)"
   ]
  },
  {
   "cell_type": "markdown",
   "metadata": {},
   "source": [
    "## Logistic Regression Example  (Use iris dataset)\n",
    "## https://scikit-learn.org/stable/modules/generated/sklearn.linear_model.LogisticRegression.html"
   ]
  },
  {
   "cell_type": "code",
   "execution_count": 68,
   "metadata": {},
   "outputs": [],
   "source": [
    "%matplotlib inline\n",
    "import numpy as np\n",
    "import pandas as pd\n",
    "import matplotlib.pyplot as plt"
   ]
  },
  {
   "cell_type": "code",
   "execution_count": 69,
   "metadata": {},
   "outputs": [],
   "source": [
    "from sklearn.datasets import load_iris\n",
    "from sklearn.linear_model import LogisticRegression\n",
    "X, y = load_iris(return_X_y=True)"
   ]
  },
  {
   "cell_type": "code",
   "execution_count": 70,
   "metadata": {},
   "outputs": [
    {
     "data": {
      "text/plain": [
       "array([[5.1, 3.5, 1.4, 0.2],\n",
       "       [4.9, 3. , 1.4, 0.2],\n",
       "       [4.7, 3.2, 1.3, 0.2],\n",
       "       [4.6, 3.1, 1.5, 0.2],\n",
       "       [5. , 3.6, 1.4, 0.2]])"
      ]
     },
     "execution_count": 70,
     "metadata": {},
     "output_type": "execute_result"
    }
   ],
   "source": [
    "X[:5]"
   ]
  },
  {
   "cell_type": "code",
   "execution_count": 71,
   "metadata": {},
   "outputs": [
    {
     "data": {
      "text/plain": [
       "(150,)"
      ]
     },
     "execution_count": 71,
     "metadata": {},
     "output_type": "execute_result"
    }
   ],
   "source": [
    "y.shape"
   ]
  },
  {
   "cell_type": "code",
   "execution_count": 72,
   "metadata": {},
   "outputs": [
    {
     "name": "stderr",
     "output_type": "stream",
     "text": [
      "C:\\Users\\TWP\\Anaconda3\\lib\\site-packages\\sklearn\\linear_model\\sag.py:337: ConvergenceWarning: The max_iter was reached which means the coef_ did not converge\n",
      "  \"the coef_ did not converge\", ConvergenceWarning)\n"
     ]
    },
    {
     "data": {
      "text/plain": [
       "array([0, 1, 2])"
      ]
     },
     "execution_count": 72,
     "metadata": {},
     "output_type": "execute_result"
    }
   ],
   "source": [
    "clf = LogisticRegression(random_state=0, solver='sag',multi_class='multinomial')\n",
    "clf=clf.fit(X,y)\n",
    "clf.classes_"
   ]
  },
  {
   "cell_type": "code",
   "execution_count": 73,
   "metadata": {},
   "outputs": [
    {
     "data": {
      "text/plain": [
       "array([[ 0.61882374,  1.61956745, -2.36973754, -1.10174388],\n",
       "       [ 0.37397659, -0.28872847, -0.03389596, -0.95622952],\n",
       "       [-0.99280033, -1.33083898,  2.4036335 ,  2.0579734 ]])"
      ]
     },
     "execution_count": 73,
     "metadata": {},
     "output_type": "execute_result"
    }
   ],
   "source": [
    "clf.coef_"
   ]
  },
  {
   "cell_type": "code",
   "execution_count": 74,
   "metadata": {},
   "outputs": [
    {
     "data": {
      "text/plain": [
       "array([ 1.41341676,  1.98582553, -3.39924229])"
      ]
     },
     "execution_count": 74,
     "metadata": {},
     "output_type": "execute_result"
    }
   ],
   "source": [
    "clf.intercept_"
   ]
  },
  {
   "cell_type": "code",
   "execution_count": 75,
   "metadata": {},
   "outputs": [
    {
     "data": {
      "text/plain": [
       "0.9866666666666667"
      ]
     },
     "execution_count": 75,
     "metadata": {},
     "output_type": "execute_result"
    }
   ],
   "source": [
    "clf.score(X, y)"
   ]
  },
  {
   "cell_type": "code",
   "execution_count": 76,
   "metadata": {},
   "outputs": [
    {
     "data": {
      "text/plain": [
       "array([0, 0, 1, 1])"
      ]
     },
     "execution_count": 76,
     "metadata": {},
     "output_type": "execute_result"
    }
   ],
   "source": [
    "clf.predict(X[48:52, :])"
   ]
  },
  {
   "cell_type": "code",
   "execution_count": 77,
   "metadata": {},
   "outputs": [
    {
     "data": {
      "text/plain": [
       "array([[9.85979373e-01, 1.40205582e-02, 6.87430502e-08],\n",
       "       [9.74665163e-01, 2.53346140e-02, 2.22548907e-07],\n",
       "       [1.78981741e-02, 9.14892048e-01, 6.72097781e-02],\n",
       "       [2.27963293e-02, 8.58338298e-01, 1.18865372e-01]])"
      ]
     },
     "execution_count": 77,
     "metadata": {},
     "output_type": "execute_result"
    }
   ],
   "source": [
    "clf.predict_proba(X[48:52, :])"
   ]
  },
  {
   "cell_type": "code",
   "execution_count": 78,
   "metadata": {},
   "outputs": [
    {
     "data": {
      "text/plain": [
       "array([0, 2])"
      ]
     },
     "execution_count": 78,
     "metadata": {},
     "output_type": "execute_result"
    }
   ],
   "source": [
    "clf.predict([[4.7, 3.2, 1.3, 0.2], [6.3, 3.3, 6. , 2.5]])"
   ]
  },
  {
   "cell_type": "code",
   "execution_count": 79,
   "metadata": {},
   "outputs": [
    {
     "data": {
      "text/plain": [
       "array([6.4, 3.2, 4.5, 1.5])"
      ]
     },
     "execution_count": 79,
     "metadata": {},
     "output_type": "execute_result"
    }
   ],
   "source": [
    "X[51]"
   ]
  },
  {
   "cell_type": "code",
   "execution_count": 80,
   "metadata": {},
   "outputs": [
    {
     "data": {
      "text/plain": [
       "array([0, 1])"
      ]
     },
     "execution_count": 80,
     "metadata": {},
     "output_type": "execute_result"
    }
   ],
   "source": [
    "clf.predict([[4.7, 3.2, 1.3, 0.2], [6.3, 3.3, 4.4 , 1.5]])"
   ]
  },
  {
   "cell_type": "code",
   "execution_count": null,
   "metadata": {},
   "outputs": [],
   "source": []
  }
 ],
 "metadata": {
  "kernelspec": {
   "display_name": "Python 3 (ipykernel)",
   "language": "python",
   "name": "python3"
  },
  "language_info": {
   "codemirror_mode": {
    "name": "ipython",
    "version": 3
   },
   "file_extension": ".py",
   "mimetype": "text/x-python",
   "name": "python",
   "nbconvert_exporter": "python",
   "pygments_lexer": "ipython3",
   "version": "3.9.7"
  }
 },
 "nbformat": 4,
 "nbformat_minor": 4
}
