{
 "cells": [
  {
   "cell_type": "markdown",
   "id": "6538bd39",
   "metadata": {},
   "source": [
    "# 107810037 蘇勇達 homework-1 "
   ]
  },
  {
   "cell_type": "markdown",
   "id": "ba432a6c",
   "metadata": {},
   "source": [
    "# (1)"
   ]
  },
  {
   "cell_type": "markdown",
   "id": "d4563569",
   "metadata": {},
   "source": [
    "# For $ i = 1,2,..., N $ compute $ r_{im} = -\\Bigg[ \\frac{\\displaystyle \\partial  L(y_i , f(x_i))} { \\displaystyle \\partial  f(x_i)}  \\Bigg ]_{f = f_{m-1}} $"
   ]
  },
  {
   "cell_type": "markdown",
   "id": "b95fd679",
   "metadata": {},
   "source": [
    "-------"
   ]
  },
  {
   "cell_type": "markdown",
   "id": "0237044d",
   "metadata": {},
   "source": [
    "# (2)"
   ]
  },
  {
   "cell_type": "code",
   "execution_count": 36,
   "id": "990fef53",
   "metadata": {},
   "outputs": [
    {
     "name": "stdout",
     "output_type": "stream",
     "text": [
      "輸入一個整數:8\n",
      "Factorial for an input integer 8 is 40320\n"
     ]
    }
   ],
   "source": [
    "a = input(\"輸入一個整數:\")\n",
    "trans_a = int(a)\n",
    "FAC = 1\n",
    "\n",
    "for i in range (1,trans_a+1):\n",
    "    FAC = FAC * i\n",
    "\n",
    "trans_FAC = str(FAC)\n",
    "print(\"Factorial for an input integer \"+ a +\" is \" + trans_FAC)"
   ]
  },
  {
   "cell_type": "markdown",
   "id": "88e55b2b",
   "metadata": {},
   "source": [
    "-------  "
   ]
  },
  {
   "cell_type": "markdown",
   "id": "d7fe5e70",
   "metadata": {},
   "source": [
    "# (3)"
   ]
  },
  {
   "cell_type": "code",
   "execution_count": 47,
   "id": "68d78a91",
   "metadata": {},
   "outputs": [
    {
     "name": "stdout",
     "output_type": "stream",
     "text": [
      "[14.7, 14.4, 8.2, 10.7, 14.6, 14.1, 14.4, 14.4, 18.2, 14.5, 14.5, 14.7, 14.9, 15.1, 15.9]\n",
      "平均數: 14.22\n",
      "標準差: 2.151030760666461\n",
      "第一四分位數: 14.4\n",
      "第二四分位數: 14.5\n",
      "第三四分位數: 14.8\n",
      "high_outlier: 15.400000000000002\n",
      "low_outlier: 13.8\n",
      "high_extreme: 16.0\n",
      "low_extreme: 13.2\n",
      "\n",
      "extreme: 8.2\n",
      "extreme: 10.7\n",
      "extreme: 18.2\n",
      "outlier: 15.9\n"
     ]
    },
    {
     "data": {
      "image/png": "[encoded data removed]",
      "text/plain": [
       "<Figure size 360x720 with 1 Axes>"
      ]
     },
     "metadata": {
      "needs_background": "light"
     },
     "output_type": "display_data"
    }
   ],
   "source": [
    "import matplotlib.pyplot as plt\n",
    "import numpy as np\n",
    "\n",
    "data_total = [14.7,14.4,8.2,10.7,14.6,14.1,14.4,14.4,18.2,14.5,14.5,14.7,14.9,15.1,15.9]\n",
    "print(data_total)\n",
    "\n",
    "mu = 0\n",
    "sum = 0\n",
    "for i in range (0,15):\n",
    "    sum = sum + data_total[i]\n",
    "mu = sum/15\n",
    "print('平均數:',mu)\n",
    "\n",
    "sigma = np.std(data_total)\n",
    "print(\"標準差:\",sigma)\n",
    "\n",
    "print('第一四分位數:', np.percentile(data_total,(25)))\n",
    "print('第二四分位數:', np.percentile(data_total,(50)))\n",
    "print('第三四分位數:', np.percentile(data_total,(75)))\n",
    "Q1 = np.percentile(data_total,(25))\n",
    "Q2 = np.percentile(data_total,(50))\n",
    "Q3 = np.percentile(data_total,(75))\n",
    "IQR = Q3 - Q1\n",
    "max_distance = 1.5 * IQR\n",
    "high_outlier = Q3 + max_distance\n",
    "low_outlier = Q1 - max_distance\n",
    "high_extreme = Q3 + 2*max_distance\n",
    "low_extreme = Q1 - 2*max_distance\n",
    "print(\"high_outlier:\",high_outlier)\n",
    "print(\"low_outlier:\",low_outlier)\n",
    "print(\"high_extreme:\",high_extreme)\n",
    "print(\"low_extreme:\",low_extreme)\n",
    "print(\"\")\n",
    "for i in range (0,15):\n",
    "    if (high_outlier > data_total[i] > low_outlier) :\n",
    "        pass\n",
    "    elif (high_extreme > data_total[i] > high_outlier) :\n",
    "        print(\"outlier:\",data_total[i])\n",
    "    elif (low_extreme < data_total[i] < low_outlier) :\n",
    "        print(\"outlier:\",data_total[i])\n",
    "    elif (data_total[i] > high_extreme) :\n",
    "        print(\"extreme:\",data_total[i])\n",
    "    elif (data_total[i] < high_extreme) :\n",
    "        print(\"extreme:\",data_total[i])\n",
    "\n",
    "fig = plt.figure(figsize = (5,10))\n",
    "plt.boxplot(data_total)\n",
    "\n",
    "plt.show()"
   ]
  },
  {
   "cell_type": "code",
   "execution_count": null,
   "id": "33f9387e",
   "metadata": {},
   "outputs": [],
   "source": []
  }
 ],
 "metadata": {
  "kernelspec": {
   "display_name": "Python 3 (ipykernel)",
   "language": "python",
   "name": "python3"
  },
  "language_info": {
   "codemirror_mode": {
    "name": "ipython",
    "version": 3
   },
   "file_extension": ".py",
   "mimetype": "text/x-python",
   "name": "python",
   "nbconvert_exporter": "python",
   "pygments_lexer": "ipython3",
   "version": "3.9.7"
  }
 },
 "nbformat": 4,
 "nbformat_minor": 5
}
