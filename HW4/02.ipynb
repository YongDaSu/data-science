{
 "cells": [
  {
   "cell_type": "code",
   "execution_count": 2,
   "id": "c32928b8-be57-4dca-8c40-69371bac5912",
   "metadata": {},
   "outputs": [],
   "source": [
    "import pandas as pd\n",
    "import numpy as np\n",
    "import matplotlib.pyplot as plt\n",
    "import datetime\n",
    "\n",
    "data = pd.read_csv('D:\\\\Learning_python\\\\data_science\\\\HW3\\\\data_science_data.csv',index_col=0)\n",
    "#提取資料\n",
    "data = data[['date','證券名稱','收盤價']]\n",
    "#更改名字\n",
    "data = data.rename(columns = {'證券名稱':'name'})\n",
    "data = data.rename(columns = {'收盤價':'closing_price'})\n",
    "#清理資料\n",
    "data['closing_price'] = data['closing_price'].replace({'\\$': '', ',': '', '--':np.nan}, regex=True)\n",
    "data = data.dropna()\n",
    "#更改資料型態\n",
    "data['closing_price'] = data['closing_price'].astype('float64')\n",
    "data['date'] = pd.to_datetime(data['date'])"
   ]
  },
  {
   "cell_type": "code",
   "execution_count": 6,
   "id": "9aec74a0-f4c2-4ef1-88ff-58b62efec5c7",
   "metadata": {},
   "outputs": [
    {
     "name": "stderr",
     "output_type": "stream",
     "text": [
      "C:\\ProgramData\\Anaconda3\\lib\\site-packages\\numpy\\lib\\function_base.py:2634: RuntimeWarning: Degrees of freedom <= 0 for slice\n",
      "  c = cov(x, y, rowvar, dtype=dtype)\n"
     ]
    }
   ],
   "source": [
    "data_TSMC = data[data['name']=='台積電'].reset_index(drop=True)\n",
    "#製作一個新的dataframe去接資料\n",
    "data_TSMC_corr_company = pd.DataFrame()\n",
    "#製作所有公司的list，方法 : 將data的name這個columns刪除重複項\n",
    "companies = data['name'].drop_duplicates()\n",
    "data_TSMC_corr_company['company'] = companies\n",
    "data_TSMC_corr_company['corr'] = 0\n",
    "\n",
    "#利用apply遍歷所有公司\n",
    "def get_corr(x):\n",
    "    data_company = data[data['name']==x].reset_index(drop=True)\n",
    "    return data_TSMC['closing_price'].corr(data_company['closing_price'])\n",
    "\n",
    "data_TSMC_corr_company['corr'] = data_TSMC_corr_company['company'].apply(get_corr)\n",
    "\n",
    "#絕對值並排續後的相關度dataframe\n",
    "data_TSMC_corr_company['corr'] = data_TSMC_corr_company['corr'].abs()\n",
    "sort_list = data_TSMC_corr_company.sort_values('corr',ascending = False)\n",
    "display(sort_list)"
   ]
  },
  {
   "cell_type": "code",
   "execution_count": 27,
   "id": "a65e97f7-9b87-4e44-84b8-9a6c547ccd2f",
   "metadata": {},
   "outputs": [
    {
     "name": "stdout",
     "output_type": "stream",
     "text": [
      "與台積電絕對值相關度排名第十名為\n",
      "      company      corr\n",
      "96  國泰AI+Robo  0.667742\n"
     ]
    }
   ],
   "source": [
    " a = str(sort_list[9:10])\n",
    "print(\"與台積電絕對值相關度排名第十名為\\n\"+ a)"
   ]
  }
 ],
 "metadata": {
  "kernelspec": {
   "display_name": "Python 3 (ipykernel)",
   "language": "python",
   "name": "python3"
  },
  "language_info": {
   "codemirror_mode": {
    "name": "ipython",
    "version": 3
   },
   "file_extension": ".py",
   "mimetype": "text/x-python",
   "name": "python",
   "nbconvert_exporter": "python",
   "pygments_lexer": "ipython3",
   "version": "3.9.7"
  }
 },
 "nbformat": 4,
 "nbformat_minor": 5
}
