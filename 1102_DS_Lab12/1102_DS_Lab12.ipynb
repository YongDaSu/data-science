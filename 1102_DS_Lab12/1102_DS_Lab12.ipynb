{
 "cells": [
  {
   "cell_type": "markdown",
   "metadata": {},
   "source": [
    "# K-means 簡單介紹\n",
    "\n",
    "1. K-means是一種`非監督式學習`的演算法，演算法透過資料之間「距離」，將資料進行分群。\n",
    "2. 開始前要先決定好總共要將分為資料分為多少群(K)。\n",
    "\n",
    "> 非監督學習表示資料本身並是沒有標籤的(unlabeled)，只有資料本身的特徵，也就是說我們並不知道每一筆資料的答案是什麼，只能透過每筆資料的特徵來進行學習。\n",
    "\n",
    "\n",
    "\n",
    "### 演算法\n",
    "1. 決定好要將資料分為多少群(K)\n",
    "2. 隨機給定K個中心點(群心)\n",
    "3. 將每筆資料的組別指定為距離最近那個群心的組別\n",
    "4. 根據每個資料的群組重新計算中心點\n",
    "5. 重複步驟3, 4，直到收斂"
   ]
  },
  {
   "cell_type": "markdown",
   "metadata": {},
   "source": [
    "## 簡單的範例"
   ]
  },
  {
   "cell_type": "code",
   "execution_count": 1,
   "metadata": {},
   "outputs": [],
   "source": [
    "import numpy as np\n",
    "import pandas as pd\n",
    "import matplotlib.pyplot as plt"
   ]
  },
  {
   "cell_type": "code",
   "execution_count": 2,
   "metadata": {},
   "outputs": [],
   "source": [
    "heights = [\n",
    "    160, 162, 165, 192, 160, \n",
    "    190, 179, 170, 165, 165, \n",
    "    174, 183, 176, 154, 192, \n",
    "    163, 164, 172, 175, 140]\n",
    "weights = [\n",
    "    80, 52, 60, 100, 78, \n",
    "    79, 78, 50, 42, 80,\n",
    "    98, 97, 96, 95, 94,\n",
    "    65, 66, 67, 68, 45]\n",
    "data = pd.DataFrame({'Height': heights, 'Weight': weights})"
   ]
  },
  {
   "cell_type": "code",
   "execution_count": 3,
   "metadata": {},
   "outputs": [
    {
     "data": {
      "text/plain": [
       "<matplotlib.collections.PathCollection at 0x2452a858780>"
      ]
     },
     "execution_count": 3,
     "metadata": {},
     "output_type": "execute_result"
    },
    {
     "data": {
      "image/png": "[encoded data removed]",
      "text/plain": [
       "<Figure size 432x288 with 1 Axes>"
      ]
     },
     "metadata": {
      "needs_background": "light"
     },
     "output_type": "display_data"
    }
   ],
   "source": [
    "plt.scatter(data['Height'], data['Weight'])"
   ]
  },
  {
   "cell_type": "markdown",
   "metadata": {},
   "source": [
    "### 將身高與體重進行標準化\n",
    "在開始 K-means 演算法之前，我們先對資料進行標準化(Normalize)，將每個特徵調整到相同的尺度下進行計算，這樣算出來的距離可避免偏差。\n",
    "\n",
    "#### 四種常見的標準化方式\n",
    "1. Min-Max\n",
    "$$ X_{norm} = \\frac{X - X_{min}}{X_{max} - X_{min}} $$\n",
    "2. Z-score ($\\mu$為平均值、$\\sigma$為標準差)\n",
    "$$ Z = \\frac{X - \\mu}{\\sigma} $$\n",
    "3. MaxAbs\n",
    "$$ X_{norm} = \\frac{X}{{|X_{max}|}} $$\n",
    "4. Robust scalar\n",
    "$$ X_{scaled} = \\frac{X — X_{median}}{IQR} $$\n",
    "IQR(interquartile difference range) 是 75百分位和25百分位的差值，適用在觀察有大的離異值(outlier)。 \n",
    "\n",
    "     IQR = 75th quantile — 25th quantile"
   ]
  },
  {
   "cell_type": "code",
   "execution_count": 4,
   "metadata": {},
   "outputs": [
    {
     "data": {
      "text/html": [
       "<div>\n",
       "<style scoped>\n",
       "    .dataframe tbody tr th:only-of-type {\n",
       "        vertical-align: middle;\n",
       "    }\n",
       "\n",
       "    .dataframe tbody tr th {\n",
       "        vertical-align: top;\n",
       "    }\n",
       "\n",
       "    .dataframe thead th {\n",
       "        text-align: right;\n",
       "    }\n",
       "</style>\n",
       "<table border=\"1\" class=\"dataframe\">\n",
       "  <thead>\n",
       "    <tr style=\"text-align: right;\">\n",
       "      <th></th>\n",
       "      <th>Height</th>\n",
       "      <th>Weight</th>\n",
       "      <th>HeightNorm</th>\n",
       "      <th>WeightNorm</th>\n",
       "    </tr>\n",
       "  </thead>\n",
       "  <tbody>\n",
       "    <tr>\n",
       "      <th>0</th>\n",
       "      <td>160</td>\n",
       "      <td>80</td>\n",
       "      <td>0.384615</td>\n",
       "      <td>0.655172</td>\n",
       "    </tr>\n",
       "    <tr>\n",
       "      <th>1</th>\n",
       "      <td>162</td>\n",
       "      <td>52</td>\n",
       "      <td>0.423077</td>\n",
       "      <td>0.172414</td>\n",
       "    </tr>\n",
       "    <tr>\n",
       "      <th>2</th>\n",
       "      <td>165</td>\n",
       "      <td>60</td>\n",
       "      <td>0.480769</td>\n",
       "      <td>0.310345</td>\n",
       "    </tr>\n",
       "    <tr>\n",
       "      <th>3</th>\n",
       "      <td>192</td>\n",
       "      <td>100</td>\n",
       "      <td>1.000000</td>\n",
       "      <td>1.000000</td>\n",
       "    </tr>\n",
       "    <tr>\n",
       "      <th>4</th>\n",
       "      <td>160</td>\n",
       "      <td>78</td>\n",
       "      <td>0.384615</td>\n",
       "      <td>0.620690</td>\n",
       "    </tr>\n",
       "    <tr>\n",
       "      <th>5</th>\n",
       "      <td>190</td>\n",
       "      <td>79</td>\n",
       "      <td>0.961538</td>\n",
       "      <td>0.637931</td>\n",
       "    </tr>\n",
       "    <tr>\n",
       "      <th>6</th>\n",
       "      <td>179</td>\n",
       "      <td>78</td>\n",
       "      <td>0.750000</td>\n",
       "      <td>0.620690</td>\n",
       "    </tr>\n",
       "    <tr>\n",
       "      <th>7</th>\n",
       "      <td>170</td>\n",
       "      <td>50</td>\n",
       "      <td>0.576923</td>\n",
       "      <td>0.137931</td>\n",
       "    </tr>\n",
       "    <tr>\n",
       "      <th>8</th>\n",
       "      <td>165</td>\n",
       "      <td>42</td>\n",
       "      <td>0.480769</td>\n",
       "      <td>0.000000</td>\n",
       "    </tr>\n",
       "    <tr>\n",
       "      <th>9</th>\n",
       "      <td>165</td>\n",
       "      <td>80</td>\n",
       "      <td>0.480769</td>\n",
       "      <td>0.655172</td>\n",
       "    </tr>\n",
       "    <tr>\n",
       "      <th>10</th>\n",
       "      <td>174</td>\n",
       "      <td>98</td>\n",
       "      <td>0.653846</td>\n",
       "      <td>0.965517</td>\n",
       "    </tr>\n",
       "    <tr>\n",
       "      <th>11</th>\n",
       "      <td>183</td>\n",
       "      <td>97</td>\n",
       "      <td>0.826923</td>\n",
       "      <td>0.948276</td>\n",
       "    </tr>\n",
       "    <tr>\n",
       "      <th>12</th>\n",
       "      <td>176</td>\n",
       "      <td>96</td>\n",
       "      <td>0.692308</td>\n",
       "      <td>0.931034</td>\n",
       "    </tr>\n",
       "    <tr>\n",
       "      <th>13</th>\n",
       "      <td>154</td>\n",
       "      <td>95</td>\n",
       "      <td>0.269231</td>\n",
       "      <td>0.913793</td>\n",
       "    </tr>\n",
       "    <tr>\n",
       "      <th>14</th>\n",
       "      <td>192</td>\n",
       "      <td>94</td>\n",
       "      <td>1.000000</td>\n",
       "      <td>0.896552</td>\n",
       "    </tr>\n",
       "    <tr>\n",
       "      <th>15</th>\n",
       "      <td>163</td>\n",
       "      <td>65</td>\n",
       "      <td>0.442308</td>\n",
       "      <td>0.396552</td>\n",
       "    </tr>\n",
       "    <tr>\n",
       "      <th>16</th>\n",
       "      <td>164</td>\n",
       "      <td>66</td>\n",
       "      <td>0.461538</td>\n",
       "      <td>0.413793</td>\n",
       "    </tr>\n",
       "    <tr>\n",
       "      <th>17</th>\n",
       "      <td>172</td>\n",
       "      <td>67</td>\n",
       "      <td>0.615385</td>\n",
       "      <td>0.431034</td>\n",
       "    </tr>\n",
       "    <tr>\n",
       "      <th>18</th>\n",
       "      <td>175</td>\n",
       "      <td>68</td>\n",
       "      <td>0.673077</td>\n",
       "      <td>0.448276</td>\n",
       "    </tr>\n",
       "    <tr>\n",
       "      <th>19</th>\n",
       "      <td>140</td>\n",
       "      <td>45</td>\n",
       "      <td>0.000000</td>\n",
       "      <td>0.051724</td>\n",
       "    </tr>\n",
       "  </tbody>\n",
       "</table>\n",
       "</div>"
      ],
      "text/plain": [
       "    Height  Weight  HeightNorm  WeightNorm\n",
       "0      160      80    0.384615    0.655172\n",
       "1      162      52    0.423077    0.172414\n",
       "2      165      60    0.480769    0.310345\n",
       "3      192     100    1.000000    1.000000\n",
       "4      160      78    0.384615    0.620690\n",
       "5      190      79    0.961538    0.637931\n",
       "6      179      78    0.750000    0.620690\n",
       "7      170      50    0.576923    0.137931\n",
       "8      165      42    0.480769    0.000000\n",
       "9      165      80    0.480769    0.655172\n",
       "10     174      98    0.653846    0.965517\n",
       "11     183      97    0.826923    0.948276\n",
       "12     176      96    0.692308    0.931034\n",
       "13     154      95    0.269231    0.913793\n",
       "14     192      94    1.000000    0.896552\n",
       "15     163      65    0.442308    0.396552\n",
       "16     164      66    0.461538    0.413793\n",
       "17     172      67    0.615385    0.431034\n",
       "18     175      68    0.673077    0.448276\n",
       "19     140      45    0.000000    0.051724"
      ]
     },
     "execution_count": 4,
     "metadata": {},
     "output_type": "execute_result"
    }
   ],
   "source": [
    "# 使用Min-Max的方式將身高與體重進行正規化\n",
    "data['HeightNorm'] = ((data['Height'] - min(data['Height']))\n",
    "                       / (max(data['Height']) - min(data['Height'])))\n",
    "data['WeightNorm'] = ((data['Weight'] - min(data['Weight']))\n",
    "                       / (max(data['Weight']) - min(data['Weight'])))\n",
    "data"
   ]
  },
  {
   "cell_type": "code",
   "execution_count": 5,
   "metadata": {},
   "outputs": [
    {
     "data": {
      "text/html": [
       "<div>\n",
       "<style scoped>\n",
       "    .dataframe tbody tr th:only-of-type {\n",
       "        vertical-align: middle;\n",
       "    }\n",
       "\n",
       "    .dataframe tbody tr th {\n",
       "        vertical-align: top;\n",
       "    }\n",
       "\n",
       "    .dataframe thead th {\n",
       "        text-align: right;\n",
       "    }\n",
       "</style>\n",
       "<table border=\"1\" class=\"dataframe\">\n",
       "  <thead>\n",
       "    <tr style=\"text-align: right;\">\n",
       "      <th></th>\n",
       "      <th>Height</th>\n",
       "      <th>Weight</th>\n",
       "      <th>HeightNorm</th>\n",
       "      <th>WeightNorm</th>\n",
       "    </tr>\n",
       "  </thead>\n",
       "  <tbody>\n",
       "    <tr>\n",
       "      <th>0</th>\n",
       "      <td>160</td>\n",
       "      <td>80</td>\n",
       "      <td>-0.765025</td>\n",
       "      <td>0.295525</td>\n",
       "    </tr>\n",
       "    <tr>\n",
       "      <th>1</th>\n",
       "      <td>162</td>\n",
       "      <td>52</td>\n",
       "      <td>-0.612781</td>\n",
       "      <td>-1.208964</td>\n",
       "    </tr>\n",
       "    <tr>\n",
       "      <th>2</th>\n",
       "      <td>165</td>\n",
       "      <td>60</td>\n",
       "      <td>-0.384415</td>\n",
       "      <td>-0.779110</td>\n",
       "    </tr>\n",
       "    <tr>\n",
       "      <th>3</th>\n",
       "      <td>192</td>\n",
       "      <td>100</td>\n",
       "      <td>1.670875</td>\n",
       "      <td>1.370159</td>\n",
       "    </tr>\n",
       "    <tr>\n",
       "      <th>4</th>\n",
       "      <td>160</td>\n",
       "      <td>78</td>\n",
       "      <td>-0.765025</td>\n",
       "      <td>0.188061</td>\n",
       "    </tr>\n",
       "    <tr>\n",
       "      <th>5</th>\n",
       "      <td>190</td>\n",
       "      <td>79</td>\n",
       "      <td>1.518631</td>\n",
       "      <td>0.241793</td>\n",
       "    </tr>\n",
       "    <tr>\n",
       "      <th>6</th>\n",
       "      <td>179</td>\n",
       "      <td>78</td>\n",
       "      <td>0.681291</td>\n",
       "      <td>0.188061</td>\n",
       "    </tr>\n",
       "    <tr>\n",
       "      <th>7</th>\n",
       "      <td>170</td>\n",
       "      <td>50</td>\n",
       "      <td>-0.003806</td>\n",
       "      <td>-1.316427</td>\n",
       "    </tr>\n",
       "    <tr>\n",
       "      <th>8</th>\n",
       "      <td>165</td>\n",
       "      <td>42</td>\n",
       "      <td>-0.384415</td>\n",
       "      <td>-1.746281</td>\n",
       "    </tr>\n",
       "    <tr>\n",
       "      <th>9</th>\n",
       "      <td>165</td>\n",
       "      <td>80</td>\n",
       "      <td>-0.384415</td>\n",
       "      <td>0.295525</td>\n",
       "    </tr>\n",
       "    <tr>\n",
       "      <th>10</th>\n",
       "      <td>174</td>\n",
       "      <td>98</td>\n",
       "      <td>0.300681</td>\n",
       "      <td>1.262696</td>\n",
       "    </tr>\n",
       "    <tr>\n",
       "      <th>11</th>\n",
       "      <td>183</td>\n",
       "      <td>97</td>\n",
       "      <td>0.985778</td>\n",
       "      <td>1.208964</td>\n",
       "    </tr>\n",
       "    <tr>\n",
       "      <th>12</th>\n",
       "      <td>176</td>\n",
       "      <td>96</td>\n",
       "      <td>0.452925</td>\n",
       "      <td>1.155232</td>\n",
       "    </tr>\n",
       "    <tr>\n",
       "      <th>13</th>\n",
       "      <td>154</td>\n",
       "      <td>95</td>\n",
       "      <td>-1.221756</td>\n",
       "      <td>1.101501</td>\n",
       "    </tr>\n",
       "    <tr>\n",
       "      <th>14</th>\n",
       "      <td>192</td>\n",
       "      <td>94</td>\n",
       "      <td>1.670875</td>\n",
       "      <td>1.047769</td>\n",
       "    </tr>\n",
       "    <tr>\n",
       "      <th>15</th>\n",
       "      <td>163</td>\n",
       "      <td>65</td>\n",
       "      <td>-0.536659</td>\n",
       "      <td>-0.510451</td>\n",
       "    </tr>\n",
       "    <tr>\n",
       "      <th>16</th>\n",
       "      <td>164</td>\n",
       "      <td>66</td>\n",
       "      <td>-0.460537</td>\n",
       "      <td>-0.456720</td>\n",
       "    </tr>\n",
       "    <tr>\n",
       "      <th>17</th>\n",
       "      <td>172</td>\n",
       "      <td>67</td>\n",
       "      <td>0.148438</td>\n",
       "      <td>-0.402988</td>\n",
       "    </tr>\n",
       "    <tr>\n",
       "      <th>18</th>\n",
       "      <td>175</td>\n",
       "      <td>68</td>\n",
       "      <td>0.376803</td>\n",
       "      <td>-0.349256</td>\n",
       "    </tr>\n",
       "    <tr>\n",
       "      <th>19</th>\n",
       "      <td>140</td>\n",
       "      <td>45</td>\n",
       "      <td>-2.287462</td>\n",
       "      <td>-1.585086</td>\n",
       "    </tr>\n",
       "  </tbody>\n",
       "</table>\n",
       "</div>"
      ],
      "text/plain": [
       "    Height  Weight  HeightNorm  WeightNorm\n",
       "0      160      80   -0.765025    0.295525\n",
       "1      162      52   -0.612781   -1.208964\n",
       "2      165      60   -0.384415   -0.779110\n",
       "3      192     100    1.670875    1.370159\n",
       "4      160      78   -0.765025    0.188061\n",
       "5      190      79    1.518631    0.241793\n",
       "6      179      78    0.681291    0.188061\n",
       "7      170      50   -0.003806   -1.316427\n",
       "8      165      42   -0.384415   -1.746281\n",
       "9      165      80   -0.384415    0.295525\n",
       "10     174      98    0.300681    1.262696\n",
       "11     183      97    0.985778    1.208964\n",
       "12     176      96    0.452925    1.155232\n",
       "13     154      95   -1.221756    1.101501\n",
       "14     192      94    1.670875    1.047769\n",
       "15     163      65   -0.536659   -0.510451\n",
       "16     164      66   -0.460537   -0.456720\n",
       "17     172      67    0.148438   -0.402988\n",
       "18     175      68    0.376803   -0.349256\n",
       "19     140      45   -2.287462   -1.585086"
      ]
     },
     "execution_count": 5,
     "metadata": {},
     "output_type": "execute_result"
    }
   ],
   "source": [
    "# 使用 z-score 的方式將身高與體重進行標準化\n",
    "data['HeightNorm'] = (data['Height'] - data.mean().Height) / data.std().Height\n",
    "                       \n",
    "data['WeightNorm'] = (data['Weight'] - data.mean().Weight) / data.std().Weight\n",
    "                      \n",
    "data"
   ]
  },
  {
   "cell_type": "code",
   "execution_count": 7,
   "metadata": {},
   "outputs": [
    {
     "data": {
      "text/html": [
       "<div>\n",
       "<style scoped>\n",
       "    .dataframe tbody tr th:only-of-type {\n",
       "        vertical-align: middle;\n",
       "    }\n",
       "\n",
       "    .dataframe tbody tr th {\n",
       "        vertical-align: top;\n",
       "    }\n",
       "\n",
       "    .dataframe thead th {\n",
       "        text-align: right;\n",
       "    }\n",
       "</style>\n",
       "<table border=\"1\" class=\"dataframe\">\n",
       "  <thead>\n",
       "    <tr style=\"text-align: right;\">\n",
       "      <th></th>\n",
       "      <th>Height</th>\n",
       "      <th>Weight</th>\n",
       "      <th>HeightNorm</th>\n",
       "      <th>WeightNorm</th>\n",
       "    </tr>\n",
       "  </thead>\n",
       "  <tbody>\n",
       "    <tr>\n",
       "      <th>0</th>\n",
       "      <td>160</td>\n",
       "      <td>80</td>\n",
       "      <td>0.833333</td>\n",
       "      <td>0.80</td>\n",
       "    </tr>\n",
       "    <tr>\n",
       "      <th>1</th>\n",
       "      <td>162</td>\n",
       "      <td>52</td>\n",
       "      <td>0.843750</td>\n",
       "      <td>0.52</td>\n",
       "    </tr>\n",
       "    <tr>\n",
       "      <th>2</th>\n",
       "      <td>165</td>\n",
       "      <td>60</td>\n",
       "      <td>0.859375</td>\n",
       "      <td>0.60</td>\n",
       "    </tr>\n",
       "    <tr>\n",
       "      <th>3</th>\n",
       "      <td>192</td>\n",
       "      <td>100</td>\n",
       "      <td>1.000000</td>\n",
       "      <td>1.00</td>\n",
       "    </tr>\n",
       "    <tr>\n",
       "      <th>4</th>\n",
       "      <td>160</td>\n",
       "      <td>78</td>\n",
       "      <td>0.833333</td>\n",
       "      <td>0.78</td>\n",
       "    </tr>\n",
       "    <tr>\n",
       "      <th>5</th>\n",
       "      <td>190</td>\n",
       "      <td>79</td>\n",
       "      <td>0.989583</td>\n",
       "      <td>0.79</td>\n",
       "    </tr>\n",
       "    <tr>\n",
       "      <th>6</th>\n",
       "      <td>179</td>\n",
       "      <td>78</td>\n",
       "      <td>0.932292</td>\n",
       "      <td>0.78</td>\n",
       "    </tr>\n",
       "    <tr>\n",
       "      <th>7</th>\n",
       "      <td>170</td>\n",
       "      <td>50</td>\n",
       "      <td>0.885417</td>\n",
       "      <td>0.50</td>\n",
       "    </tr>\n",
       "    <tr>\n",
       "      <th>8</th>\n",
       "      <td>165</td>\n",
       "      <td>42</td>\n",
       "      <td>0.859375</td>\n",
       "      <td>0.42</td>\n",
       "    </tr>\n",
       "    <tr>\n",
       "      <th>9</th>\n",
       "      <td>165</td>\n",
       "      <td>80</td>\n",
       "      <td>0.859375</td>\n",
       "      <td>0.80</td>\n",
       "    </tr>\n",
       "    <tr>\n",
       "      <th>10</th>\n",
       "      <td>174</td>\n",
       "      <td>98</td>\n",
       "      <td>0.906250</td>\n",
       "      <td>0.98</td>\n",
       "    </tr>\n",
       "    <tr>\n",
       "      <th>11</th>\n",
       "      <td>183</td>\n",
       "      <td>97</td>\n",
       "      <td>0.953125</td>\n",
       "      <td>0.97</td>\n",
       "    </tr>\n",
       "    <tr>\n",
       "      <th>12</th>\n",
       "      <td>176</td>\n",
       "      <td>96</td>\n",
       "      <td>0.916667</td>\n",
       "      <td>0.96</td>\n",
       "    </tr>\n",
       "    <tr>\n",
       "      <th>13</th>\n",
       "      <td>154</td>\n",
       "      <td>95</td>\n",
       "      <td>0.802083</td>\n",
       "      <td>0.95</td>\n",
       "    </tr>\n",
       "    <tr>\n",
       "      <th>14</th>\n",
       "      <td>192</td>\n",
       "      <td>94</td>\n",
       "      <td>1.000000</td>\n",
       "      <td>0.94</td>\n",
       "    </tr>\n",
       "    <tr>\n",
       "      <th>15</th>\n",
       "      <td>163</td>\n",
       "      <td>65</td>\n",
       "      <td>0.848958</td>\n",
       "      <td>0.65</td>\n",
       "    </tr>\n",
       "    <tr>\n",
       "      <th>16</th>\n",
       "      <td>164</td>\n",
       "      <td>66</td>\n",
       "      <td>0.854167</td>\n",
       "      <td>0.66</td>\n",
       "    </tr>\n",
       "    <tr>\n",
       "      <th>17</th>\n",
       "      <td>172</td>\n",
       "      <td>67</td>\n",
       "      <td>0.895833</td>\n",
       "      <td>0.67</td>\n",
       "    </tr>\n",
       "    <tr>\n",
       "      <th>18</th>\n",
       "      <td>175</td>\n",
       "      <td>68</td>\n",
       "      <td>0.911458</td>\n",
       "      <td>0.68</td>\n",
       "    </tr>\n",
       "    <tr>\n",
       "      <th>19</th>\n",
       "      <td>140</td>\n",
       "      <td>45</td>\n",
       "      <td>0.729167</td>\n",
       "      <td>0.45</td>\n",
       "    </tr>\n",
       "  </tbody>\n",
       "</table>\n",
       "</div>"
      ],
      "text/plain": [
       "    Height  Weight  HeightNorm  WeightNorm\n",
       "0      160      80    0.833333        0.80\n",
       "1      162      52    0.843750        0.52\n",
       "2      165      60    0.859375        0.60\n",
       "3      192     100    1.000000        1.00\n",
       "4      160      78    0.833333        0.78\n",
       "5      190      79    0.989583        0.79\n",
       "6      179      78    0.932292        0.78\n",
       "7      170      50    0.885417        0.50\n",
       "8      165      42    0.859375        0.42\n",
       "9      165      80    0.859375        0.80\n",
       "10     174      98    0.906250        0.98\n",
       "11     183      97    0.953125        0.97\n",
       "12     176      96    0.916667        0.96\n",
       "13     154      95    0.802083        0.95\n",
       "14     192      94    1.000000        0.94\n",
       "15     163      65    0.848958        0.65\n",
       "16     164      66    0.854167        0.66\n",
       "17     172      67    0.895833        0.67\n",
       "18     175      68    0.911458        0.68\n",
       "19     140      45    0.729167        0.45"
      ]
     },
     "execution_count": 7,
     "metadata": {},
     "output_type": "execute_result"
    }
   ],
   "source": [
    "# 使用 MaxAbs 的方式將身高與體重進行標準化\n",
    "data['HeightNorm'] = (data['Height']  / abs(max(data['Height'])))\n",
    "                       \n",
    "data['WeightNorm'] = (data['Weight'] / abs(max(data['Weight'])))\n",
    "                      \n",
    "data"
   ]
  },
  {
   "cell_type": "code",
   "execution_count": 8,
   "metadata": {},
   "outputs": [
    {
     "data": {
      "text/html": [
       "<div>\n",
       "<style scoped>\n",
       "    .dataframe tbody tr th:only-of-type {\n",
       "        vertical-align: middle;\n",
       "    }\n",
       "\n",
       "    .dataframe tbody tr th {\n",
       "        vertical-align: top;\n",
       "    }\n",
       "\n",
       "    .dataframe thead th {\n",
       "        text-align: right;\n",
       "    }\n",
       "</style>\n",
       "<table border=\"1\" class=\"dataframe\">\n",
       "  <thead>\n",
       "    <tr style=\"text-align: right;\">\n",
       "      <th></th>\n",
       "      <th>Height</th>\n",
       "      <th>Weight</th>\n",
       "      <th>HeightNorm</th>\n",
       "      <th>WeightNorm</th>\n",
       "    </tr>\n",
       "  </thead>\n",
       "  <tbody>\n",
       "    <tr>\n",
       "      <th>0</th>\n",
       "      <td>160</td>\n",
       "      <td>80</td>\n",
       "      <td>-0.535714</td>\n",
       "      <td>0.065574</td>\n",
       "    </tr>\n",
       "    <tr>\n",
       "      <th>1</th>\n",
       "      <td>162</td>\n",
       "      <td>52</td>\n",
       "      <td>-0.392857</td>\n",
       "      <td>-0.852459</td>\n",
       "    </tr>\n",
       "    <tr>\n",
       "      <th>2</th>\n",
       "      <td>165</td>\n",
       "      <td>60</td>\n",
       "      <td>-0.178571</td>\n",
       "      <td>-0.590164</td>\n",
       "    </tr>\n",
       "    <tr>\n",
       "      <th>3</th>\n",
       "      <td>192</td>\n",
       "      <td>100</td>\n",
       "      <td>1.750000</td>\n",
       "      <td>0.721311</td>\n",
       "    </tr>\n",
       "    <tr>\n",
       "      <th>4</th>\n",
       "      <td>160</td>\n",
       "      <td>78</td>\n",
       "      <td>-0.535714</td>\n",
       "      <td>0.000000</td>\n",
       "    </tr>\n",
       "    <tr>\n",
       "      <th>5</th>\n",
       "      <td>190</td>\n",
       "      <td>79</td>\n",
       "      <td>1.607143</td>\n",
       "      <td>0.032787</td>\n",
       "    </tr>\n",
       "    <tr>\n",
       "      <th>6</th>\n",
       "      <td>179</td>\n",
       "      <td>78</td>\n",
       "      <td>0.821429</td>\n",
       "      <td>0.000000</td>\n",
       "    </tr>\n",
       "    <tr>\n",
       "      <th>7</th>\n",
       "      <td>170</td>\n",
       "      <td>50</td>\n",
       "      <td>0.178571</td>\n",
       "      <td>-0.918033</td>\n",
       "    </tr>\n",
       "    <tr>\n",
       "      <th>8</th>\n",
       "      <td>165</td>\n",
       "      <td>42</td>\n",
       "      <td>-0.178571</td>\n",
       "      <td>-1.180328</td>\n",
       "    </tr>\n",
       "    <tr>\n",
       "      <th>9</th>\n",
       "      <td>165</td>\n",
       "      <td>80</td>\n",
       "      <td>-0.178571</td>\n",
       "      <td>0.065574</td>\n",
       "    </tr>\n",
       "    <tr>\n",
       "      <th>10</th>\n",
       "      <td>174</td>\n",
       "      <td>98</td>\n",
       "      <td>0.464286</td>\n",
       "      <td>0.655738</td>\n",
       "    </tr>\n",
       "    <tr>\n",
       "      <th>11</th>\n",
       "      <td>183</td>\n",
       "      <td>97</td>\n",
       "      <td>1.107143</td>\n",
       "      <td>0.622951</td>\n",
       "    </tr>\n",
       "    <tr>\n",
       "      <th>12</th>\n",
       "      <td>176</td>\n",
       "      <td>96</td>\n",
       "      <td>0.607143</td>\n",
       "      <td>0.590164</td>\n",
       "    </tr>\n",
       "    <tr>\n",
       "      <th>13</th>\n",
       "      <td>154</td>\n",
       "      <td>95</td>\n",
       "      <td>-0.964286</td>\n",
       "      <td>0.557377</td>\n",
       "    </tr>\n",
       "    <tr>\n",
       "      <th>14</th>\n",
       "      <td>192</td>\n",
       "      <td>94</td>\n",
       "      <td>1.750000</td>\n",
       "      <td>0.524590</td>\n",
       "    </tr>\n",
       "    <tr>\n",
       "      <th>15</th>\n",
       "      <td>163</td>\n",
       "      <td>65</td>\n",
       "      <td>-0.321429</td>\n",
       "      <td>-0.426230</td>\n",
       "    </tr>\n",
       "    <tr>\n",
       "      <th>16</th>\n",
       "      <td>164</td>\n",
       "      <td>66</td>\n",
       "      <td>-0.250000</td>\n",
       "      <td>-0.393443</td>\n",
       "    </tr>\n",
       "    <tr>\n",
       "      <th>17</th>\n",
       "      <td>172</td>\n",
       "      <td>67</td>\n",
       "      <td>0.321429</td>\n",
       "      <td>-0.360656</td>\n",
       "    </tr>\n",
       "    <tr>\n",
       "      <th>18</th>\n",
       "      <td>175</td>\n",
       "      <td>68</td>\n",
       "      <td>0.535714</td>\n",
       "      <td>-0.327869</td>\n",
       "    </tr>\n",
       "    <tr>\n",
       "      <th>19</th>\n",
       "      <td>140</td>\n",
       "      <td>45</td>\n",
       "      <td>-1.964286</td>\n",
       "      <td>-1.081967</td>\n",
       "    </tr>\n",
       "  </tbody>\n",
       "</table>\n",
       "</div>"
      ],
      "text/plain": [
       "    Height  Weight  HeightNorm  WeightNorm\n",
       "0      160      80   -0.535714    0.065574\n",
       "1      162      52   -0.392857   -0.852459\n",
       "2      165      60   -0.178571   -0.590164\n",
       "3      192     100    1.750000    0.721311\n",
       "4      160      78   -0.535714    0.000000\n",
       "5      190      79    1.607143    0.032787\n",
       "6      179      78    0.821429    0.000000\n",
       "7      170      50    0.178571   -0.918033\n",
       "8      165      42   -0.178571   -1.180328\n",
       "9      165      80   -0.178571    0.065574\n",
       "10     174      98    0.464286    0.655738\n",
       "11     183      97    1.107143    0.622951\n",
       "12     176      96    0.607143    0.590164\n",
       "13     154      95   -0.964286    0.557377\n",
       "14     192      94    1.750000    0.524590\n",
       "15     163      65   -0.321429   -0.426230\n",
       "16     164      66   -0.250000   -0.393443\n",
       "17     172      67    0.321429   -0.360656\n",
       "18     175      68    0.535714   -0.327869\n",
       "19     140      45   -1.964286   -1.081967"
      ]
     },
     "execution_count": 8,
     "metadata": {},
     "output_type": "execute_result"
    }
   ],
   "source": [
    "# 使用 Robust scalar 的方式將身高與體重進行標準化\n",
    "data['HeightNorm'] = (data['Height'] - data.median().Height) / (data.quantile(0.75).Height-data.quantile(0.25).Height)\n",
    "                       \n",
    "data['WeightNorm'] = (data['Weight'] - data.median().Weight) / (data.quantile(0.75).Weight-data.quantile(0.25).Weight)\n",
    "                      \n",
    "data"
   ]
  },
  {
   "cell_type": "markdown",
   "metadata": {},
   "source": [
    "## 可使用 scikit- learn 套件  \n",
    "\n",
    "### Min-Max的方式\n",
    "\n",
    "from sklearn.preprocessing import MinMaxScaler  \n",
    "scaler = MinMaxScaler()  \n",
    "data_scaled = scaler.fit_transform(data) \n",
    "\n",
    "### z-score 的方式 \n",
    "\n",
    "from sklearn.preprocessing import StandardScaler  \n",
    "scaler = StandardScaler()  \n",
    "data_scaled = scaler.fit_transform(data) \n",
    "\n",
    "### MaxAbs 的方式\n",
    "\n",
    "from sklearn.preprocessing import MaxAbsScaler  \n",
    "maxabs = MaxAbsScaler()  \n",
    "data_maxabs = maxabs.fit_transform(data) \n",
    "\n",
    "\n",
    "### Robust scalar (IQR) 的方式\n",
    "\n",
    "from sklearn.preprocessing import RobustScaler  \n",
    "scaler = RobustScaler()  \n",
    "data_scaled = scaler.fit_transform(data) "
   ]
  },
  {
   "cell_type": "code",
   "execution_count": 9,
   "metadata": {},
   "outputs": [
    {
     "data": {
      "text/html": [
       "<div>\n",
       "<style scoped>\n",
       "    .dataframe tbody tr th:only-of-type {\n",
       "        vertical-align: middle;\n",
       "    }\n",
       "\n",
       "    .dataframe tbody tr th {\n",
       "        vertical-align: top;\n",
       "    }\n",
       "\n",
       "    .dataframe thead th {\n",
       "        text-align: right;\n",
       "    }\n",
       "</style>\n",
       "<table border=\"1\" class=\"dataframe\">\n",
       "  <thead>\n",
       "    <tr style=\"text-align: right;\">\n",
       "      <th></th>\n",
       "      <th>age</th>\n",
       "      <th>height</th>\n",
       "      <th>weight</th>\n",
       "    </tr>\n",
       "  </thead>\n",
       "  <tbody>\n",
       "    <tr>\n",
       "      <th>0</th>\n",
       "      <td>3</td>\n",
       "      <td>94</td>\n",
       "      <td>31</td>\n",
       "    </tr>\n",
       "    <tr>\n",
       "      <th>1</th>\n",
       "      <td>29</td>\n",
       "      <td>170</td>\n",
       "      <td>115</td>\n",
       "    </tr>\n",
       "  </tbody>\n",
       "</table>\n",
       "</div>"
      ],
      "text/plain": [
       "   age  height  weight\n",
       "0    3      94      31\n",
       "1   29     170     115"
      ]
     },
     "execution_count": 9,
     "metadata": {},
     "output_type": "execute_result"
    }
   ],
   "source": [
    "# Example for pd.values\n",
    "df = pd.DataFrame({'age':[ 3,  29],'height': [94, 170],'weight': [31, 115]})\n",
    "df"
   ]
  },
  {
   "cell_type": "code",
   "execution_count": 10,
   "metadata": {},
   "outputs": [
    {
     "data": {
      "text/plain": [
       "age       int64\n",
       "height    int64\n",
       "weight    int64\n",
       "dtype: object"
      ]
     },
     "execution_count": 10,
     "metadata": {},
     "output_type": "execute_result"
    }
   ],
   "source": [
    "df.dtypes"
   ]
  },
  {
   "cell_type": "code",
   "execution_count": 11,
   "metadata": {},
   "outputs": [
    {
     "data": {
      "text/plain": [
       "array([[  3,  94,  31],\n",
       "       [ 29, 170, 115]], dtype=int64)"
      ]
     },
     "execution_count": 11,
     "metadata": {},
     "output_type": "execute_result"
    }
   ],
   "source": [
    "df.values    # Return a Numpy representation of the DataFrame."
   ]
  },
  {
   "cell_type": "code",
   "execution_count": 12,
   "metadata": {},
   "outputs": [
    {
     "data": {
      "text/html": [
       "<div>\n",
       "<style scoped>\n",
       "    .dataframe tbody tr th:only-of-type {\n",
       "        vertical-align: middle;\n",
       "    }\n",
       "\n",
       "    .dataframe tbody tr th {\n",
       "        vertical-align: top;\n",
       "    }\n",
       "\n",
       "    .dataframe thead th {\n",
       "        text-align: right;\n",
       "    }\n",
       "</style>\n",
       "<table border=\"1\" class=\"dataframe\">\n",
       "  <thead>\n",
       "    <tr style=\"text-align: right;\">\n",
       "      <th></th>\n",
       "      <th>age</th>\n",
       "      <th>height</th>\n",
       "      <th>weight</th>\n",
       "    </tr>\n",
       "  </thead>\n",
       "  <tbody>\n",
       "    <tr>\n",
       "      <th>0</th>\n",
       "      <td>3</td>\n",
       "      <td>94</td>\n",
       "      <td>31</td>\n",
       "    </tr>\n",
       "    <tr>\n",
       "      <th>1</th>\n",
       "      <td>29</td>\n",
       "      <td>170</td>\n",
       "      <td>110</td>\n",
       "    </tr>\n",
       "    <tr>\n",
       "      <th>2</th>\n",
       "      <td>32</td>\n",
       "      <td>168</td>\n",
       "      <td>60</td>\n",
       "    </tr>\n",
       "    <tr>\n",
       "      <th>3</th>\n",
       "      <td>40</td>\n",
       "      <td>180</td>\n",
       "      <td>80</td>\n",
       "    </tr>\n",
       "  </tbody>\n",
       "</table>\n",
       "</div>"
      ],
      "text/plain": [
       "   age  height  weight\n",
       "0    3      94      31\n",
       "1   29     170     110\n",
       "2   32     168      60\n",
       "3   40     180      80"
      ]
     },
     "execution_count": 12,
     "metadata": {},
     "output_type": "execute_result"
    }
   ],
   "source": [
    "#Example for pd.sample for random sampling items from an axis of object.\n",
    "df = pd.DataFrame({'age':[ 3,  29, 32, 40],'height': [94, 170, 168, 180],'weight': [31, 110, 60, 80]})\n",
    "df"
   ]
  },
  {
   "cell_type": "code",
   "execution_count": 16,
   "metadata": {},
   "outputs": [
    {
     "data": {
      "text/html": [
       "<div>\n",
       "<style scoped>\n",
       "    .dataframe tbody tr th:only-of-type {\n",
       "        vertical-align: middle;\n",
       "    }\n",
       "\n",
       "    .dataframe tbody tr th {\n",
       "        vertical-align: top;\n",
       "    }\n",
       "\n",
       "    .dataframe thead th {\n",
       "        text-align: right;\n",
       "    }\n",
       "</style>\n",
       "<table border=\"1\" class=\"dataframe\">\n",
       "  <thead>\n",
       "    <tr style=\"text-align: right;\">\n",
       "      <th></th>\n",
       "      <th>age</th>\n",
       "      <th>height</th>\n",
       "      <th>weight</th>\n",
       "    </tr>\n",
       "  </thead>\n",
       "  <tbody>\n",
       "    <tr>\n",
       "      <th>3</th>\n",
       "      <td>40</td>\n",
       "      <td>180</td>\n",
       "      <td>80</td>\n",
       "    </tr>\n",
       "    <tr>\n",
       "      <th>2</th>\n",
       "      <td>32</td>\n",
       "      <td>168</td>\n",
       "      <td>60</td>\n",
       "    </tr>\n",
       "  </tbody>\n",
       "</table>\n",
       "</div>"
      ],
      "text/plain": [
       "   age  height  weight\n",
       "3   40     180      80\n",
       "2   32     168      60"
      ]
     },
     "execution_count": 16,
     "metadata": {},
     "output_type": "execute_result"
    }
   ],
   "source": [
    "df.sample(n=2, random_state=1)"
   ]
  },
  {
   "cell_type": "code",
   "execution_count": 17,
   "metadata": {},
   "outputs": [
    {
     "data": {
      "text/plain": [
       "2    32\n",
       "0     3\n",
       "Name: age, dtype: int64"
      ]
     },
     "execution_count": 17,
     "metadata": {},
     "output_type": "execute_result"
    }
   ],
   "source": [
    "df['age'].sample(n=2, random_state=10)"
   ]
  },
  {
   "cell_type": "code",
   "execution_count": 19,
   "metadata": {},
   "outputs": [
    {
     "data": {
      "text/html": [
       "<div>\n",
       "<style scoped>\n",
       "    .dataframe tbody tr th:only-of-type {\n",
       "        vertical-align: middle;\n",
       "    }\n",
       "\n",
       "    .dataframe tbody tr th {\n",
       "        vertical-align: top;\n",
       "    }\n",
       "\n",
       "    .dataframe thead th {\n",
       "        text-align: right;\n",
       "    }\n",
       "</style>\n",
       "<table border=\"1\" class=\"dataframe\">\n",
       "  <thead>\n",
       "    <tr style=\"text-align: right;\">\n",
       "      <th></th>\n",
       "      <th>age</th>\n",
       "      <th>height</th>\n",
       "    </tr>\n",
       "  </thead>\n",
       "  <tbody>\n",
       "    <tr>\n",
       "      <th>2</th>\n",
       "      <td>32</td>\n",
       "      <td>168</td>\n",
       "    </tr>\n",
       "    <tr>\n",
       "      <th>0</th>\n",
       "      <td>3</td>\n",
       "      <td>94</td>\n",
       "    </tr>\n",
       "  </tbody>\n",
       "</table>\n",
       "</div>"
      ],
      "text/plain": [
       "   age  height\n",
       "2   32     168\n",
       "0    3      94"
      ]
     },
     "execution_count": 19,
     "metadata": {},
     "output_type": "execute_result"
    }
   ],
   "source": [
    "df[['age','height']].sample(n=2, random_state=10)"
   ]
  },
  {
   "cell_type": "code",
   "execution_count": 20,
   "metadata": {},
   "outputs": [
    {
     "name": "stdout",
     "output_type": "stream",
     "text": [
      "0:(foo,one)\n",
      "1:(bar,two)\n",
      "2:(baz,three)\n"
     ]
    }
   ],
   "source": [
    "# zip 的常用於同時遍歷多個列表資料，經常和enumerate同時使用\n",
    "seq1=['foo','bar','baz']\n",
    "seq2=['one','two','three']\n",
    "for i,(a,b) in enumerate(zip(seq1,seq2)):\n",
    "    print('{}:({},{})'.format(i,a,b))"
   ]
  },
  {
   "cell_type": "code",
   "execution_count": 22,
   "metadata": {},
   "outputs": [
    {
     "name": "stdout",
     "output_type": "stream",
     "text": [
      "[[ 0.53571429 -0.32786885]\n",
      " [-0.39285714 -0.85245902]]\n"
     ]
    },
    {
     "data": {
      "text/plain": [
       "([0.5357142857142857, -0.39285714285714285],\n",
       " [-0.32786885245901637, -0.8524590163934426])"
      ]
     },
     "execution_count": 22,
     "metadata": {},
     "output_type": "execute_result"
    }
   ],
   "source": [
    "# 決定好要將資料分為多少群(K)\n",
    "k = 2\n",
    "# 隨機給定K個中心點(群心)\n",
    "values = data[['HeightNorm', 'WeightNorm']].sample(k, random_state=0).values\n",
    "centerxs = []\n",
    "centerys = []\n",
    "print(values)\n",
    "for x in values:\n",
    "    centerxs.append(x[0])\n",
    "    centerys.append(x[1])\n",
    "centerxs, centerys"
   ]
  },
  {
   "cell_type": "code",
   "execution_count": 24,
   "metadata": {},
   "outputs": [
    {
     "data": {
      "text/plain": [
       "<matplotlib.collections.PathCollection at 0x2452aa59390>"
      ]
     },
     "execution_count": 24,
     "metadata": {},
     "output_type": "execute_result"
    },
    {
     "data": {
      "image/png": "[encoded data removed]",
      "text/plain": [
       "<Figure size 432x288 with 1 Axes>"
      ]
     },
     "metadata": {
      "needs_background": "light"
     },
     "output_type": "display_data"
    }
   ],
   "source": [
    "plt.scatter(data['HeightNorm'], data['WeightNorm'])\n",
    "plt.scatter(centerxs, centerys, c='r', marker='x', s=100)"
   ]
  },
  {
   "cell_type": "code",
   "execution_count": 26,
   "metadata": {},
   "outputs": [
    {
     "data": {
      "text/html": [
       "<div>\n",
       "<style scoped>\n",
       "    .dataframe tbody tr th:only-of-type {\n",
       "        vertical-align: middle;\n",
       "    }\n",
       "\n",
       "    .dataframe tbody tr th {\n",
       "        vertical-align: top;\n",
       "    }\n",
       "\n",
       "    .dataframe thead th {\n",
       "        text-align: right;\n",
       "    }\n",
       "</style>\n",
       "<table border=\"1\" class=\"dataframe\">\n",
       "  <thead>\n",
       "    <tr style=\"text-align: right;\">\n",
       "      <th></th>\n",
       "      <th>Height</th>\n",
       "      <th>Weight</th>\n",
       "      <th>HeightNorm</th>\n",
       "      <th>WeightNorm</th>\n",
       "      <th>Group</th>\n",
       "    </tr>\n",
       "  </thead>\n",
       "  <tbody>\n",
       "    <tr>\n",
       "      <th>0</th>\n",
       "      <td>160</td>\n",
       "      <td>80</td>\n",
       "      <td>-0.535714</td>\n",
       "      <td>0.065574</td>\n",
       "      <td>1</td>\n",
       "    </tr>\n",
       "    <tr>\n",
       "      <th>1</th>\n",
       "      <td>162</td>\n",
       "      <td>52</td>\n",
       "      <td>-0.392857</td>\n",
       "      <td>-0.852459</td>\n",
       "      <td>1</td>\n",
       "    </tr>\n",
       "    <tr>\n",
       "      <th>2</th>\n",
       "      <td>165</td>\n",
       "      <td>60</td>\n",
       "      <td>-0.178571</td>\n",
       "      <td>-0.590164</td>\n",
       "      <td>1</td>\n",
       "    </tr>\n",
       "    <tr>\n",
       "      <th>3</th>\n",
       "      <td>192</td>\n",
       "      <td>100</td>\n",
       "      <td>1.750000</td>\n",
       "      <td>0.721311</td>\n",
       "      <td>0</td>\n",
       "    </tr>\n",
       "    <tr>\n",
       "      <th>4</th>\n",
       "      <td>160</td>\n",
       "      <td>78</td>\n",
       "      <td>-0.535714</td>\n",
       "      <td>0.000000</td>\n",
       "      <td>1</td>\n",
       "    </tr>\n",
       "    <tr>\n",
       "      <th>5</th>\n",
       "      <td>190</td>\n",
       "      <td>79</td>\n",
       "      <td>1.607143</td>\n",
       "      <td>0.032787</td>\n",
       "      <td>0</td>\n",
       "    </tr>\n",
       "    <tr>\n",
       "      <th>6</th>\n",
       "      <td>179</td>\n",
       "      <td>78</td>\n",
       "      <td>0.821429</td>\n",
       "      <td>0.000000</td>\n",
       "      <td>0</td>\n",
       "    </tr>\n",
       "    <tr>\n",
       "      <th>7</th>\n",
       "      <td>170</td>\n",
       "      <td>50</td>\n",
       "      <td>0.178571</td>\n",
       "      <td>-0.918033</td>\n",
       "      <td>1</td>\n",
       "    </tr>\n",
       "    <tr>\n",
       "      <th>8</th>\n",
       "      <td>165</td>\n",
       "      <td>42</td>\n",
       "      <td>-0.178571</td>\n",
       "      <td>-1.180328</td>\n",
       "      <td>1</td>\n",
       "    </tr>\n",
       "    <tr>\n",
       "      <th>9</th>\n",
       "      <td>165</td>\n",
       "      <td>80</td>\n",
       "      <td>-0.178571</td>\n",
       "      <td>0.065574</td>\n",
       "      <td>0</td>\n",
       "    </tr>\n",
       "    <tr>\n",
       "      <th>10</th>\n",
       "      <td>174</td>\n",
       "      <td>98</td>\n",
       "      <td>0.464286</td>\n",
       "      <td>0.655738</td>\n",
       "      <td>0</td>\n",
       "    </tr>\n",
       "    <tr>\n",
       "      <th>11</th>\n",
       "      <td>183</td>\n",
       "      <td>97</td>\n",
       "      <td>1.107143</td>\n",
       "      <td>0.622951</td>\n",
       "      <td>0</td>\n",
       "    </tr>\n",
       "    <tr>\n",
       "      <th>12</th>\n",
       "      <td>176</td>\n",
       "      <td>96</td>\n",
       "      <td>0.607143</td>\n",
       "      <td>0.590164</td>\n",
       "      <td>0</td>\n",
       "    </tr>\n",
       "    <tr>\n",
       "      <th>13</th>\n",
       "      <td>154</td>\n",
       "      <td>95</td>\n",
       "      <td>-0.964286</td>\n",
       "      <td>0.557377</td>\n",
       "      <td>1</td>\n",
       "    </tr>\n",
       "    <tr>\n",
       "      <th>14</th>\n",
       "      <td>192</td>\n",
       "      <td>94</td>\n",
       "      <td>1.750000</td>\n",
       "      <td>0.524590</td>\n",
       "      <td>0</td>\n",
       "    </tr>\n",
       "    <tr>\n",
       "      <th>15</th>\n",
       "      <td>163</td>\n",
       "      <td>65</td>\n",
       "      <td>-0.321429</td>\n",
       "      <td>-0.426230</td>\n",
       "      <td>1</td>\n",
       "    </tr>\n",
       "    <tr>\n",
       "      <th>16</th>\n",
       "      <td>164</td>\n",
       "      <td>66</td>\n",
       "      <td>-0.250000</td>\n",
       "      <td>-0.393443</td>\n",
       "      <td>1</td>\n",
       "    </tr>\n",
       "    <tr>\n",
       "      <th>17</th>\n",
       "      <td>172</td>\n",
       "      <td>67</td>\n",
       "      <td>0.321429</td>\n",
       "      <td>-0.360656</td>\n",
       "      <td>0</td>\n",
       "    </tr>\n",
       "    <tr>\n",
       "      <th>18</th>\n",
       "      <td>175</td>\n",
       "      <td>68</td>\n",
       "      <td>0.535714</td>\n",
       "      <td>-0.327869</td>\n",
       "      <td>0</td>\n",
       "    </tr>\n",
       "    <tr>\n",
       "      <th>19</th>\n",
       "      <td>140</td>\n",
       "      <td>45</td>\n",
       "      <td>-1.964286</td>\n",
       "      <td>-1.081967</td>\n",
       "      <td>1</td>\n",
       "    </tr>\n",
       "  </tbody>\n",
       "</table>\n",
       "</div>"
      ],
      "text/plain": [
       "    Height  Weight  HeightNorm  WeightNorm  Group\n",
       "0      160      80   -0.535714    0.065574      1\n",
       "1      162      52   -0.392857   -0.852459      1\n",
       "2      165      60   -0.178571   -0.590164      1\n",
       "3      192     100    1.750000    0.721311      0\n",
       "4      160      78   -0.535714    0.000000      1\n",
       "5      190      79    1.607143    0.032787      0\n",
       "6      179      78    0.821429    0.000000      0\n",
       "7      170      50    0.178571   -0.918033      1\n",
       "8      165      42   -0.178571   -1.180328      1\n",
       "9      165      80   -0.178571    0.065574      0\n",
       "10     174      98    0.464286    0.655738      0\n",
       "11     183      97    1.107143    0.622951      0\n",
       "12     176      96    0.607143    0.590164      0\n",
       "13     154      95   -0.964286    0.557377      1\n",
       "14     192      94    1.750000    0.524590      0\n",
       "15     163      65   -0.321429   -0.426230      1\n",
       "16     164      66   -0.250000   -0.393443      1\n",
       "17     172      67    0.321429   -0.360656      0\n",
       "18     175      68    0.535714   -0.327869      0\n",
       "19     140      45   -1.964286   -1.081967      1"
      ]
     },
     "execution_count": 26,
     "metadata": {},
     "output_type": "execute_result"
    }
   ],
   "source": [
    "# 將每筆資料的組別指定為距離最近那個群心的組別\n",
    "def assign_group():\n",
    "    def assign(data):\n",
    "        mindist2 = None\n",
    "        group = None\n",
    "        for i, (x, y) in enumerate(zip(centerxs, centerys)):\n",
    "            dist2 = ((data['HeightNorm']-x)**2\n",
    "                     + (data['WeightNorm']-y)**2)\n",
    "            if (mindist2 is None) or (dist2 < mindist2):\n",
    "                mindist2 = dist2\n",
    "                group = i\n",
    "        return group\n",
    "    data['Group'] = data.apply(assign, axis='columns')\n",
    "    \n",
    "assign_group()\n",
    "data"
   ]
  },
  {
   "cell_type": "code",
   "execution_count": 28,
   "metadata": {},
   "outputs": [],
   "source": [
    "# 根據每個資料的群組重新計算中心點\n",
    "def calc_centers():\n",
    "    for group in range(len(centerxs)):\n",
    "        centerxs[group] = data[data['Group']==group]['HeightNorm'].mean()\n",
    "        centerys[group] = data[data['Group']==group]['WeightNorm'].mean()\n",
    "calc_centers()"
   ]
  },
  {
   "cell_type": "code",
   "execution_count": 30,
   "metadata": {},
   "outputs": [
    {
     "data": {
      "text/plain": [
       "<matplotlib.collections.PathCollection at 0x2452aa87898>"
      ]
     },
     "execution_count": 30,
     "metadata": {},
     "output_type": "execute_result"
    },
    {
     "data": {
      "image/png": "[encoded data removed]",
      "text/plain": [
       "<Figure size 432x288 with 1 Axes>"
      ]
     },
     "metadata": {
      "needs_background": "light"
     },
     "output_type": "display_data"
    }
   ],
   "source": [
    "plt.scatter(data['HeightNorm'], data['WeightNorm'], c=data['Group'])\n",
    "plt.scatter(centerxs, centerys, c='r', marker='x', s=100)"
   ]
  },
  {
   "cell_type": "code",
   "execution_count": 31,
   "metadata": {},
   "outputs": [],
   "source": [
    "# 重複步驟3, 4\n",
    "iter_times = 10\n",
    "for i in range(iter_times):\n",
    "    assign_group()\n",
    "    calc_centers()"
   ]
  },
  {
   "cell_type": "code",
   "execution_count": 32,
   "metadata": {
    "scrolled": true
   },
   "outputs": [
    {
     "data": {
      "text/plain": [
       "<matplotlib.collections.PathCollection at 0x2452ab145f8>"
      ]
     },
     "execution_count": 32,
     "metadata": {},
     "output_type": "execute_result"
    },
    {
     "data": {
      "image/png": "[encoded data removed]",
      "text/plain": [
       "<Figure size 432x288 with 1 Axes>"
      ]
     },
     "metadata": {
      "needs_background": "light"
     },
     "output_type": "display_data"
    }
   ],
   "source": [
    "plt.scatter(data['HeightNorm'], data['WeightNorm'], c=data['Group'])\n",
    "plt.scatter(centerxs, centerys, c='r', marker='x', s=100)"
   ]
  },
  {
   "cell_type": "markdown",
   "metadata": {},
   "source": [
    "## 使用Scikit-learn中的套件"
   ]
  },
  {
   "cell_type": "code",
   "execution_count": 33,
   "metadata": {},
   "outputs": [],
   "source": [
    "from sklearn.cluster import KMeans\n",
    "KMeans?"
   ]
  },
  {
   "cell_type": "code",
   "execution_count": 34,
   "metadata": {},
   "outputs": [],
   "source": [
    "kmeans = KMeans(n_clusters=k, random_state=0).fit(\n",
    "    data[['HeightNorm', 'WeightNorm']])\n",
    "data['Group'] = kmeans.labels_\n",
    "centers = kmeans.cluster_centers_"
   ]
  },
  {
   "cell_type": "code",
   "execution_count": 35,
   "metadata": {},
   "outputs": [],
   "source": [
    "centerxs = [x for x, y in centers]\n",
    "centerys = [y for x, y in centers]"
   ]
  },
  {
   "cell_type": "code",
   "execution_count": 36,
   "metadata": {},
   "outputs": [
    {
     "name": "stdout",
     "output_type": "stream",
     "text": [
      "Sum of squared distances of samples to their closest cluster center is 10.114295110414762\n"
     ]
    },
    {
     "data": {
      "image/png": "[encoded data removed]",
      "text/plain": [
       "<Figure size 432x288 with 1 Axes>"
      ]
     },
     "metadata": {
      "needs_background": "light"
     },
     "output_type": "display_data"
    }
   ],
   "source": [
    "plt.scatter(data['HeightNorm'], data['WeightNorm'], c=data['Group'])\n",
    "plt.scatter(centerxs, centerys, c='r', marker='x', s=100)\n",
    "print(\"Sum of squared distances of samples to their closest cluster center is\", kmeans.inertia_)"
   ]
  },
  {
   "cell_type": "markdown",
   "metadata": {},
   "source": [
    "### Hierarchical Clustering Model"
   ]
  },
  {
   "cell_type": "code",
   "execution_count": 37,
   "metadata": {
    "scrolled": true
   },
   "outputs": [
    {
     "data": {
      "image/png": "[encoded data removed]",
      "text/plain": [
       "<Figure size 432x288 with 1 Axes>"
      ]
     },
     "metadata": {
      "needs_background": "light"
     },
     "output_type": "display_data"
    }
   ],
   "source": [
    "import scipy.cluster.hierarchy as sch\n",
    "dendrogram = sch.dendrogram(sch.linkage(data[['HeightNorm', 'WeightNorm']], method  = \"ward\"))\n",
    "plt.title('Dendrogram')\n",
    "plt.xlabel('Customers')\n",
    "plt.ylabel('Euclidean distances')\n",
    "plt.show()"
   ]
  },
  {
   "cell_type": "code",
   "execution_count": 38,
   "metadata": {},
   "outputs": [],
   "source": [
    "sch.dendrogram?"
   ]
  },
  {
   "cell_type": "code",
   "execution_count": 39,
   "metadata": {},
   "outputs": [],
   "source": [
    "from sklearn.cluster import AgglomerativeClustering \n",
    "hc = AgglomerativeClustering(n_clusters = 2, affinity = 'euclidean', linkage ='ward')\n",
    "\n",
    "# 'ward’：單鏈接single-linkage\n",
    "# ‘complete’：全鏈接complete-linkage算法\n",
    "# ‘average’：均連接average-linkage(UPGMA)算法"
   ]
  },
  {
   "cell_type": "code",
   "execution_count": 43,
   "metadata": {},
   "outputs": [],
   "source": [
    "data['Group']=hc.fit_predict(data[['HeightNorm', 'WeightNorm']])"
   ]
  },
  {
   "cell_type": "code",
   "execution_count": 44,
   "metadata": {},
   "outputs": [
    {
     "data": {
      "text/plain": [
       "<function matplotlib.pyplot.show(*args, **kw)>"
      ]
     },
     "execution_count": 44,
     "metadata": {},
     "output_type": "execute_result"
    },
    {
     "data": {
      "image/png": "[encoded data removed]",
      "text/plain": [
       "<Figure size 432x288 with 1 Axes>"
      ]
     },
     "metadata": {
      "needs_background": "light"
     },
     "output_type": "display_data"
    }
   ],
   "source": [
    "plt.scatter(data['HeightNorm'], data['WeightNorm'], c=data['Group'])\n",
    "plt.title('Clusters of hierarchical approach')\n",
    "plt.xlabel('Weight')\n",
    "plt.ylabel('Height')\n",
    "plt.show"
   ]
  },
  {
   "cell_type": "code",
   "execution_count": null,
   "metadata": {},
   "outputs": [],
   "source": []
  }
 ],
 "metadata": {
  "kernelspec": {
   "display_name": "Python 3 (ipykernel)",
   "language": "python",
   "name": "python3"
  },
  "language_info": {
   "codemirror_mode": {
    "name": "ipython",
    "version": 3
   },
   "file_extension": ".py",
   "mimetype": "text/x-python",
   "name": "python",
   "nbconvert_exporter": "python",
   "pygments_lexer": "ipython3",
   "version": "3.9.7"
  }
 },
 "nbformat": 4,
 "nbformat_minor": 4
}
