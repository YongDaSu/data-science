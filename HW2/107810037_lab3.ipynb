{
 "cells": [
  {
   "cell_type": "markdown",
   "id": "258f36a5-11e9-4e10-99ab-1886aad7b96a",
   "metadata": {},
   "source": [
    "# 107810037 蘇勇達 homework-2"
   ]
  },
  {
   "cell_type": "code",
   "execution_count": 1,
   "id": "864ba83c-f44a-4946-9f68-f195064736e1",
   "metadata": {},
   "outputs": [],
   "source": [
    "import pandas as pd\n",
    "import numpy as np\n",
    "import requests"
   ]
  },
  {
   "cell_type": "code",
   "execution_count": 2,
   "id": "3b39c06b-c468-4022-ab74-6c4be447d9ba",
   "metadata": {},
   "outputs": [
    {
     "data": {
      "text/html": [
       "<div>\n",
       "<style scoped>\n",
       "    .dataframe tbody tr th:only-of-type {\n",
       "        vertical-align: middle;\n",
       "    }\n",
       "\n",
       "    .dataframe tbody tr th {\n",
       "        vertical-align: top;\n",
       "    }\n",
       "\n",
       "    .dataframe thead th {\n",
       "        text-align: right;\n",
       "    }\n",
       "</style>\n",
       "<table border=\"1\" class=\"dataframe\">\n",
       "  <thead>\n",
       "    <tr style=\"text-align: right;\">\n",
       "      <th></th>\n",
       "      <th>證券代號</th>\n",
       "      <th>證券名稱</th>\n",
       "      <th>成交股數</th>\n",
       "      <th>成交筆數</th>\n",
       "      <th>成交金額</th>\n",
       "      <th>開盤價</th>\n",
       "      <th>最高價</th>\n",
       "      <th>最低價</th>\n",
       "      <th>收盤價</th>\n",
       "      <th>漲跌(+/-)</th>\n",
       "      <th>漲跌價差</th>\n",
       "      <th>最後揭示買價</th>\n",
       "      <th>最後揭示買量</th>\n",
       "      <th>最後揭示賣價</th>\n",
       "      <th>最後揭示賣量</th>\n",
       "      <th>本益比</th>\n",
       "    </tr>\n",
       "  </thead>\n",
       "  <tbody>\n",
       "    <tr>\n",
       "      <th>0</th>\n",
       "      <td>0050</td>\n",
       "      <td>元大台灣50</td>\n",
       "      <td>26,456,827</td>\n",
       "      <td>58,815</td>\n",
       "      <td>3,486,775,988</td>\n",
       "      <td>133.15</td>\n",
       "      <td>133.15</td>\n",
       "      <td>131.40</td>\n",
       "      <td>131.65</td>\n",
       "      <td>&lt;p style= color:green&gt;-&lt;/p&gt;</td>\n",
       "      <td>2.75</td>\n",
       "      <td>131.65</td>\n",
       "      <td>54</td>\n",
       "      <td>131.70</td>\n",
       "      <td>112</td>\n",
       "      <td>0.00</td>\n",
       "    </tr>\n",
       "    <tr>\n",
       "      <th>1</th>\n",
       "      <td>0051</td>\n",
       "      <td>元大中型100</td>\n",
       "      <td>66,657</td>\n",
       "      <td>240</td>\n",
       "      <td>3,880,057</td>\n",
       "      <td>58.55</td>\n",
       "      <td>58.55</td>\n",
       "      <td>57.90</td>\n",
       "      <td>57.90</td>\n",
       "      <td>&lt;p style= color:green&gt;-&lt;/p&gt;</td>\n",
       "      <td>1.10</td>\n",
       "      <td>57.90</td>\n",
       "      <td>4</td>\n",
       "      <td>57.95</td>\n",
       "      <td>92</td>\n",
       "      <td>0.00</td>\n",
       "    </tr>\n",
       "    <tr>\n",
       "      <th>2</th>\n",
       "      <td>0052</td>\n",
       "      <td>富邦科技</td>\n",
       "      <td>376,802</td>\n",
       "      <td>641</td>\n",
       "      <td>45,553,719</td>\n",
       "      <td>122.40</td>\n",
       "      <td>122.40</td>\n",
       "      <td>120.60</td>\n",
       "      <td>120.60</td>\n",
       "      <td>&lt;p style= color:green&gt;-&lt;/p&gt;</td>\n",
       "      <td>3.20</td>\n",
       "      <td>120.60</td>\n",
       "      <td>12</td>\n",
       "      <td>120.65</td>\n",
       "      <td>56</td>\n",
       "      <td>0.00</td>\n",
       "    </tr>\n",
       "    <tr>\n",
       "      <th>3</th>\n",
       "      <td>0053</td>\n",
       "      <td>元大電子</td>\n",
       "      <td>12,481</td>\n",
       "      <td>46</td>\n",
       "      <td>791,283</td>\n",
       "      <td>64.00</td>\n",
       "      <td>64.00</td>\n",
       "      <td>63.00</td>\n",
       "      <td>63.00</td>\n",
       "      <td>&lt;p style= color:green&gt;-&lt;/p&gt;</td>\n",
       "      <td>1.65</td>\n",
       "      <td>63.00</td>\n",
       "      <td>2</td>\n",
       "      <td>63.20</td>\n",
       "      <td>15</td>\n",
       "      <td>0.00</td>\n",
       "    </tr>\n",
       "    <tr>\n",
       "      <th>4</th>\n",
       "      <td>0054</td>\n",
       "      <td>元大台商50</td>\n",
       "      <td>3,102</td>\n",
       "      <td>25</td>\n",
       "      <td>91,441</td>\n",
       "      <td>29.72</td>\n",
       "      <td>29.72</td>\n",
       "      <td>29.17</td>\n",
       "      <td>29.17</td>\n",
       "      <td>&lt;p style= color:green&gt;-&lt;/p&gt;</td>\n",
       "      <td>0.63</td>\n",
       "      <td>29.17</td>\n",
       "      <td>7</td>\n",
       "      <td>29.31</td>\n",
       "      <td>24</td>\n",
       "      <td>0.00</td>\n",
       "    </tr>\n",
       "  </tbody>\n",
       "</table>\n",
       "</div>"
      ],
      "text/plain": [
       "   證券代號     證券名稱        成交股數    成交筆數           成交金額     開盤價     最高價     最低價  \\\n",
       "0  0050   元大台灣50  26,456,827  58,815  3,486,775,988  133.15  133.15  131.40   \n",
       "1  0051  元大中型100      66,657     240      3,880,057   58.55   58.55   57.90   \n",
       "2  0052     富邦科技     376,802     641     45,553,719  122.40  122.40  120.60   \n",
       "3  0053     元大電子      12,481      46        791,283   64.00   64.00   63.00   \n",
       "4  0054   元大台商50       3,102      25         91,441   29.72   29.72   29.17   \n",
       "\n",
       "      收盤價                      漲跌(+/-)  漲跌價差  最後揭示買價 最後揭示買量  最後揭示賣價 最後揭示賣量  \\\n",
       "0  131.65  <p style= color:green>-</p>  2.75  131.65     54  131.70    112   \n",
       "1   57.90  <p style= color:green>-</p>  1.10   57.90      4   57.95     92   \n",
       "2  120.60  <p style= color:green>-</p>  3.20  120.60     12  120.65     56   \n",
       "3   63.00  <p style= color:green>-</p>  1.65   63.00      2   63.20     15   \n",
       "4   29.17  <p style= color:green>-</p>  0.63   29.17      7   29.31     24   \n",
       "\n",
       "    本益比  \n",
       "0  0.00  \n",
       "1  0.00  \n",
       "2  0.00  \n",
       "3  0.00  \n",
       "4  0.00  "
      ]
     },
     "execution_count": 2,
     "metadata": {},
     "output_type": "execute_result"
    }
   ],
   "source": [
    "date = \"20220315\"\n",
    "url = f'https://www.twse.com.tw/exchangeReport/MI_INDEX?response=json&date={date}&type=ALLBUT0999'\n",
    "response = requests.get(url)\n",
    "response_json = response.json()\n",
    "stockdata = pd.DataFrame(response_json['data9'], columns=response_json['fields9'])\n",
    "origin = stockdata.copy()\n",
    "stockdata.head()"
   ]
  },
  {
   "cell_type": "code",
   "execution_count": 3,
   "id": "baecaa14-1dc9-400d-87e6-408271f0a37d",
   "metadata": {},
   "outputs": [
    {
     "name": "stdout",
     "output_type": "stream",
     "text": [
      "開盤價 :  ['133.15' '58.55' '122.40' ... '14.10' '25.00' '107.00']\n",
      "收盤價 :  ['131.65' '57.90' '120.60' ... '13.90' '22.65' '105.50']\n"
     ]
    }
   ],
   "source": [
    "op = np.array(stockdata.收盤價)\n",
    "cp = np.array(stockdata.開盤價)\n",
    "print(\"開盤價 : \", cp)\n",
    "print(\"收盤價 : \", op)"
   ]
  },
  {
   "cell_type": "code",
   "execution_count": 4,
   "id": "54b445e7-48af-4615-985a-6345c84750dc",
   "metadata": {},
   "outputs": [],
   "source": [
    "op_new=(op!='--')\n",
    "cp_new=(cp!='--')\n",
    "\n",
    "np.where(op=='1,965.00')\n",
    "op[696]='1965'\n",
    "np.where(op=='1,735.00')\n",
    "op[910]='1735'\n",
    "np.where(op=='1,355.00')\n",
    "op[999]='1355'\n",
    "np.where(op=='2,770.00')\n",
    "op[1002]='2770'\n",
    "np.where(op=='1,145.00')\n",
    "op[1053]='1145'\n",
    "\n",
    "np.where(cp=='1,975.00')\n",
    "cp[696]='1975'\n",
    "np.where(cp=='1,065.00')\n",
    "cp[811]='1065'\n",
    "np.where(cp=='1,750.00')\n",
    "cp[910]='1750'\n",
    "np.where(cp=='1,450.00')\n",
    "cp[999]='1450'\n",
    "np.where(cp=='2,770.00')\n",
    "cp[1002]='2770'\n",
    "np.where(cp=='1,000.00')\n",
    "cp[1037]='1000'\n",
    "np.where(cp=='1,245.00')\n",
    "cp[1053]='1245'"
   ]
  },
  {
   "cell_type": "code",
   "execution_count": 5,
   "id": "2d1923a2-1cfb-421a-8af8-a94517cd1075",
   "metadata": {},
   "outputs": [
    {
     "data": {
      "text/plain": [
       "(array([], dtype=int64),)"
      ]
     },
     "execution_count": 5,
     "metadata": {},
     "output_type": "execute_result"
    }
   ],
   "source": [
    "np.where(cp=='1,245.00')"
   ]
  },
  {
   "cell_type": "code",
   "execution_count": 6,
   "id": "dc334138-3994-41ee-9972-28ac90857f4e",
   "metadata": {},
   "outputs": [
    {
     "name": "stderr",
     "output_type": "stream",
     "text": [
      "C:\\Users\\t1078\\AppData\\Local\\Temp/ipykernel_47232/2132909455.py:1: DeprecationWarning: `np.float` is a deprecated alias for the builtin `float`. To silence this warning, use `float` by itself. Doing this will not modify any behavior and is safe. If you specifically wanted the numpy scalar type, use `np.float64` here.\n",
      "Deprecated in NumPy 1.20; for more details and guidance: https://numpy.org/devdocs/release/1.20.0-notes.html#deprecations\n",
      "  op_adj= op[op_new].astype(np.float)\n",
      "C:\\Users\\t1078\\AppData\\Local\\Temp/ipykernel_47232/2132909455.py:2: DeprecationWarning: `np.float` is a deprecated alias for the builtin `float`. To silence this warning, use `float` by itself. Doing this will not modify any behavior and is safe. If you specifically wanted the numpy scalar type, use `np.float64` here.\n",
      "Deprecated in NumPy 1.20; for more details and guidance: https://numpy.org/devdocs/release/1.20.0-notes.html#deprecations\n",
      "  cp_adj= cp[cp_new].astype(np.float)\n"
     ]
    }
   ],
   "source": [
    "op_adj= op[op_new].astype(np.float)\n",
    "cp_adj= cp[cp_new].astype(np.float)"
   ]
  },
  {
   "cell_type": "code",
   "execution_count": 8,
   "id": "c8b70c8e-b15d-4f38-ba8e-6d8673833f1e",
   "metadata": {},
   "outputs": [
    {
     "name": "stdout",
     "output_type": "stream",
     "text": [
      "當日開盤價平均值: 67.18117235345582\n",
      "當日收盤價平均值: 68.79456692913386\n",
      "當日開盤價標準差: 150.57943932823918\n",
      "當日收盤價標準差: 154.55021795449474\n"
     ]
    }
   ],
   "source": [
    "print(\"當日開盤價平均值:\", op_adj.mean())\n",
    "print(\"當日收盤價平均值:\", cp_adj.mean())\n",
    "print(\"當日開盤價標準差:\", op_adj.std())\n",
    "print(\"當日收盤價標準差:\", cp_adj.std())"
   ]
  },
  {
   "cell_type": "code",
   "execution_count": null,
   "id": "8dbf4d80-f6b5-40d8-bfce-5a6ec5739284",
   "metadata": {},
   "outputs": [],
   "source": []
  }
 ],
 "metadata": {
  "kernelspec": {
   "display_name": "Python 3 (ipykernel)",
   "language": "python",
   "name": "python3"
  },
  "language_info": {
   "codemirror_mode": {
    "name": "ipython",
    "version": 3
   },
   "file_extension": ".py",
   "mimetype": "text/x-python",
   "name": "python",
   "nbconvert_exporter": "python",
   "pygments_lexer": "ipython3",
   "version": "3.9.7"
  }
 },
 "nbformat": 4,
 "nbformat_minor": 5
}
